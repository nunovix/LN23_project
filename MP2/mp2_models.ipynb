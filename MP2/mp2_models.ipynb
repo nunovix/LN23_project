{
 "cells": [
  {
   "cell_type": "markdown",
   "metadata": {},
   "source": [
    "## Imports"
   ]
  },
  {
   "cell_type": "code",
   "execution_count": 1,
   "metadata": {},
   "outputs": [],
   "source": [
    "import numpy as np\n",
    "import sklearn.metrics as metrics\n",
    "import matplotlib.pyplot as plt"
   ]
  },
  {
   "cell_type": "markdown",
   "metadata": {},
   "source": [
    "## Load training data"
   ]
  },
  {
   "cell_type": "code",
   "execution_count": 2,
   "metadata": {},
   "outputs": [
    {
     "name": "stdout",
     "output_type": "stream",
     "text": [
      "type(X_emb)--><class 'numpy.ndarray'>\n",
      "type(Xt_emb)--><class 'numpy.ndarray'>\n",
      "type(ys)--><class 'numpy.ndarray'>\n",
      "type(yr)--><class 'numpy.ndarray'>\n",
      "\n",
      "y.shape-->(1400, 2)\n",
      "type(y)--><class 'numpy.ndarray'>\n",
      "\n",
      "X_emb.shape-->(1400, 868, 300)\n",
      "Xt_emb.shape-->(200, 868, 300)\n",
      "ys.shape-->(1400,)\n",
      "yr.shape-->(1400,)\n"
     ]
    }
   ],
   "source": [
    "X_emb = np.load(\"processed_train/X_emb.npy\", allow_pickle=True)\n",
    "Xt_emb = np.load(\"processed_train/Xt_emb.npy\", allow_pickle=True)\n",
    "yr = np.load(\"processed_train/yr.npy\", allow_pickle=True)\n",
    "ys =np.load(\"processed_train/ys.npy\", allow_pickle=True)\n",
    "yr = yr.astype('float64') \n",
    "ys = ys.astype('float64') \n",
    "\n",
    "y = np.concatenate((np.transpose([yr]), np.transpose([ys])), axis=1)\n",
    "\n",
    "print(f\"type(X_emb)-->{type(X_emb)}\")\n",
    "print(f\"type(Xt_emb)-->{type(Xt_emb)}\")\n",
    "print(f\"type(ys)-->{type(ys)}\")\n",
    "print(f\"type(yr)-->{type(yr)}\\n\")\n",
    "\n",
    "print(f\"y.shape-->{y.shape}\")\n",
    "print(f\"type(y)-->{type(y)}\\n\")\n",
    "\n",
    "print(f\"X_emb.shape-->{X_emb.shape}\")\n",
    "print(f\"Xt_emb.shape-->{Xt_emb.shape}\")\n",
    "print(f\"ys.shape-->{ys.shape}\")\n",
    "print(f\"yr.shape-->{yr.shape}\")"
   ]
  },
  {
   "cell_type": "code",
   "execution_count": null,
   "metadata": {},
   "outputs": [],
   "source": []
  },
  {
   "cell_type": "markdown",
   "metadata": {},
   "source": [
    "## LSTM"
   ]
  },
  {
   "cell_type": "code",
   "execution_count": 3,
   "metadata": {},
   "outputs": [
    {
     "name": "stderr",
     "output_type": "stream",
     "text": [
      "2023-10-27 00:08:16.016786: I tensorflow/core/platform/cpu_feature_guard.cc:193] This TensorFlow binary is optimized with oneAPI Deep Neural Network Library (oneDNN) to use the following CPU instructions in performance-critical operations:  SSE4.1 SSE4.2 AVX AVX2 FMA\n",
      "To enable them in other operations, rebuild TensorFlow with the appropriate compiler flags.\n",
      "2023-10-27 00:08:27.896369: I tensorflow/core/platform/cpu_feature_guard.cc:193] This TensorFlow binary is optimized with oneAPI Deep Neural Network Library (oneDNN) to use the following CPU instructions in performance-critical operations:  SSE4.1 SSE4.2 AVX AVX2 FMA\n",
      "To enable them in other operations, rebuild TensorFlow with the appropriate compiler flags.\n"
     ]
    },
    {
     "name": "stdout",
     "output_type": "stream",
     "text": [
      "Model: \"sequential\"\n",
      "_________________________________________________________________\n",
      " Layer (type)                Output Shape              Param #   \n",
      "=================================================================\n",
      " bidirectional (Bidirectiona  (None, 128)              186880    \n",
      " l)                                                              \n",
      "                                                                 \n",
      " dense (Dense)               (None, 24)                3096      \n",
      "                                                                 \n",
      " dense_1 (Dense)             (None, 2)                 50        \n",
      "                                                                 \n",
      "=================================================================\n",
      "Total params: 190,026\n",
      "Trainable params: 190,026\n",
      "Non-trainable params: 0\n",
      "_________________________________________________________________\n"
     ]
    }
   ],
   "source": [
    "# https://www.analyticsvidhya.com/blog/2022/01/sentiment-analysis-with-lstm/\n",
    "\n",
    "from keras.models import Sequential\n",
    "from keras.layers import Input, LSTM, Dense, Bidirectional\n",
    "from keras.optimizers import Adam\n",
    "\n",
    "import keras.backend as K\n",
    "from sklearn.model_selection import train_test_split\n",
    "\n",
    "X_train, X_val, y_train, y_val = train_test_split(X_emb, y, test_size=0.1, shuffle= True, random_state=42)\n",
    "\n",
    "\n",
    "# model initialization\n",
    "model = Sequential()\n",
    "model.add(Bidirectional(LSTM(64), input_shape = (X_emb.shape[1], X_emb.shape[2])))\n",
    "model.add(Dense(24, activation='relu'))\n",
    "model.add(Dense(2, activation='sigmoid'))\n",
    "\n",
    "# compile model\n",
    "model.compile(loss='binary_crossentropy',\n",
    "              #optimizer='adam',\n",
    "              optimizer=Adam(learning_rate=1e-3),\n",
    "              metrics=['accuracy'])\n",
    "# model summary\n",
    "#model.build(input_shape = (64, X_emb.shape[1], X_emb.shape[2]))\n",
    "model.summary()"
   ]
  },
  {
   "cell_type": "code",
   "execution_count": 4,
   "metadata": {},
   "outputs": [
    {
     "name": "stdout",
     "output_type": "stream",
     "text": [
      "Epoch 1/50\n",
      "40/40 [==============================] - 72s 2s/step - loss: 0.6530 - accuracy: 0.6000 - val_loss: 0.6693 - val_accuracy: 0.4000 - lr: 0.0010\n",
      "Epoch 2/50\n",
      "40/40 [==============================] - 62s 2s/step - loss: 0.5826 - accuracy: 0.5921 - val_loss: 0.6627 - val_accuracy: 0.3929 - lr: 0.0010\n",
      "Epoch 3/50\n",
      "40/40 [==============================] - 33s 834ms/step - loss: 0.5746 - accuracy: 0.6389 - val_loss: 0.5482 - val_accuracy: 0.6929 - lr: 0.0010\n",
      "Epoch 4/50\n",
      "40/40 [==============================] - 34s 848ms/step - loss: 0.4906 - accuracy: 0.7056 - val_loss: 0.4508 - val_accuracy: 0.8786 - lr: 0.0010\n",
      "Epoch 5/50\n",
      "40/40 [==============================] - 34s 855ms/step - loss: 0.5382 - accuracy: 0.6611 - val_loss: 0.5317 - val_accuracy: 0.7000 - lr: 0.0010\n",
      "Epoch 6/50\n",
      "40/40 [==============================] - ETA: 0s - loss: 0.4716 - accuracy: 0.6706\n",
      "Epoch 6: ReduceLROnPlateau reducing learning rate to 0.0009000000427477062.\n",
      "40/40 [==============================] - 39s 969ms/step - loss: 0.4716 - accuracy: 0.6706 - val_loss: 0.4825 - val_accuracy: 0.6857 - lr: 0.0010\n",
      "Epoch 7/50\n",
      "40/40 [==============================] - 33s 825ms/step - loss: 0.3820 - accuracy: 0.7302 - val_loss: 0.5309 - val_accuracy: 0.4357 - lr: 9.0000e-04\n",
      "Epoch 8/50\n",
      "40/40 [==============================] - 33s 828ms/step - loss: 0.3363 - accuracy: 0.7603 - val_loss: 0.3370 - val_accuracy: 0.8357 - lr: 9.0000e-04\n",
      "Epoch 9/50\n",
      "40/40 [==============================] - 34s 848ms/step - loss: 0.2736 - accuracy: 0.7952 - val_loss: 0.3419 - val_accuracy: 0.8286 - lr: 9.0000e-04\n",
      "Epoch 10/50\n",
      "40/40 [==============================] - 35s 877ms/step - loss: 0.2335 - accuracy: 0.7794 - val_loss: 0.3072 - val_accuracy: 0.8429 - lr: 9.0000e-04\n",
      "Epoch 11/50\n",
      "40/40 [==============================] - 47s 1s/step - loss: 0.2732 - accuracy: 0.7913 - val_loss: 0.2855 - val_accuracy: 0.8357 - lr: 9.0000e-04\n",
      "Epoch 12/50\n",
      "40/40 [==============================] - 58s 1s/step - loss: 0.2032 - accuracy: 0.8032 - val_loss: 0.2964 - val_accuracy: 0.7857 - lr: 9.0000e-04\n",
      "Epoch 13/50\n",
      "40/40 [==============================] - ETA: 0s - loss: 0.1758 - accuracy: 0.8016\n",
      "Epoch 13: ReduceLROnPlateau reducing learning rate to 0.0008100000384729356.\n",
      "40/40 [==============================] - 56s 1s/step - loss: 0.1758 - accuracy: 0.8016 - val_loss: 0.3275 - val_accuracy: 0.6571 - lr: 9.0000e-04\n",
      "Epoch 14/50\n",
      "40/40 [==============================] - 58s 1s/step - loss: 0.1485 - accuracy: 0.7881 - val_loss: 0.2687 - val_accuracy: 0.8214 - lr: 8.1000e-04\n",
      "Epoch 15/50\n",
      "40/40 [==============================] - 73s 2s/step - loss: 0.1368 - accuracy: 0.8119 - val_loss: 0.2879 - val_accuracy: 0.8286 - lr: 8.1000e-04\n",
      "Epoch 16/50\n",
      "40/40 [==============================] - ETA: 0s - loss: 0.1585 - accuracy: 0.7889\n",
      "Epoch 16: ReduceLROnPlateau reducing learning rate to 0.0007290000503417104.\n",
      "40/40 [==============================] - 46s 1s/step - loss: 0.1585 - accuracy: 0.7889 - val_loss: 0.2909 - val_accuracy: 0.7643 - lr: 8.1000e-04\n",
      "Epoch 17/50\n",
      "40/40 [==============================] - 39s 973ms/step - loss: 0.1078 - accuracy: 0.7952 - val_loss: 0.3242 - val_accuracy: 0.7500 - lr: 7.2900e-04\n",
      "Epoch 18/50\n",
      "40/40 [==============================] - ETA: 0s - loss: 0.0885 - accuracy: 0.7992\n",
      "Epoch 18: ReduceLROnPlateau reducing learning rate to 0.0006561000715009868.\n",
      "40/40 [==============================] - 39s 980ms/step - loss: 0.0885 - accuracy: 0.7992 - val_loss: 0.3125 - val_accuracy: 0.8143 - lr: 7.2900e-04\n",
      "Epoch 19/50\n",
      "40/40 [==============================] - 48s 1s/step - loss: 0.0701 - accuracy: 0.8095 - val_loss: 0.3223 - val_accuracy: 0.7714 - lr: 6.5610e-04\n",
      "Epoch 20/50\n",
      "40/40 [==============================] - ETA: 0s - loss: 0.0637 - accuracy: 0.7881\n",
      "Epoch 20: ReduceLROnPlateau reducing learning rate to 0.0005904900433961303.\n",
      "40/40 [==============================] - 54s 1s/step - loss: 0.0637 - accuracy: 0.7881 - val_loss: 0.3902 - val_accuracy: 0.6929 - lr: 6.5610e-04\n",
      "Epoch 21/50\n",
      "40/40 [==============================] - 51s 1s/step - loss: 0.0589 - accuracy: 0.8246 - val_loss: 0.4005 - val_accuracy: 0.7286 - lr: 5.9049e-04\n",
      "Epoch 22/50\n",
      "40/40 [==============================] - ETA: 0s - loss: 0.0624 - accuracy: 0.7817Restoring model weights from the end of the best epoch: 14.\n",
      "\n",
      "Epoch 22: ReduceLROnPlateau reducing learning rate to 0.0005314410547725857.\n",
      "40/40 [==============================] - 42s 1s/step - loss: 0.0624 - accuracy: 0.7817 - val_loss: 0.3565 - val_accuracy: 0.8214 - lr: 5.9049e-04\n",
      "Epoch 22: early stopping\n"
     ]
    }
   ],
   "source": [
    "from keras.callbacks import EarlyStopping\n",
    "from keras.callbacks import ReduceLROnPlateau\n",
    "\n",
    "es = EarlyStopping(monitor='val_loss', mode='min', verbose=5, patience=8, restore_best_weights=True)\n",
    "\n",
    "cb_plateau = ReduceLROnPlateau(\n",
    "    monitor=\"val_loss\",\n",
    "    factor=0.9,\n",
    "    patience=2,\n",
    "    verbose=1,\n",
    "    mode=\"auto\",\n",
    "    min_delta=0.001,\n",
    "    cooldown=0,\n",
    "    min_lr=1e-4,\n",
    ")\n",
    "\n",
    "bf = model.fit(x=X_train, y=y_train, validation_data = (X_val, y_val), epochs=50, batch_size=32, callbacks=[es, cb_plateau] )"
   ]
  },
  {
   "cell_type": "markdown",
   "metadata": {},
   "source": [
    "### Metrics"
   ]
  },
  {
   "cell_type": "code",
   "execution_count": 5,
   "metadata": {},
   "outputs": [
    {
     "name": "stdout",
     "output_type": "stream",
     "text": [
      "5/5 [==============================] - 2s 293ms/step - loss: 0.2687 - accuracy: 0.8214\n",
      "[0.2686738967895508, 0.8214285969734192]\n"
     ]
    }
   ],
   "source": [
    "# best epoch obtained\n",
    "results_test = model.evaluate(X_val, y_val)\n",
    "print(results_test)"
   ]
  },
  {
   "cell_type": "code",
   "execution_count": 6,
   "metadata": {},
   "outputs": [
    {
     "name": "stdout",
     "output_type": "stream",
     "text": [
      "5/5 [==============================] - 3s 300ms/step\n",
      "              precision    recall  f1-score   support\n",
      "\n",
      "        real       0.88      0.90      0.89        81\n",
      "   sentiment       0.92      0.91      0.92        66\n",
      "\n",
      "   micro avg       0.90      0.90      0.90       147\n",
      "   macro avg       0.90      0.91      0.90       147\n",
      "weighted avg       0.90      0.90      0.90       147\n",
      " samples avg       0.71      0.71      0.70       147\n",
      "\n",
      "[[[49 10]\n",
      "  [ 8 73]]\n",
      "\n",
      " [[69  5]\n",
      "  [ 6 60]]]\n"
     ]
    },
    {
     "name": "stderr",
     "output_type": "stream",
     "text": [
      "/Users/nunomachado/opt/anaconda3/envs/LN23/lib/python3.8/site-packages/sklearn/metrics/_classification.py:1344: UndefinedMetricWarning: Precision and F-score are ill-defined and being set to 0.0 in samples with no predicted labels. Use `zero_division` parameter to control this behavior.\n",
      "  _warn_prf(average, modifier, msg_start, len(result))\n",
      "/Users/nunomachado/opt/anaconda3/envs/LN23/lib/python3.8/site-packages/sklearn/metrics/_classification.py:1344: UndefinedMetricWarning: Recall and F-score are ill-defined and being set to 0.0 in samples with no true labels. Use `zero_division` parameter to control this behavior.\n",
      "  _warn_prf(average, modifier, msg_start, len(result))\n"
     ]
    }
   ],
   "source": [
    "# summary of the model applied to the validation set\n",
    "y_preds = model.predict(X_val)\n",
    "\n",
    "for i in range(len(y_preds)):\n",
    "    for j in range(len(y_preds[i])):\n",
    "        if y_preds[i,j] > 0.5:\n",
    "            y_preds[i,j] = 1\n",
    "        else:\n",
    "            y_preds[i,j] = 0\n",
    "\n",
    "print(metrics.classification_report(y_val, y_preds, target_names=['real', 'sentiment']))\n",
    "\n",
    "print(metrics.multilabel_confusion_matrix(y_val, y_preds))\n",
    "\n",
    "\n",
    "# saving sentiment predictions"
   ]
  },
  {
   "cell_type": "markdown",
   "metadata": {},
   "source": [
    "Checking data"
   ]
  },
  {
   "cell_type": "code",
   "execution_count": 7,
   "metadata": {},
   "outputs": [
    {
     "data": {
      "text/plain": [
       "<function matplotlib.pyplot.show(close=None, block=None)>"
      ]
     },
     "execution_count": 7,
     "metadata": {},
     "output_type": "execute_result"
    },
    {
     "data": {
      "image/png": "[encoded data removed]",
      "text/plain": [
       "<Figure size 640x480 with 1 Axes>"
      ]
     },
     "metadata": {},
     "output_type": "display_data"
    }
   ],
   "source": [
    "loss = bf.history['loss']\n",
    "val_loss = bf.history['val_loss']\n",
    "epochs = range(1, len(loss) + 1)\n",
    "\n",
    "plt.plot(epochs, loss, 'r', label = 'Training set')\n",
    "plt.plot(epochs, val_loss, 'b', label = 'Validation set')\n",
    "plt.xlabel('Epochs')\n",
    "plt.ylabel('Loss')\n",
    "plt.legend()\n",
    "plt.show"
   ]
  },
  {
   "cell_type": "code",
   "execution_count": 8,
   "metadata": {},
   "outputs": [
    {
     "data": {
      "text/plain": [
       "<function matplotlib.pyplot.show(close=None, block=None)>"
      ]
     },
     "execution_count": 8,
     "metadata": {},
     "output_type": "execute_result"
    },
    {
     "data": {
      "image/png": "[encoded data removed]",
      "text/plain": [
       "<Figure size 640x480 with 1 Axes>"
      ]
     },
     "metadata": {},
     "output_type": "display_data"
    }
   ],
   "source": [
    "loss = bf.history['accuracy']\n",
    "val_loss = bf.history['val_accuracy']\n",
    "epochs = range(1, len(loss) + 1)\n",
    "\n",
    "\n",
    "plt.plot(epochs, loss, 'r', label = 'Training set')\n",
    "plt.plot(epochs, val_loss, 'b', label = 'Validation set')\n",
    "plt.xlabel('Epochs')\n",
    "plt.ylabel('Accuracy')\n",
    "plt.legend()\n",
    "plt.show"
   ]
  },
  {
   "cell_type": "markdown",
   "metadata": {},
   "source": [
    "## Test set results"
   ]
  },
  {
   "cell_type": "code",
   "execution_count": 20,
   "metadata": {},
   "outputs": [
    {
     "name": "stdout",
     "output_type": "stream",
     "text": [
      "7/7 [==============================] - 5s 646ms/step\n"
     ]
    }
   ],
   "source": [
    "yt = model.predict(Xt_emb)\n",
    "\n",
    "for i in range(len(yt)):\n",
    "    for j in range(len(yt[i])):\n",
    "        if yt[i,j] > 0.5:\n",
    "            yt[i,j] = int(1)\n",
    "        else:\n",
    "            yt[i,j] = int(0)\n",
    "\n",
    "yt = np.array(yt, dtype=int)"
   ]
  },
  {
   "cell_type": "code",
   "execution_count": 31,
   "metadata": {},
   "outputs": [],
   "source": [
    "yt_labels = []\n",
    "for i in range(len(yt)):\n",
    "    label = ''\n",
    "    # deceptivenesss labeling\n",
    "    if yt[i,0] == 1:\n",
    "        label += 'TRUTHFUL'\n",
    "    else:\n",
    "        label += 'DECEPTIVE'\n",
    "    \n",
    "    # sentiment labeling\n",
    "    if yt[i,1] == 1:\n",
    "        label += 'POSITIVE'\n",
    "    else:\n",
    "        label += 'NEGATIVE'\n",
    "    \n",
    "    yt_labels.append(label)\n"
   ]
  },
  {
   "cell_type": "code",
   "execution_count": 36,
   "metadata": {},
   "outputs": [
    {
     "name": "stdout",
     "output_type": "stream",
     "text": [
      "len(yt_labels)-->200\n"
     ]
    }
   ],
   "source": [
    "print(f\"len(yt_labels)-->{len(yt_labels)}\")\n",
    "\n",
    "with open(\"named results.txt\", \"w\") as txt_file:\n",
    "    for line in yt_labels:\n",
    "        txt_file.write(line + \"\\n\") # works with any number of elements in a line"
   ]
  },
  {
   "cell_type": "code",
   "execution_count": null,
   "metadata": {},
   "outputs": [],
   "source": []
  },
  {
   "cell_type": "code",
   "execution_count": null,
   "metadata": {},
   "outputs": [],
   "source": []
  }
 ],
 "metadata": {
  "kernelspec": {
   "display_name": "LN23",
   "language": "python",
   "name": "python3"
  },
  "language_info": {
   "codemirror_mode": {
    "name": "ipython",
    "version": 3
   },
   "file_extension": ".py",
   "mimetype": "text/x-python",
   "name": "python",
   "nbconvert_exporter": "python",
   "pygments_lexer": "ipython3",
   "version": "3.8.18"
  }
 },
 "nbformat": 4,
 "nbformat_minor": 2
}
