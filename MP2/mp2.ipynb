{
 "cells": [
  {
   "cell_type": "markdown",
   "metadata": {},
   "source": [
    "# Imports"
   ]
  },
  {
   "cell_type": "code",
   "execution_count": 58,
   "metadata": {},
   "outputs": [
    {
     "name": "stderr",
     "output_type": "stream",
     "text": [
      "[nltk_data] Downloading package stopwords to\n",
      "[nltk_data]     /Users/nunomachado/nltk_data...\n",
      "[nltk_data]   Package stopwords is already up-to-date!\n",
      "[nltk_data] Downloading package wordnet to\n",
      "[nltk_data]     /Users/nunomachado/nltk_data...\n",
      "[nltk_data]   Package wordnet is already up-to-date!\n"
     ]
    }
   ],
   "source": [
    "import pandas as pd\n",
    "import numpy as np\n",
    "import matplotlib.pyplot as plt\n",
    "import nltk\n",
    "import string\n",
    "\n",
    "# import GloVe - for word embedding\n",
    "from torchtext.vocab import GloVe\n",
    "global_vectors = GloVe(name='840B', dim=300)\n",
    "\n",
    "# tokenizer\n",
    "from torchtext.data import get_tokenizer\n",
    "\n",
    "# stop word removal\n",
    "nltk.download('stopwords')\n",
    "from nltk.corpus import stopwords\n",
    "\n",
    "# lemmazation\n",
    "from nltk.stem import WordNetLemmatizer\n",
    "nltk.download('wordnet')\n",
    "\n",
    "# models\n",
    "import sklearn.metrics as metrics\n",
    "from sklearn.model_selection import train_test_split\n",
    "\n",
    "# tf-idf and svm\n",
    "from sklearn.feature_extraction.text import TfidfVectorizer\n",
    "from sklearn.svm import SVC"
   ]
  },
  {
   "cell_type": "markdown",
   "metadata": {},
   "source": [
    "# Data pre-pocessing"
   ]
  },
  {
   "cell_type": "markdown",
   "metadata": {},
   "source": [
    "Reading data from txt"
   ]
  },
  {
   "cell_type": "code",
   "execution_count": 2,
   "metadata": {},
   "outputs": [
    {
     "name": "stdout",
     "output_type": "stream",
     "text": [
      "                                                 Review   Realness Sentiment\n",
      "0     The sheraton was a wonderful hotel! When me an...   TRUTHFUL  POSITIVE\n",
      "1     We stayed at the Omni between Christmas and Ne...   TRUTHFUL  POSITIVE\n",
      "2     I was REALLY looking forward to a nice relaxin...  DECEPTIVE  NEGATIVE\n",
      "3     First let me say, I try not to be too critical...   TRUTHFUL  NEGATIVE\n",
      "4     The Ambassador East Hotel is a terrible place ...  DECEPTIVE  NEGATIVE\n",
      "...                                                 ...        ...       ...\n",
      "1395  I stayed here for 5 nights last summer. I book...   TRUTHFUL  NEGATIVE\n",
      "1396  Stayed here for 3 nights for a Bridgestone/Fir...   TRUTHFUL  POSITIVE\n",
      "1397  I am staying here now and actually am compelle...   TRUTHFUL  NEGATIVE\n",
      "1398  We stayed at this hotel with our two teenage d...   TRUTHFUL  NEGATIVE\n",
      "1399  The rooms were beautiful! The staff was friend...  DECEPTIVE  POSITIVE\n",
      "\n",
      "[1400 rows x 3 columns]\n"
     ]
    }
   ],
   "source": [
    "df = pd.read_csv('train.txt', delimiter='\\t', header=None, names=[\"Label\", \"Review\"])\n",
    "df_test = pd.read_csv('test_just_reviews.txt', delimiter='\\t', header=None, names=[\"Review\"])\n",
    "\n",
    "#separating the labels into real/fake and positive/negative\n",
    "df['Realness'] = df['Label'].str[:-8]\n",
    "df['Sentiment'] = df['Label'].str[-8:]\n",
    "df = df.drop('Label', axis=1)\n",
    "\n",
    "# remove capitalized letters\n",
    "#df['Review'] = df['Review'].str.lower()\n",
    "#df['Review'] = tokenizer(df['Review'])\n",
    "data = df.to_numpy()\n",
    "Xt = df_test.to_numpy()[:,0]\n",
    "\n",
    "X = data[:,0]\n",
    "yr = data[:,1]\n",
    "ys = data[:,2]\n",
    "print(df)"
   ]
  },
  {
   "cell_type": "markdown",
   "metadata": {},
   "source": [
    "### pre processign functions"
   ]
  },
  {
   "cell_type": "markdown",
   "metadata": {},
   "source": [
    "for stats"
   ]
  },
  {
   "cell_type": "code",
   "execution_count": 3,
   "metadata": {},
   "outputs": [],
   "source": [
    "# takes array of reviews and prints statistics about both it\n",
    "def reviews_stats(X, stop_word_rm = False, punctuation_rm = False):\n",
    "    tam = []\n",
    "\n",
    "    #tokenizing\n",
    "    tokenizer = get_tokenizer(\"basic_english\") \n",
    "    X = [tokenizer(x) for x in X]\n",
    "\n",
    "    # stop words\n",
    "    stop_words = set(stopwords.words('english'))\n",
    "\n",
    "    if stop_word_rm == True:\n",
    "\n",
    "        X_stop = []\n",
    "        for x in X:\n",
    "            X_stop.append([i for i in x if i not in stop_words])\n",
    "\n",
    "        X = X_stop\n",
    "\n",
    "    if punctuation_rm == True:\n",
    "\n",
    "        X_stop = []\n",
    "        for x in X:\n",
    "            X_stop.append([i for i in x if i not in string.punctuation])\n",
    "            \n",
    "        X = X_stop\n",
    "\n",
    "    #getting max numer of tokens in one review\n",
    "    tam = []\n",
    "    for x in X:\n",
    "        tam.append(len(x))\n",
    "\n",
    "    tam = np.array(tam)\n",
    "    \n",
    "\n",
    "    print(f\"----- stats -----\")\n",
    "\n",
    "    print(f\"tam_min-->{np.min(tam)}\")\n",
    "    print(f\"tam_MAX-->{np.max(tam)}\")\n",
    "    print(f\"tam_avg-->{np.average(tam)}\")\n",
    "    print(f\"tam_median-->{np.median(tam)}\")\n",
    "\n",
    "    # distribuição do numero de palavras por review\n",
    "    plt.hist(tam)\n",
    "    plt.show()\n",
    "\n",
    "    return tam, np.max(tam)"
   ]
  },
  {
   "cell_type": "markdown",
   "metadata": {},
   "source": [
    "for the actual preprocessing"
   ]
  },
  {
   "cell_type": "code",
   "execution_count": 56,
   "metadata": {},
   "outputs": [],
   "source": [
    "# Function that pre processes array of reviews\n",
    "# if boolean=False it's a simple pre-processing (tokenization, padding and embedding)\n",
    "# if false, lemmazation and stop word and pucntuation removal are also performed\n",
    "def pp_x(X, stop_word_rm = True, lemma = True, max_words = 380, emb = True):\n",
    "\n",
    "    #tokenizing\n",
    "    tokenizer = get_tokenizer(\"basic_english\") \n",
    "    X = [tokenizer(x) for x in X]\n",
    "\n",
    "    #print(f\"after tokenization: X[0]-->{X[0]}\")\n",
    "\n",
    "    if lemma == True:\n",
    "\n",
    "        # lemmazation\n",
    "        wnl = WordNetLemmatizer()\n",
    "\n",
    "        # apply lemmazation\n",
    "        X_l = []\n",
    "        for x in X:\n",
    "            X_l.append([wnl.lemmatize(i) for i in x])\n",
    "\n",
    "        X = X_l\n",
    "\n",
    "    if stop_word_rm == True:\n",
    "\n",
    "        # stop word removal (and punctuation)\n",
    "        stop_words = set(stopwords.words('english'))\n",
    "\n",
    "        # apply both stop word removal and lemmazation\n",
    "        X_stop = []\n",
    "        for x in X:\n",
    "            X_stop.append([i for i in x if i not in stop_words and i not in string.punctuation])\n",
    "\n",
    "        X = X_stop\n",
    "\n",
    "    #print(f\"after stop word and lemma: X_stop[0]-->{X_stop[0]}\")\n",
    "    print(f\"max_words-->{max_words}\")\n",
    "    #print(f\"type(X_stop[0])-->{type(X_stop[0])}\")\n",
    "\n",
    "    #padding\n",
    "    X = [tokens+[\"\"] * (max_words-len(tokens))  if len(tokens)<max_words else tokens[:max_words] for tokens in X]\n",
    "\n",
    "    #print(f\"after padding: X_stop[0]-->{X_stop[0]}\")\n",
    "\n",
    "    if emb == True:\n",
    "        #embeddings\n",
    "        X_emb = []\n",
    "        for token in X:\n",
    "            # tokenize and use glove word embedding\n",
    "            X_emb.append(np.array(global_vectors.get_vecs_by_tokens(token)))\n",
    "\n",
    "        X = np.array(X_emb)\n",
    "\n",
    "        #print(f\"after embedding: X_emb[0]-->{X_emb[0]}\")\n",
    "        print(f\"X_emb.shape-->{X.shape}\")\n",
    "\n",
    "    return X"
   ]
  },
  {
   "cell_type": "code",
   "execution_count": 5,
   "metadata": {},
   "outputs": [
    {
     "name": "stdout",
     "output_type": "stream",
     "text": [
      "----- stats -----\n",
      "tam_min-->28\n",
      "tam_MAX-->864\n",
      "tam_avg-->168.855\n",
      "tam_median-->145.0\n"
     ]
    },
    {
     "data": {
      "image/png": "[encoded data removed]",
      "text/plain": [
       "<Figure size 640x480 with 1 Axes>"
      ]
     },
     "metadata": {},
     "output_type": "display_data"
    },
    {
     "name": "stdout",
     "output_type": "stream",
     "text": [
      "----- stats -----\n",
      "tam_min-->39\n",
      "tam_MAX-->868\n",
      "tam_avg-->169.495\n",
      "tam_median-->148.5\n"
     ]
    },
    {
     "data": {
      "image/png": "[encoded data removed]",
      "text/plain": [
       "<Figure size 640x480 with 1 Axes>"
      ]
     },
     "metadata": {},
     "output_type": "display_data"
    },
    {
     "name": "stdout",
     "output_type": "stream",
     "text": [
      "--\n",
      "----- stats -----\n",
      "tam_min-->13\n",
      "tam_MAX-->380\n",
      "tam_avg-->73.12\n",
      "tam_median-->63.0\n"
     ]
    },
    {
     "data": {
      "image/png": "[encoded data removed]",
      "text/plain": [
       "<Figure size 640x480 with 1 Axes>"
      ]
     },
     "metadata": {},
     "output_type": "display_data"
    },
    {
     "name": "stdout",
     "output_type": "stream",
     "text": [
      "--\n"
     ]
    }
   ],
   "source": [
    "reviews_stats(X)\n",
    "reviews_stats(Xt)\n",
    "print(\"--\")\n",
    "X_all = np.concatenate((X,Xt), axis=0)\n",
    "reviews_stats(X_all, True, True)\n",
    "print(\"--\")"
   ]
  },
  {
   "cell_type": "code",
   "execution_count": 60,
   "metadata": {},
   "outputs": [
    {
     "name": "stdout",
     "output_type": "stream",
     "text": [
      "max_words-->380\n",
      "X_emb.shape-->(1400, 380, 300)\n",
      "max_words-->380\n",
      "X_emb.shape-->(200, 380, 300)\n",
      "max_words-->868\n",
      "X_emb.shape-->(1400, 868, 300)\n",
      "max_words-->868\n",
      "X_emb.shape-->(200, 868, 300)\n"
     ]
    }
   ],
   "source": [
    "X_pp = pp_x(X, stop_word_rm = True, lemma = True, max_words = 380, emb = True)\n",
    "Xt_pp = pp_x(Xt, stop_word_rm = True, lemma = True, max_words = 380, emb = True)\n",
    "\n",
    "X_emb = pp_x(X, stop_word_rm = False, lemma = True, max_words = 868, emb = True)\n",
    "Xt_emb =  pp_x(Xt, stop_word_rm = False, lemma = True, max_words = 868, emb = True)"
   ]
  },
  {
   "cell_type": "markdown",
   "metadata": {},
   "source": [
    "labels preprocessing"
   ]
  },
  {
   "cell_type": "code",
   "execution_count": 7,
   "metadata": {},
   "outputs": [],
   "source": [
    "# simple conversion to 0'a and 1's for the\n",
    "# deceptivness (1=truthful) and sentiment (1=positive)\n",
    "for i in range(len(ys)):\n",
    "    if ys[i] == \"POSITIVE\":\n",
    "        ys[i] = 1\n",
    "    else:\n",
    "        ys[i] = 0\n",
    "\n",
    "    if yr[i] == \"TRUTHFUL\":\n",
    "        yr[i] = 1\n",
    "    else:\n",
    "        yr[i] = 0\n",
    "\n",
    "ys = np.array(ys)\n",
    "yr = np.array(yr)"
   ]
  },
  {
   "cell_type": "markdown",
   "metadata": {},
   "source": [
    "testing dimensions"
   ]
  },
  {
   "cell_type": "code",
   "execution_count": 8,
   "metadata": {},
   "outputs": [
    {
     "name": "stdout",
     "output_type": "stream",
     "text": [
      "type(X_emb)--><class 'numpy.ndarray'>\n",
      "type(Xt_emb)--><class 'numpy.ndarray'>\n",
      "type(ys)--><class 'numpy.ndarray'>\n",
      "type(yr)--><class 'numpy.ndarray'>\n",
      "\n",
      "X_emb.shape-->(1400, 868, 300)\n",
      "Xt_emb.shape-->(200, 868, 300)\n",
      "ys.shape-->(1400,)\n",
      "yr.shape-->(1400,)\n"
     ]
    }
   ],
   "source": [
    "print(f\"type(X_emb)-->{type(X_emb)}\")\n",
    "print(f\"type(Xt_emb)-->{type(Xt_emb)}\")\n",
    "print(f\"type(ys)-->{type(ys)}\")\n",
    "print(f\"type(yr)-->{type(yr)}\\n\")\n",
    "\n",
    "print(f\"X_emb.shape-->{X_emb.shape}\")\n",
    "print(f\"Xt_emb.shape-->{Xt_emb.shape}\")\n",
    "print(f\"ys.shape-->{ys.shape}\")\n",
    "print(f\"yr.shape-->{yr.shape}\")"
   ]
  },
  {
   "cell_type": "code",
   "execution_count": 61,
   "metadata": {},
   "outputs": [],
   "source": [
    "# delete cache\n",
    "#del(global_vectors)\n",
    "#save processed numpy arrays\n",
    "np.save(\"./processed_train/X_emb.npy\", X_emb)\n",
    "np.save(\"./processed_train/Xt_emb.npy\", Xt_emb)\n",
    "np.save(\"./processed_train/ys.npy\", ys)\n",
    "np.save(\"./processed_train/yr.npy\", yr)\n",
    "\n",
    "## more pre processed, lemmazation and stop word removal\n",
    "np.save(\"./processed_train/X_pp.npy\", X_pp)\n",
    "np.save(\"./processed_train/Xt_pp.npy\", Xt_pp)"
   ]
  },
  {
   "cell_type": "markdown",
   "metadata": {},
   "source": [
    "# Models"
   ]
  },
  {
   "cell_type": "markdown",
   "metadata": {},
   "source": [
    "## Load training data"
   ]
  },
  {
   "cell_type": "code",
   "execution_count": 62,
   "metadata": {},
   "outputs": [
    {
     "name": "stdout",
     "output_type": "stream",
     "text": [
      "type(X_emb)--><class 'numpy.ndarray'>\n",
      "type(Xt_emb)--><class 'numpy.ndarray'>\n",
      "type(ys)--><class 'numpy.ndarray'>\n",
      "type(yr)--><class 'numpy.ndarray'>\n",
      "\n",
      "y.shape-->(1400, 2)\n",
      "type(y)--><class 'numpy.ndarray'>\n",
      "\n",
      "X_emb.shape-->(1400, 868, 300)\n",
      "Xt_emb.shape-->(200, 868, 300)\n",
      "ys.shape-->(1400,)\n",
      "yr.shape-->(1400,)\n"
     ]
    }
   ],
   "source": [
    "X_emb = np.load(\"processed_train/X_emb.npy\", allow_pickle=True)\n",
    "Xt_emb = np.load(\"processed_train/Xt_emb.npy\", allow_pickle=True)\n",
    "yr = np.load(\"processed_train/yr.npy\", allow_pickle=True)\n",
    "ys =np.load(\"processed_train/ys.npy\", allow_pickle=True)\n",
    "yr = yr.astype('float64') \n",
    "ys = ys.astype('float64') \n",
    "\n",
    "y = np.concatenate((np.transpose([yr]), np.transpose([ys])), axis=1)\n",
    "\n",
    "print(f\"type(X_emb)-->{type(X_emb)}\")\n",
    "print(f\"type(Xt_emb)-->{type(Xt_emb)}\")\n",
    "print(f\"type(ys)-->{type(ys)}\")\n",
    "print(f\"type(yr)-->{type(yr)}\\n\")\n",
    "\n",
    "print(f\"y.shape-->{y.shape}\")\n",
    "print(f\"type(y)-->{type(y)}\\n\")\n",
    "\n",
    "print(f\"X_emb.shape-->{X_emb.shape}\")\n",
    "print(f\"Xt_emb.shape-->{Xt_emb.shape}\")\n",
    "print(f\"ys.shape-->{ys.shape}\")\n",
    "print(f\"yr.shape-->{yr.shape}\")"
   ]
  },
  {
   "cell_type": "markdown",
   "metadata": {},
   "source": [
    "## LSTM"
   ]
  },
  {
   "cell_type": "code",
   "execution_count": 63,
   "metadata": {},
   "outputs": [
    {
     "name": "stdout",
     "output_type": "stream",
     "text": [
      "Model: \"sequential_1\"\n",
      "_________________________________________________________________\n",
      " Layer (type)                Output Shape              Param #   \n",
      "=================================================================\n",
      " bidirectional_1 (Bidirectio  (None, 128)              186880    \n",
      " nal)                                                            \n",
      "                                                                 \n",
      " dense_2 (Dense)             (None, 24)                3096      \n",
      "                                                                 \n",
      " dense_3 (Dense)             (None, 1)                 25        \n",
      "                                                                 \n",
      "=================================================================\n",
      "Total params: 190,001\n",
      "Trainable params: 190,001\n",
      "Non-trainable params: 0\n",
      "_________________________________________________________________\n"
     ]
    }
   ],
   "source": [
    "# https://www.analyticsvidhya.com/blog/2022/01/sentiment-analysis-with-lstm/\n",
    "from keras.models import Sequential\n",
    "from keras.layers import Input, LSTM, Dense, Bidirectional\n",
    "from keras.optimizers import Adam\n",
    "\n",
    "#X_train, X_val, y_train, y_val = train_test_split(X_emb, ys, test_size=0.1, shuffle= True, random_state=42)\n",
    "import random\n",
    "random.seed(42)\n",
    "indices_split = random.sample(range(1, X_emb.shape[0]), int(0.1*float(X_emb.shape[0])))\n",
    "print(len(indices_split))\n",
    "print(indices_split)\n",
    "X_val = X_emb[indices_split]\n",
    "X_train = np.delete(X_emb, indices_split, axis=0)\n",
    "y = y.reshape(y.shape[0], 2)\n",
    "y_val = y[indices_split, 1]\n",
    "y_train = np.delete(y[:,1], indices_split, axis=0)\n",
    "\n",
    "print(y.shape, y_train.shape, y_val.shape)\n",
    "print(X.shape, X_train.shape, X_val.shape)\n",
    "\n",
    "\n",
    "# model initialization\n",
    "model = Sequential()\n",
    "model.add(Bidirectional(LSTM(64), input_shape = (X_emb.shape[1], X_emb.shape[2])))\n",
    "model.add(Dense(24, activation='relu'))\n",
    "model.add(Dense(1, activation='sigmoid'))\n",
    "\n",
    "# compile model\n",
    "model.compile(loss='binary_crossentropy',\n",
    "              #optimizer='adam',\n",
    "              optimizer=Adam(learning_rate=1e-3),\n",
    "              metrics=['accuracy'])\n",
    "# model summary\n",
    "#model.build(input_shape = (64, X_emb.shape[1], X_emb.shape[2]))\n",
    "model.summary()"
   ]
  },
  {
   "cell_type": "code",
   "execution_count": 64,
   "metadata": {},
   "outputs": [
    {
     "name": "stdout",
     "output_type": "stream",
     "text": [
      "Epoch 1/50\n",
      "40/40 [==============================] - 52s 1s/step - loss: 0.6791 - accuracy: 0.5571 - val_loss: 0.6220 - val_accuracy: 0.6643 - lr: 0.0010\n",
      "Epoch 2/50\n",
      "40/40 [==============================] - 40s 998ms/step - loss: 0.6652 - accuracy: 0.6484 - val_loss: 0.6593 - val_accuracy: 0.6357 - lr: 0.0010\n",
      "Epoch 3/50\n",
      "40/40 [==============================] - 39s 984ms/step - loss: 0.6421 - accuracy: 0.6294 - val_loss: 0.5175 - val_accuracy: 0.7429 - lr: 0.0010\n",
      "Epoch 4/50\n",
      "40/40 [==============================] - 42s 1s/step - loss: 0.4457 - accuracy: 0.8286 - val_loss: 0.9175 - val_accuracy: 0.5857 - lr: 0.0010\n",
      "Epoch 5/50\n",
      "40/40 [==============================] - 38s 956ms/step - loss: 0.5374 - accuracy: 0.7603 - val_loss: 0.4316 - val_accuracy: 0.8500 - lr: 0.0010\n",
      "Epoch 6/50\n",
      "40/40 [==============================] - 51s 1s/step - loss: 0.3803 - accuracy: 0.8683 - val_loss: 0.4569 - val_accuracy: 0.7929 - lr: 0.0010\n",
      "Epoch 7/50\n",
      "40/40 [==============================] - 38s 949ms/step - loss: 0.3167 - accuracy: 0.8865 - val_loss: 0.2627 - val_accuracy: 0.9143 - lr: 0.0010\n",
      "Epoch 8/50\n",
      "40/40 [==============================] - 37s 936ms/step - loss: 0.6150 - accuracy: 0.6968 - val_loss: 0.7097 - val_accuracy: 0.4714 - lr: 0.0010\n",
      "Epoch 9/50\n",
      "40/40 [==============================] - ETA: 0s - loss: 0.6949 - accuracy: 0.5040\n",
      "Epoch 9: ReduceLROnPlateau reducing learning rate to 0.0009000000427477062.\n",
      "40/40 [==============================] - 39s 988ms/step - loss: 0.6949 - accuracy: 0.5040 - val_loss: 0.6864 - val_accuracy: 0.5357 - lr: 0.0010\n",
      "Epoch 10/50\n",
      "40/40 [==============================] - 43s 1s/step - loss: 0.6740 - accuracy: 0.6151 - val_loss: 0.6551 - val_accuracy: 0.6857 - lr: 9.0000e-04\n",
      "Epoch 11/50\n",
      "40/40 [==============================] - ETA: 0s - loss: 0.6331 - accuracy: 0.6794\n",
      "Epoch 11: ReduceLROnPlateau reducing learning rate to 0.0008100000384729356.\n",
      "40/40 [==============================] - 39s 954ms/step - loss: 0.6331 - accuracy: 0.6794 - val_loss: 0.6527 - val_accuracy: 0.7071 - lr: 9.0000e-04\n",
      "Epoch 12/50\n",
      "40/40 [==============================] - 38s 945ms/step - loss: 0.5880 - accuracy: 0.7079 - val_loss: 0.4923 - val_accuracy: 0.8500 - lr: 8.1000e-04\n",
      "Epoch 13/50\n",
      "40/40 [==============================] - ETA: 0s - loss: 0.4359 - accuracy: 0.8468\n",
      "Epoch 13: ReduceLROnPlateau reducing learning rate to 0.0007290000503417104.\n",
      "40/40 [==============================] - 37s 924ms/step - loss: 0.4359 - accuracy: 0.8468 - val_loss: 0.4630 - val_accuracy: 0.7500 - lr: 8.1000e-04\n",
      "Epoch 14/50\n",
      "40/40 [==============================] - 38s 941ms/step - loss: 0.2983 - accuracy: 0.8873 - val_loss: 0.2978 - val_accuracy: 0.8929 - lr: 7.2900e-04\n",
      "Epoch 15/50\n",
      "40/40 [==============================] - 43s 1s/step - loss: 0.2210 - accuracy: 0.9294 - val_loss: 0.2603 - val_accuracy: 0.9143 - lr: 7.2900e-04\n",
      "Epoch 16/50\n",
      "40/40 [==============================] - 42s 1s/step - loss: 0.2117 - accuracy: 0.9286 - val_loss: 0.2258 - val_accuracy: 0.9357 - lr: 7.2900e-04\n",
      "Epoch 17/50\n",
      "40/40 [==============================] - 39s 967ms/step - loss: 0.1828 - accuracy: 0.9429 - val_loss: 0.4528 - val_accuracy: 0.8286 - lr: 7.2900e-04\n",
      "Epoch 18/50\n",
      "40/40 [==============================] - ETA: 0s - loss: 0.2058 - accuracy: 0.9310\n",
      "Epoch 18: ReduceLROnPlateau reducing learning rate to 0.0006561000715009868.\n",
      "40/40 [==============================] - 39s 978ms/step - loss: 0.2058 - accuracy: 0.9310 - val_loss: 0.3003 - val_accuracy: 0.8929 - lr: 7.2900e-04\n",
      "Epoch 19/50\n",
      "40/40 [==============================] - 40s 999ms/step - loss: 0.1812 - accuracy: 0.9429 - val_loss: 0.2354 - val_accuracy: 0.9214 - lr: 6.5610e-04\n",
      "Epoch 20/50\n",
      "40/40 [==============================] - ETA: 0s - loss: 0.1712 - accuracy: 0.9452\n",
      "Epoch 20: ReduceLROnPlateau reducing learning rate to 0.0005904900433961303.\n",
      "40/40 [==============================] - 46s 1s/step - loss: 0.1712 - accuracy: 0.9452 - val_loss: 0.2530 - val_accuracy: 0.9071 - lr: 6.5610e-04\n",
      "Epoch 21/50\n",
      "40/40 [==============================] - 48s 1s/step - loss: 0.1493 - accuracy: 0.9524 - val_loss: 0.2214 - val_accuracy: 0.9214 - lr: 5.9049e-04\n",
      "Epoch 22/50\n",
      "40/40 [==============================] - 41s 1s/step - loss: 0.1979 - accuracy: 0.9325 - val_loss: 0.2940 - val_accuracy: 0.9071 - lr: 5.9049e-04\n",
      "Epoch 23/50\n",
      "40/40 [==============================] - 41s 1s/step - loss: 0.2003 - accuracy: 0.9349 - val_loss: 0.1890 - val_accuracy: 0.9429 - lr: 5.9049e-04\n",
      "Epoch 24/50\n",
      "40/40 [==============================] - 40s 1s/step - loss: 0.1311 - accuracy: 0.9627 - val_loss: 0.2102 - val_accuracy: 0.9357 - lr: 5.9049e-04\n",
      "Epoch 25/50\n",
      "40/40 [==============================] - ETA: 0s - loss: 0.1347 - accuracy: 0.9595\n",
      "Epoch 25: ReduceLROnPlateau reducing learning rate to 0.0005314410547725857.\n",
      "40/40 [==============================] - 42s 1s/step - loss: 0.1347 - accuracy: 0.9595 - val_loss: 0.2139 - val_accuracy: 0.9429 - lr: 5.9049e-04\n",
      "Epoch 26/50\n",
      "40/40 [==============================] - 40s 1s/step - loss: 0.1215 - accuracy: 0.9643 - val_loss: 0.1935 - val_accuracy: 0.9500 - lr: 5.3144e-04\n",
      "Epoch 27/50\n",
      "40/40 [==============================] - ETA: 0s - loss: 0.1117 - accuracy: 0.9643\n",
      "Epoch 27: ReduceLROnPlateau reducing learning rate to 0.00047829695977270604.\n",
      "40/40 [==============================] - 40s 992ms/step - loss: 0.1117 - accuracy: 0.9643 - val_loss: 0.3152 - val_accuracy: 0.8929 - lr: 5.3144e-04\n",
      "Epoch 28/50\n",
      "40/40 [==============================] - 39s 975ms/step - loss: 0.1057 - accuracy: 0.9698 - val_loss: 0.2060 - val_accuracy: 0.9357 - lr: 4.7830e-04\n",
      "Epoch 29/50\n",
      "40/40 [==============================] - ETA: 0s - loss: 0.0864 - accuracy: 0.9746\n",
      "Epoch 29: ReduceLROnPlateau reducing learning rate to 0.0004304672533180565.\n",
      "40/40 [==============================] - 51s 1s/step - loss: 0.0864 - accuracy: 0.9746 - val_loss: 0.2205 - val_accuracy: 0.9286 - lr: 4.7830e-04\n",
      "Epoch 30/50\n",
      "40/40 [==============================] - 62s 2s/step - loss: 0.0925 - accuracy: 0.9746 - val_loss: 0.2109 - val_accuracy: 0.9429 - lr: 4.3047e-04\n",
      "Epoch 31/50\n",
      "40/40 [==============================] - ETA: 0s - loss: 0.1149 - accuracy: 0.9659Restoring model weights from the end of the best epoch: 23.\n",
      "\n",
      "Epoch 31: ReduceLROnPlateau reducing learning rate to 0.00038742052274756136.\n",
      "40/40 [==============================] - 53s 1s/step - loss: 0.1149 - accuracy: 0.9659 - val_loss: 0.2908 - val_accuracy: 0.9000 - lr: 4.3047e-04\n",
      "Epoch 31: early stopping\n"
     ]
    }
   ],
   "source": [
    "from keras.callbacks import EarlyStopping\n",
    "from keras.callbacks import ReduceLROnPlateau\n",
    "\n",
    "es = EarlyStopping(monitor='val_loss', mode='min', verbose=5, patience=8, restore_best_weights=True)\n",
    "\n",
    "cb_plateau = ReduceLROnPlateau(\n",
    "    monitor=\"val_loss\",\n",
    "    factor=0.9,\n",
    "    patience=2,\n",
    "    verbose=1,\n",
    "    mode=\"auto\",\n",
    "    min_delta=0.001,\n",
    "    cooldown=0,\n",
    "    min_lr=1e-4,\n",
    ")\n",
    "\n",
    "bf = model.fit(x=X_train, y=y_train, validation_data = (X_val, y_val), epochs=50, batch_size=32, callbacks=[es, cb_plateau] )"
   ]
  },
  {
   "cell_type": "markdown",
   "metadata": {},
   "source": [
    "### Metrics"
   ]
  },
  {
   "cell_type": "code",
   "execution_count": 65,
   "metadata": {},
   "outputs": [
    {
     "name": "stdout",
     "output_type": "stream",
     "text": [
      "5/5 [==============================] - 1s 274ms/step - loss: 0.1890 - accuracy: 0.9429\n",
      "[0.18903136253356934, 0.9428571462631226]\n"
     ]
    }
   ],
   "source": [
    "# best epoch obtained\n",
    "results_test = model.evaluate(X_val, y_val)\n",
    "print(results_test)"
   ]
  },
  {
   "cell_type": "code",
   "execution_count": 66,
   "metadata": {},
   "outputs": [
    {
     "name": "stdout",
     "output_type": "stream",
     "text": [
      "5/5 [==============================] - 3s 278ms/step\n",
      "              precision    recall  f1-score   support\n",
      "\n",
      "        real       0.95      0.95      0.95        74\n",
      "   sentiment       0.94      0.94      0.94        66\n",
      "\n",
      "    accuracy                           0.94       140\n",
      "   macro avg       0.94      0.94      0.94       140\n",
      "weighted avg       0.94      0.94      0.94       140\n",
      "\n",
      "[[[62  4]\n",
      "  [ 4 70]]\n",
      "\n",
      " [[70  4]\n",
      "  [ 4 62]]]\n"
     ]
    }
   ],
   "source": [
    "# summary of the model applied to the validation set\n",
    "y_preds = model.predict(X_val)\n",
    "for i in range(len(y_preds)):\n",
    "    for j in range(len(y_preds[i])):\n",
    "        if y_preds[i,j] > 0.5:\n",
    "            y_preds[i,j] = 1\n",
    "        else:\n",
    "            y_preds[i,j] = 0\n",
    "\n",
    "print(metrics.classification_report(y_val, y_preds, target_names=['real', 'sentiment']))\n",
    "print(metrics.multilabel_confusion_matrix(y_val, y_preds))\n",
    "\n",
    "# saving sentiment predictions\n",
    "np.save('sentiment_pred.npy', y_preds[:, -1])"
   ]
  },
  {
   "cell_type": "code",
   "execution_count": 67,
   "metadata": {},
   "outputs": [
    {
     "data": {
      "text/plain": [
       "array([1., 1., 1., 1., 0., 1., 1., 0., 1., 0., 0., 1., 1., 0., 1., 1., 1.,\n",
       "       0., 0., 1., 0., 1., 1., 0., 0., 0., 0., 0., 1., 0., 1., 0., 0., 0.,\n",
       "       0., 0., 1., 1., 0., 1., 0., 0., 0., 1., 0., 1., 0., 1., 1., 0., 0.,\n",
       "       1., 0., 0., 0., 1., 1., 0., 1., 1., 0., 1., 0., 0., 1., 0., 0., 0.,\n",
       "       1., 0., 0., 0., 1., 1., 0., 0., 1., 1., 0., 1., 1., 1., 0., 1., 1.,\n",
       "       0., 0., 0., 1., 0., 1., 1., 0., 0., 0., 0., 1., 0., 1., 1., 0., 0.,\n",
       "       1., 0., 1., 1., 1., 0., 0., 1., 1., 0., 1., 1., 1., 1., 0., 0., 0.,\n",
       "       1., 1., 0., 0., 0., 1., 0., 0., 1., 1., 0., 0., 0., 0., 0., 0., 1.,\n",
       "       1., 0., 1., 1.], dtype=float32)"
      ]
     },
     "execution_count": 67,
     "metadata": {},
     "output_type": "execute_result"
    }
   ],
   "source": [
    "y_preds[:, -1]"
   ]
  },
  {
   "cell_type": "markdown",
   "metadata": {},
   "source": [
    "Checking data"
   ]
  },
  {
   "cell_type": "code",
   "execution_count": 68,
   "metadata": {},
   "outputs": [
    {
     "data": {
      "text/plain": [
       "<function matplotlib.pyplot.show(close=None, block=None)>"
      ]
     },
     "execution_count": 68,
     "metadata": {},
     "output_type": "execute_result"
    },
    {
     "data": {
      "image/png": "[encoded data removed]",
      "text/plain": [
       "<Figure size 640x480 with 1 Axes>"
      ]
     },
     "metadata": {},
     "output_type": "display_data"
    }
   ],
   "source": [
    "loss = bf.history['loss']\n",
    "val_loss = bf.history['val_loss']\n",
    "epochs = range(1, len(loss) + 1)\n",
    "\n",
    "plt.plot(epochs, loss, 'r', label = 'Training set')\n",
    "plt.plot(epochs, val_loss, 'b', label = 'Validation set')\n",
    "plt.xlabel('Epochs')\n",
    "plt.ylabel('Loss')\n",
    "plt.legend()\n",
    "plt.show"
   ]
  },
  {
   "cell_type": "code",
   "execution_count": 69,
   "metadata": {},
   "outputs": [
    {
     "data": {
      "text/plain": [
       "<function matplotlib.pyplot.show(close=None, block=None)>"
      ]
     },
     "execution_count": 69,
     "metadata": {},
     "output_type": "execute_result"
    },
    {
     "data": {
      "image/png": "[encoded data removed]",
      "text/plain": [
       "<Figure size 640x480 with 1 Axes>"
      ]
     },
     "metadata": {},
     "output_type": "display_data"
    }
   ],
   "source": [
    "loss = bf.history['accuracy']\n",
    "val_loss = bf.history['val_accuracy']\n",
    "epochs = range(1, len(loss) + 1)\n",
    "\n",
    "\n",
    "plt.plot(epochs, loss, 'r', label = 'Training set')\n",
    "plt.plot(epochs, val_loss, 'b', label = 'Validation set')\n",
    "plt.xlabel('Epochs')\n",
    "plt.ylabel('Accuracy')\n",
    "plt.legend()\n",
    "plt.show"
   ]
  },
  {
   "cell_type": "markdown",
   "metadata": {},
   "source": [
    "## SVM with TF-IDF"
   ]
  },
  {
   "cell_type": "code",
   "execution_count": 70,
   "metadata": {},
   "outputs": [
    {
     "name": "stdout",
     "output_type": "stream",
     "text": [
      "max_words-->380\n",
      "max_words-->380\n"
     ]
    }
   ],
   "source": [
    "X_pp_idf = pp_x(X, emb = False)\n",
    "Xt_pp_idf = pp_x(Xt, emb = False)"
   ]
  },
  {
   "cell_type": "code",
   "execution_count": 71,
   "metadata": {},
   "outputs": [],
   "source": [
    "tfidf = TfidfVectorizer(lowercase=False)"
   ]
  },
  {
   "cell_type": "code",
   "execution_count": 72,
   "metadata": {},
   "outputs": [],
   "source": [
    "separator = ' '\n",
    "\n",
    "X_pp_joined = np.empty(1400, dtype=object)\n",
    "for i in range(len(X_pp_idf)):\n",
    "  X_pp_joined[i] = separator.join(X_pp_idf[i])"
   ]
  },
  {
   "cell_type": "code",
   "execution_count": 74,
   "metadata": {},
   "outputs": [
    {
     "name": "stdout",
     "output_type": "stream",
     "text": [
      "(1400, 8033)\n"
     ]
    }
   ],
   "source": [
    "tfidf_result = tfidf.fit_transform(X_pp_joined)\n",
    "print(tfidf_result.shape)"
   ]
  },
  {
   "cell_type": "code",
   "execution_count": 75,
   "metadata": {},
   "outputs": [],
   "source": [
    "from sklearn.model_selection import cross_val_score\n",
    "\n",
    "#classifier = MultiOutputClassifier(SVC(kernel='linear'))\n",
    "classifier = SVC(kernel='rbf')\n",
    "# Create an SVM classifier\n",
    "#classifier = (SVC(kernel='linear'))\n",
    "\n",
    "from sklearn.model_selection import RepeatedStratifiedKFold\n",
    "\n",
    "#cross_val = RepeatedStratifiedKFold(n_splits=20, n_repeats=10)\n",
    "#scores = cross_val_score(classifier, tfidf_result, yr, cv=cross_val)"
   ]
  },
  {
   "cell_type": "code",
   "execution_count": 76,
   "metadata": {},
   "outputs": [],
   "source": [
    "#print(scores.shape)\n",
    "#print(np.average(scores), np.std(scores))"
   ]
  },
  {
   "cell_type": "markdown",
   "metadata": {},
   "source": [
    "RepeatedStratifiedKFold(n_splits=20, n_repeats=10) \\\\\n",
    "rbf 0.8762857142857143 0.03643389316870448 \\\\\n",
    "linear 0.8766428571428573 0.03452823452758389 \\\\\n",
    "sigmoid 0.8762857142857143 0.037646042153139\n"
   ]
  },
  {
   "cell_type": "code",
   "execution_count": 77,
   "metadata": {},
   "outputs": [
    {
     "name": "stdout",
     "output_type": "stream",
     "text": [
      "(1260, 8033)\n"
     ]
    }
   ],
   "source": [
    "from sklearn.model_selection import train_test_split\n",
    "\n",
    "#X_train, X_val, y_train, y_val = train_test_split(tfidf_result, y, test_size=0.1, shuffle= True, random_state=42)\n",
    "import random\n",
    "#random.seed(42)\n",
    "#indices_split = random.sample(range(1, X.shape[0]), int(0.1*float(X.shape[0])))\n",
    "print(len(indices_split))\n",
    "print(indices_split)\n",
    "tfidf_result = tfidf_result.toarray()\n",
    "X_val = tfidf_result[indices_split]\n",
    "print(type(tfidf_result))\n",
    "\n",
    "X_train = np.delete(tfidf_result, indices_split, axis=0)\n",
    "y = y.reshape(y.shape[0], 2)\n",
    "y_val = y[indices_split]\n",
    "y_train = np.delete(y, indices_split, axis=0)\n",
    "\n",
    "print(y.shape, y_train.shape, y_val.shape)\n",
    "print(X.shape, X_train.shape, X_val.shape)"
   ]
  },
  {
   "cell_type": "code",
   "execution_count": 78,
   "metadata": {},
   "outputs": [
    {
     "name": "stdout",
     "output_type": "stream",
     "text": [
      "[[53  6]\n",
      " [12 69]]\n",
      "              precision    recall  f1-score   support\n",
      "\n",
      "         0.0       0.82      0.90      0.85        59\n",
      "         1.0       0.92      0.85      0.88        81\n",
      "\n",
      "    accuracy                           0.87       140\n",
      "   macro avg       0.87      0.88      0.87       140\n",
      "weighted avg       0.88      0.87      0.87       140\n",
      "\n",
      "Accuracy score: 0.8714285714285714\n"
     ]
    }
   ],
   "source": [
    "# Train the classifier\n",
    "classifier.fit(X_train, y_train[:,0])\n",
    "\n",
    "# Predict on the test set\n",
    "y_pred = classifier.predict(X_val)\n",
    "\n",
    "# Evaluate the classifiers\n",
    "from sklearn.metrics import accuracy_score, confusion_matrix, multilabel_confusion_matrix, classification_report, average_precision_score\n",
    "\n",
    "accuracy_s = accuracy_score(y_val[:,0], y_pred)\n",
    "\n",
    "#print(multilabel_confusion_matrix(y_val, y_pred))\n",
    "print(confusion_matrix(y_val[:,0], y_pred))\n",
    "print(classification_report(y_val[:,0], y_pred))\n",
    "print(\"Accuracy score:\",  accuracy_s)"
   ]
  },
  {
   "cell_type": "code",
   "execution_count": 80,
   "metadata": {},
   "outputs": [
    {
     "name": "stdout",
     "output_type": "stream",
     "text": [
      "(140,) (140,)\n",
      "[1. 1. 1. 1. 0. 1. 1. 0. 1. 0. 0. 1. 1. 0. 1. 1. 1. 0. 0. 1. 0. 1. 1. 0.\n",
      " 0. 0. 0. 0. 1. 0. 1. 0. 0. 0. 0. 0. 1. 1. 0. 1. 0. 0. 0. 1. 0. 1. 0. 1.\n",
      " 1. 0. 0. 1. 0. 0. 0. 1. 1. 0. 1. 1. 0. 1. 0. 0. 1. 0. 0. 0. 1. 0. 0. 0.\n",
      " 1. 1. 0. 0. 1. 1. 0. 1. 1. 1. 0. 1. 1. 0. 0. 0. 1. 0. 1. 1. 0. 0. 0. 0.\n",
      " 1. 0. 1. 1. 0. 0. 1. 0. 1. 1. 1. 0. 0. 1. 1. 0. 1. 1. 1. 1. 0. 0. 0. 1.\n",
      " 1. 0. 0. 0. 1. 0. 0. 1. 1. 0. 0. 0. 0. 0. 0. 1. 1. 0. 1. 1.]\n",
      "int64\n",
      "[[[53  6]\n",
      "  [12 69]]\n",
      "\n",
      " [[70  4]\n",
      "  [ 4 62]]]\n",
      "              precision    recall  f1-score   support\n",
      "\n",
      "           0       0.92      0.85      0.88        81\n",
      "           1       0.94      0.94      0.94        66\n",
      "\n",
      "   micro avg       0.93      0.89      0.91       147\n",
      "   macro avg       0.93      0.90      0.91       147\n",
      "weighted avg       0.93      0.89      0.91       147\n",
      " samples avg       0.71      0.70      0.70       147\n",
      "\n",
      "Accuracy 0.8214285714285714\n"
     ]
    },
    {
     "name": "stderr",
     "output_type": "stream",
     "text": [
      "/Users/nunomachado/opt/anaconda3/envs/LN23/lib/python3.8/site-packages/sklearn/metrics/_classification.py:1344: UndefinedMetricWarning: Precision and F-score are ill-defined and being set to 0.0 in samples with no predicted labels. Use `zero_division` parameter to control this behavior.\n",
      "  _warn_prf(average, modifier, msg_start, len(result))\n",
      "/Users/nunomachado/opt/anaconda3/envs/LN23/lib/python3.8/site-packages/sklearn/metrics/_classification.py:1344: UndefinedMetricWarning: Recall and F-score are ill-defined and being set to 0.0 in samples with no true labels. Use `zero_division` parameter to control this behavior.\n",
      "  _warn_prf(average, modifier, msg_start, len(result))\n"
     ]
    }
   ],
   "source": [
    "sentiment_pred = np.load('sentiment_pred.npy')\n",
    "print(y_pred.shape, sentiment_pred.shape)\n",
    "\n",
    "for i in range(len(sentiment_pred)):\n",
    "    if sentiment_pred[i] == 1.0:\n",
    "        sentiment_pred[i] = 1\n",
    "    else:\n",
    "        sentiment_pred[i] = 0\n",
    "print(sentiment_pred)\n",
    "y_all_predictions = np.concatenate((y_pred.reshape(140, 1), sentiment_pred.reshape(140, 1)), axis=1)\n",
    "y_all_predictions = y_all_predictions.astype('int')\n",
    "y_val = y_val.astype('int')\n",
    "\n",
    "#print(y_all_predictions.dtype)\n",
    "\n",
    "\n",
    "# Evaluate the classifiers\n",
    "from sklearn.metrics import accuracy_score, confusion_matrix, multilabel_confusion_matrix, classification_report, average_precision_score\n",
    "\n",
    "#print(y_val, y_all_predictions)\n",
    "accuracy_s = accuracy_score(y_val, y_all_predictions)\n",
    "\n",
    "print(multilabel_confusion_matrix(y_val, y_all_predictions))\n",
    "#print(confusion_matrix(y_val, y_all_predictions))\n",
    "print(classification_report(y_val, y_all_predictions))\n",
    "print('Accuracy', accuracy_s)\n"
   ]
  },
  {
   "cell_type": "code",
   "execution_count": null,
   "metadata": {},
   "outputs": [],
   "source": [
    "print(y_all_predictions.shape, y_val.shape)\n",
    "\n",
    "indices_different = []\n",
    "um_diferente=0\n",
    "dois_diferentes=0\n",
    "\n",
    "for i in range(y_all_predictions.shape[0]):\n",
    "  if y_all_predictions[i, 0]!=y_val[i, 0] or y_all_predictions[i, 1]!=y_val[i, 1]:\n",
    "    indices_different.append(i)\n",
    "  if y_all_predictions[i, 0]!=y_val[i, 0] and y_all_predictions[i, 1]!=y_val[i, 1]: dois_diferentes = dois_diferentes+1\n",
    "  elif y_all_predictions[i, 0]!=y_val[i, 0] or y_all_predictions[i, 1]!=y_val[i, 1]: um_diferente = um_diferente+1\n",
    "print(len(indices_different), 'erros')\n",
    "print('1 diferente:', um_diferente)\n",
    "print('2 diferentes:', dois_diferentes)\n",
    "\n",
    "print(indices_different)"
   ]
  },
  {
   "cell_type": "code",
   "execution_count": null,
   "metadata": {},
   "outputs": [],
   "source": [
    "print(indices_split)"
   ]
  },
  {
   "cell_type": "code",
   "execution_count": null,
   "metadata": {},
   "outputs": [],
   "source": [
    "for i in np.arange(0, len(indices_different)-1, 1):\n",
    "  kk = indices_split[indices_different[i]]\n",
    "  print('############ index ', indices_different[i], kk,  ' #############')\n",
    "  print('Real Labels', y[kk])\n",
    "  print('Predicted Labels', y_all_predictions[indices_different[i]])\n",
    "  print(X[kk])"
   ]
  },
  {
   "cell_type": "markdown",
   "metadata": {},
   "source": [
    "### Test set"
   ]
  },
  {
   "cell_type": "code",
   "execution_count": null,
   "metadata": {},
   "outputs": [
    {
     "name": "stdout",
     "output_type": "stream",
     "text": [
      "7/7 [==============================] - 5s 646ms/step\n"
     ]
    }
   ],
   "source": [
    "yt = model.predict(Xt_emb)\n",
    "\n",
    "for i in range(len(yt)):\n",
    "    for j in range(len(yt[i])):\n",
    "        if yt[i,j] > 0.5:\n",
    "            yt[i,j] = int(1)\n",
    "        else:\n",
    "            yt[i,j] = int(0)\n",
    "\n",
    "yt = np.array(yt, dtype=int)"
   ]
  },
  {
   "cell_type": "code",
   "execution_count": null,
   "metadata": {},
   "outputs": [],
   "source": [
    "yt_labels = []\n",
    "for i in range(len(yt)):\n",
    "    label = ''\n",
    "    # deceptivenesss labeling\n",
    "    if yt[i,0] == 1:\n",
    "        label += 'TRUTHFUL'\n",
    "    else:\n",
    "        label += 'DECEPTIVE'\n",
    "    \n",
    "    # sentiment labeling\n",
    "    if yt[i,1] == 1:\n",
    "        label += 'POSITIVE'\n",
    "    else:\n",
    "        label += 'NEGATIVE'\n",
    "    \n",
    "    yt_labels.append(label)\n"
   ]
  },
  {
   "cell_type": "code",
   "execution_count": null,
   "metadata": {},
   "outputs": [
    {
     "name": "stdout",
     "output_type": "stream",
     "text": [
      "len(yt_labels)-->200\n"
     ]
    }
   ],
   "source": [
    "print(f\"len(yt_labels)-->{len(yt_labels)}\")\n",
    "\n",
    "with open(\"named results.txt\", \"w\") as txt_file:\n",
    "    for line in yt_labels:\n",
    "        txt_file.write(line + \"\\n\") # works with any number of elements in a line"
   ]
  }
 ],
 "metadata": {
  "kernelspec": {
   "display_name": "LN23",
   "language": "python",
   "name": "python3"
  },
  "language_info": {
   "codemirror_mode": {
    "name": "ipython",
    "version": 3
   },
   "file_extension": ".py",
   "mimetype": "text/x-python",
   "name": "python",
   "nbconvert_exporter": "python",
   "pygments_lexer": "ipython3",
   "version": "3.8.18"
  }
 },
 "nbformat": 4,
 "nbformat_minor": 2
}
