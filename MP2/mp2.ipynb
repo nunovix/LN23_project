{
  "cells": [
    {
      "cell_type": "markdown",
      "metadata": {
        "id": "6mbbT8h85zih"
      },
      "source": [
        "# Imports"
      ]
    },
    {
      "cell_type": "code",
      "execution_count": 1,
      "metadata": {
        "colab": {
          "base_uri": "https://localhost:8080/"
        },
        "id": "8znNgC4z5zik",
        "outputId": "1504f465-55bd-461a-e6ca-36d9f0d7fc48"
      },
      "outputs": [
        {
          "name": "stderr",
          "output_type": "stream",
          "text": [
            "[nltk_data] Downloading package stopwords to\n",
            "[nltk_data]     /Users/nunomachado/nltk_data...\n",
            "[nltk_data]   Package stopwords is already up-to-date!\n",
            "[nltk_data] Downloading package wordnet to\n",
            "[nltk_data]     /Users/nunomachado/nltk_data...\n",
            "[nltk_data]   Package wordnet is already up-to-date!\n"
          ]
        }
      ],
      "source": [
        "import pandas as pd\n",
        "import numpy as np\n",
        "import matplotlib.pyplot as plt\n",
        "import nltk\n",
        "import string\n",
        "\n",
        "# import GloVe - for word embedding\n",
        "from torchtext.vocab import GloVe\n",
        "global_vectors = GloVe(name='840B', dim=300)\n",
        "\n",
        "# tokenizer\n",
        "from torchtext.data import get_tokenizer\n",
        "\n",
        "# stop word removal\n",
        "nltk.download('stopwords')\n",
        "from nltk.corpus import stopwords\n",
        "\n",
        "# lemmazation\n",
        "from nltk.stem import WordNetLemmatizer\n",
        "nltk.download('wordnet')\n",
        "\n",
        "# models\n",
        "import sklearn.metrics as metrics\n",
        "from sklearn.model_selection import train_test_split\n",
        "\n",
        "# tf-idf and svm\n",
        "from sklearn.feature_extraction.text import TfidfVectorizer\n",
        "from sklearn.svm import SVC"
      ]
    },
    {
      "cell_type": "markdown",
      "metadata": {
        "id": "SKMH4LcY5zim"
      },
      "source": [
        "# Data pre-pocessing"
      ]
    },
    {
      "cell_type": "markdown",
      "metadata": {
        "id": "Ad_xNL_35zin"
      },
      "source": [
        "Reading data from txt"
      ]
    },
    {
      "cell_type": "code",
      "execution_count": 2,
      "metadata": {
        "colab": {
          "base_uri": "https://localhost:8080/"
        },
        "id": "irmlfjIs5zin",
        "outputId": "a01ec3f5-69f0-4c97-80ec-649617dce499"
      },
      "outputs": [
        {
          "name": "stdout",
          "output_type": "stream",
          "text": [
            "                                                 Review   Realness Sentiment\n",
            "0     The sheraton was a wonderful hotel! When me an...   TRUTHFUL  POSITIVE\n",
            "1     We stayed at the Omni between Christmas and Ne...   TRUTHFUL  POSITIVE\n",
            "2     I was REALLY looking forward to a nice relaxin...  DECEPTIVE  NEGATIVE\n",
            "3     First let me say, I try not to be too critical...   TRUTHFUL  NEGATIVE\n",
            "4     The Ambassador East Hotel is a terrible place ...  DECEPTIVE  NEGATIVE\n",
            "...                                                 ...        ...       ...\n",
            "1395  I stayed here for 5 nights last summer. I book...   TRUTHFUL  NEGATIVE\n",
            "1396  Stayed here for 3 nights for a Bridgestone/Fir...   TRUTHFUL  POSITIVE\n",
            "1397  I am staying here now and actually am compelle...   TRUTHFUL  NEGATIVE\n",
            "1398  We stayed at this hotel with our two teenage d...   TRUTHFUL  NEGATIVE\n",
            "1399  The rooms were beautiful! The staff was friend...  DECEPTIVE  POSITIVE\n",
            "\n",
            "[1400 rows x 3 columns]\n"
          ]
        }
      ],
      "source": [
        "df = pd.read_csv('train.txt', delimiter='\\t', header=None, names=[\"Label\", \"Review\"])\n",
        "df_test = pd.read_csv('test_just_reviews.txt', delimiter='\\t', header=None, names=[\"Review\"])\n",
        "\n",
        "#separating the labels into real/fake and positive/negative\n",
        "df['Realness'] = df['Label'].str[:-8]\n",
        "df['Sentiment'] = df['Label'].str[-8:]\n",
        "df = df.drop('Label', axis=1)\n",
        "\n",
        "# remove capitalized letters\n",
        "#df['Review'] = df['Review'].str.lower()\n",
        "#df['Review'] = tokenizer(df['Review'])\n",
        "data = df.to_numpy()\n",
        "Xt = df_test.to_numpy()[:,0]\n",
        "\n",
        "X = data[:,0]\n",
        "yr = data[:,1]\n",
        "ys = data[:,2]\n",
        "print(df)"
      ]
    },
    {
      "cell_type": "markdown",
      "metadata": {
        "id": "Jtaw52c45zin"
      },
      "source": [
        "### pre processign functions"
      ]
    },
    {
      "cell_type": "markdown",
      "metadata": {
        "id": "bWXA1f7y5zin"
      },
      "source": [
        "for stats"
      ]
    },
    {
      "cell_type": "code",
      "execution_count": 3,
      "metadata": {
        "id": "Nmw3sRdy5zin"
      },
      "outputs": [],
      "source": [
        "# takes array of reviews and prints statistics about both it\n",
        "def reviews_stats(X, stop_word_rm = False, punctuation_rm = False):\n",
        "    tam = []\n",
        "\n",
        "    #tokenizing\n",
        "    tokenizer = get_tokenizer(\"basic_english\")\n",
        "    X = [tokenizer(x) for x in X]\n",
        "\n",
        "    # stop words\n",
        "    stop_words = set(stopwords.words('english'))\n",
        "\n",
        "    if stop_word_rm == True:\n",
        "\n",
        "        X_stop = []\n",
        "        for x in X:\n",
        "            X_stop.append([i for i in x if i not in stop_words])\n",
        "\n",
        "        X = X_stop\n",
        "\n",
        "    if punctuation_rm == True:\n",
        "\n",
        "        X_stop = []\n",
        "        for x in X:\n",
        "            X_stop.append([i for i in x if i not in string.punctuation])\n",
        "\n",
        "        X = X_stop\n",
        "\n",
        "    #getting max numer of tokens in one review\n",
        "    tam = []\n",
        "    for x in X:\n",
        "        tam.append(len(x))\n",
        "\n",
        "    tam = np.array(tam)\n",
        "\n",
        "\n",
        "    print(f\"----- stats -----\")\n",
        "\n",
        "    print(f\"tam_min-->{np.min(tam)}\")\n",
        "    print(f\"tam_MAX-->{np.max(tam)}\")\n",
        "    print(f\"tam_avg-->{np.average(tam)}\")\n",
        "    print(f\"tam_median-->{np.median(tam)}\")\n",
        "\n",
        "    # distribuição do numero de palavras por review\n",
        "    plt.hist(tam)\n",
        "    plt.show()\n",
        "\n",
        "    return tam, np.max(tam)"
      ]
    },
    {
      "cell_type": "markdown",
      "metadata": {
        "id": "7nWmK1I85zio"
      },
      "source": [
        "for the actual preprocessing"
      ]
    },
    {
      "cell_type": "code",
      "execution_count": 4,
      "metadata": {
        "id": "IL4CX0D55zio"
      },
      "outputs": [],
      "source": [
        "# Function that pre processes array of reviews\n",
        "# if boolean=False it's a simple pre-processing (tokenization, padding and embedding)\n",
        "# if false, lemmazation and stop word and pucntuation removal are also performed\n",
        "def pp_x(X, stop_word_rm = True, lemma = True, max_words = 380, emb = True):\n",
        "\n",
        "    #tokenizing\n",
        "    tokenizer = get_tokenizer(\"basic_english\")\n",
        "    X = [tokenizer(x) for x in X]\n",
        "\n",
        "    #print(f\"after tokenization: X[0]-->{X[0]}\")\n",
        "\n",
        "    if lemma == True:\n",
        "\n",
        "        # lemmazation\n",
        "        wnl = WordNetLemmatizer()\n",
        "\n",
        "        # apply lemmazation\n",
        "        X_l = []\n",
        "        for x in X:\n",
        "            X_l.append([wnl.lemmatize(i) for i in x])\n",
        "\n",
        "        X = X_l\n",
        "\n",
        "    if stop_word_rm == True:\n",
        "\n",
        "        # stop word removal (and punctuation)\n",
        "        stop_words = set(stopwords.words('english'))\n",
        "\n",
        "        # apply both stop word removal and lemmazation\n",
        "        X_stop = []\n",
        "        for x in X:\n",
        "            X_stop.append([i for i in x if i not in stop_words and i not in string.punctuation])\n",
        "\n",
        "        X = X_stop\n",
        "\n",
        "    #print(f\"after stop word and lemma: X_stop[0]-->{X_stop[0]}\")\n",
        "    print(f\"max_words-->{max_words}\")\n",
        "    #print(f\"type(X_stop[0])-->{type(X_stop[0])}\")\n",
        "\n",
        "    #padding\n",
        "    X = [tokens+[\"\"] * (max_words-len(tokens))  if len(tokens)<max_words else tokens[:max_words] for tokens in X]\n",
        "\n",
        "    #print(f\"after padding: X_stop[0]-->{X_stop[0]}\")\n",
        "\n",
        "    if emb == True:\n",
        "        #embeddings\n",
        "        X_emb = []\n",
        "        for token in X:\n",
        "            # tokenize and use glove word embedding\n",
        "            X_emb.append(np.array(global_vectors.get_vecs_by_tokens(token)))\n",
        "\n",
        "        X = np.array(X_emb)\n",
        "\n",
        "        #print(f\"after embedding: X_emb[0]-->{X_emb[0]}\")\n",
        "        print(f\"X_emb.shape-->{X.shape}\")\n",
        "\n",
        "    return X"
      ]
    },
    {
      "cell_type": "code",
      "execution_count": 5,
      "metadata": {
        "colab": {
          "base_uri": "https://localhost:8080/",
          "height": 1000
        },
        "id": "1mJP_Ym45zio",
        "outputId": "0322026b-1800-402d-ad8d-47a5184b0477"
      },
      "outputs": [
        {
          "name": "stdout",
          "output_type": "stream",
          "text": [
            "--\n"
          ]
        },
        {
          "name": "stdout",
          "output_type": "stream",
          "text": [
            "----- stats -----\n",
            "tam_min-->28\n",
            "tam_MAX-->868\n",
            "tam_avg-->168.935\n",
            "tam_median-->146.0\n"
          ]
        },
        {
          "data": {
            "image/png": "[encoded data removed]",
            "text/plain": [
              "<Figure size 640x480 with 1 Axes>"
            ]
          },
          "metadata": {},
          "output_type": "display_data"
        },
        {
          "name": "stdout",
          "output_type": "stream",
          "text": [
            "--\n"
          ]
        }
      ],
      "source": [
        "#reviews_stats(X)\n",
        "#reviews_stats(Xt)\n",
        "print(\"--\")\n",
        "X_all = np.concatenate((X,Xt), axis=0)\n",
        "reviews_stats(X_all)\n",
        "print(\"--\")"
      ]
    },
    {
      "cell_type": "code",
      "execution_count": 6,
      "metadata": {
        "colab": {
          "base_uri": "https://localhost:8080/"
        },
        "id": "2kaJGpvh5zip",
        "outputId": "09c6b3a8-4ee2-4402-8412-a166d7b7a3d1"
      },
      "outputs": [
        {
          "name": "stdout",
          "output_type": "stream",
          "text": [
            "max_words-->380\n",
            "X_emb.shape-->(1400, 380, 300)\n",
            "max_words-->380\n",
            "X_emb.shape-->(200, 380, 300)\n",
            "max_words-->868\n",
            "X_emb.shape-->(1400, 868, 300)\n",
            "max_words-->868\n",
            "X_emb.shape-->(200, 868, 300)\n"
          ]
        }
      ],
      "source": [
        "X_pp = pp_x(X, stop_word_rm = True, lemma = True, max_words = 380, emb = True)\n",
        "Xt_pp = pp_x(Xt, stop_word_rm = True, lemma = True, max_words = 380, emb = True)\n",
        "\n",
        "X_emb = pp_x(X, stop_word_rm = False, lemma = True, max_words = 868, emb = True)\n",
        "Xt_emb =  pp_x(Xt, stop_word_rm = False, lemma = True, max_words = 868, emb = True)"
      ]
    },
    {
      "cell_type": "markdown",
      "metadata": {
        "id": "QMKQDjzH5zip"
      },
      "source": [
        "labels preprocessing"
      ]
    },
    {
      "cell_type": "code",
      "execution_count": 7,
      "metadata": {
        "id": "qSnCunmO5zip"
      },
      "outputs": [],
      "source": [
        "# simple conversion to 0'a and 1's for the\n",
        "# deceptivness (1=truthful) and sentiment (1=positive)\n",
        "for i in range(len(ys)):\n",
        "    if ys[i] == \"POSITIVE\":\n",
        "        ys[i] = 1\n",
        "    else:\n",
        "        ys[i] = 0\n",
        "\n",
        "    if yr[i] == \"TRUTHFUL\":\n",
        "        yr[i] = 1\n",
        "    else:\n",
        "        yr[i] = 0\n",
        "\n",
        "ys = np.array(ys)\n",
        "yr = np.array(yr)"
      ]
    },
    {
      "cell_type": "markdown",
      "metadata": {
        "id": "Gq5iXYTM5ziq"
      },
      "source": [
        "testing dimensions"
      ]
    },
    {
      "cell_type": "code",
      "execution_count": 8,
      "metadata": {
        "colab": {
          "base_uri": "https://localhost:8080/"
        },
        "id": "W3luyYdo5ziq",
        "outputId": "c31a7bde-c124-426d-f97a-533ea673a202"
      },
      "outputs": [
        {
          "name": "stdout",
          "output_type": "stream",
          "text": [
            "type(X_emb)--><class 'numpy.ndarray'>\n",
            "type(Xt_emb)--><class 'numpy.ndarray'>\n",
            "type(ys)--><class 'numpy.ndarray'>\n",
            "type(yr)--><class 'numpy.ndarray'>\n",
            "\n",
            "X_emb.shape-->(1400, 868, 300)\n",
            "Xt_emb.shape-->(200, 868, 300)\n",
            "ys.shape-->(1400,)\n",
            "yr.shape-->(1400,)\n"
          ]
        }
      ],
      "source": [
        "print(f\"type(X_emb)-->{type(X_emb)}\")\n",
        "print(f\"type(Xt_emb)-->{type(Xt_emb)}\")\n",
        "print(f\"type(ys)-->{type(ys)}\")\n",
        "print(f\"type(yr)-->{type(yr)}\\n\")\n",
        "\n",
        "print(f\"X_emb.shape-->{X_emb.shape}\")\n",
        "print(f\"Xt_emb.shape-->{Xt_emb.shape}\")\n",
        "print(f\"ys.shape-->{ys.shape}\")\n",
        "print(f\"yr.shape-->{yr.shape}\")"
      ]
    },
    {
      "cell_type": "code",
      "execution_count": 9,
      "metadata": {
        "id": "lrsdz61D5ziq"
      },
      "outputs": [],
      "source": [
        "# delete cache\n",
        "#del(global_vectors)\n",
        "#save processed numpy arrays\n",
        "np.save(\"./processed_train/X_emb.npy\", X_emb)\n",
        "np.save(\"./processed_train/Xt_emb.npy\", Xt_emb)\n",
        "np.save(\"./processed_train/ys.npy\", ys)\n",
        "np.save(\"./processed_train/yr.npy\", yr)\n",
        "\n",
        "## more pre processed, lemmazation and stop word removal\n",
        "np.save(\"./processed_train/X_pp.npy\", X_pp)\n",
        "np.save(\"./processed_train/Xt_pp.npy\", Xt_pp)"
      ]
    },
    {
      "cell_type": "markdown",
      "metadata": {
        "id": "1xzD6Goe5ziq"
      },
      "source": [
        "# Models"
      ]
    },
    {
      "cell_type": "markdown",
      "metadata": {
        "id": "3Uz7RO035zir"
      },
      "source": [
        "## Load training data"
      ]
    },
    {
      "cell_type": "code",
      "execution_count": 10,
      "metadata": {
        "colab": {
          "base_uri": "https://localhost:8080/"
        },
        "id": "BQCkQGpO5zir",
        "outputId": "2748f199-46b7-41eb-9361-49a51b901c9a"
      },
      "outputs": [
        {
          "name": "stdout",
          "output_type": "stream",
          "text": [
            "type(X_emb)--><class 'numpy.ndarray'>\n",
            "type(Xt_emb)--><class 'numpy.ndarray'>\n",
            "type(ys)--><class 'numpy.ndarray'>\n",
            "type(yr)--><class 'numpy.ndarray'>\n",
            "\n",
            "y.shape-->(1400, 2)\n",
            "type(y)--><class 'numpy.ndarray'>\n",
            "\n",
            "X_emb.shape-->(1400, 868, 300)\n",
            "Xt_emb.shape-->(200, 868, 300)\n",
            "ys.shape-->(1400,)\n",
            "yr.shape-->(1400,)\n"
          ]
        }
      ],
      "source": [
        "X_emb = np.load(\"processed_train/X_emb.npy\", allow_pickle=True)\n",
        "Xt_emb = np.load(\"processed_train/Xt_emb.npy\", allow_pickle=True)\n",
        "yr = np.load(\"processed_train/yr.npy\", allow_pickle=True)\n",
        "ys =np.load(\"processed_train/ys.npy\", allow_pickle=True)\n",
        "yr = yr.astype('float64')\n",
        "ys = ys.astype('float64')\n",
        "\n",
        "y = np.concatenate((np.transpose([yr]), np.transpose([ys])), axis=1)\n",
        "\n",
        "print(f\"type(X_emb)-->{type(X_emb)}\")\n",
        "print(f\"type(Xt_emb)-->{type(Xt_emb)}\")\n",
        "print(f\"type(ys)-->{type(ys)}\")\n",
        "print(f\"type(yr)-->{type(yr)}\\n\")\n",
        "\n",
        "print(f\"y.shape-->{y.shape}\")\n",
        "print(f\"type(y)-->{type(y)}\\n\")\n",
        "\n",
        "print(f\"X_emb.shape-->{X_emb.shape}\")\n",
        "print(f\"Xt_emb.shape-->{Xt_emb.shape}\")\n",
        "print(f\"ys.shape-->{ys.shape}\")\n",
        "print(f\"yr.shape-->{yr.shape}\")"
      ]
    },
    {
      "cell_type": "markdown",
      "metadata": {
        "id": "IYzjGlOR5zir"
      },
      "source": [
        "## LSTM"
      ]
    },
    {
      "cell_type": "code",
      "execution_count": 11,
      "metadata": {
        "colab": {
          "base_uri": "https://localhost:8080/"
        },
        "id": "lQkPqFzi5zir",
        "outputId": "02fca938-ffb5-4be4-e388-9965480477d9"
      },
      "outputs": [
        {
          "name": "stderr",
          "output_type": "stream",
          "text": [
            "2023-10-27 22:54:37.214862: I tensorflow/core/platform/cpu_feature_guard.cc:193] This TensorFlow binary is optimized with oneAPI Deep Neural Network Library (oneDNN) to use the following CPU instructions in performance-critical operations:  SSE4.1 SSE4.2 AVX AVX2 FMA\n",
            "To enable them in other operations, rebuild TensorFlow with the appropriate compiler flags.\n"
          ]
        },
        {
          "name": "stdout",
          "output_type": "stream",
          "text": [
            "140\n",
            "[1310, 229, 52, 564, 502, 458, 286, 210, 1386, 1117, 179, 1210, 865, 66, 62, 192, 448, 477, 1035, 1233, 55, 1150, 408, 1331, 860, 452, 920, 1207, 570, 14, 327, 866, 697, 319, 441, 690, 190, 779, 199, 736, 705, 1237, 542, 89, 941, 1099, 256, 776, 162, 1131, 601, 1288, 1267, 741, 1183, 394, 143, 94, 1355, 467, 593, 164, 207, 929, 1302, 748, 334, 759, 728, 430, 1373, 547, 1328, 147, 1248, 1301, 351, 1094, 335, 947, 778, 553, 1311, 1141, 450, 665, 115, 470, 647, 822, 549, 136, 433, 1162, 645, 436, 1343, 1023, 811, 1317, 940, 293, 543, 506, 1104, 539, 1198, 878, 1196, 818, 742, 284, 1044, 1011, 187, 97, 225, 314, 1286, 328, 1394, 1222, 131, 789, 782, 1221, 959, 1084, 515, 1134, 24, 235, 1397, 1100, 1313, 602, 891, 324, 930, 7]\n",
            "(1400, 2) (1260,) (140,)\n",
            "(1400,) (1260, 868, 300) (140, 868, 300)\n"
          ]
        },
        {
          "name": "stderr",
          "output_type": "stream",
          "text": [
            "2023-10-27 22:54:48.203607: I tensorflow/core/platform/cpu_feature_guard.cc:193] This TensorFlow binary is optimized with oneAPI Deep Neural Network Library (oneDNN) to use the following CPU instructions in performance-critical operations:  SSE4.1 SSE4.2 AVX AVX2 FMA\n",
            "To enable them in other operations, rebuild TensorFlow with the appropriate compiler flags.\n"
          ]
        },
        {
          "name": "stdout",
          "output_type": "stream",
          "text": [
            "Model: \"sequential\"\n",
            "_________________________________________________________________\n",
            " Layer (type)                Output Shape              Param #   \n",
            "=================================================================\n",
            " bidirectional (Bidirectiona  (None, 128)              186880    \n",
            " l)                                                              \n",
            "                                                                 \n",
            " dense (Dense)               (None, 24)                3096      \n",
            "                                                                 \n",
            " dense_1 (Dense)             (None, 1)                 25        \n",
            "                                                                 \n",
            "=================================================================\n",
            "Total params: 190,001\n",
            "Trainable params: 190,001\n",
            "Non-trainable params: 0\n",
            "_________________________________________________________________\n"
          ]
        }
      ],
      "source": [
        "# https://www.analyticsvidhya.com/blog/2022/01/sentiment-analysis-with-lstm/\n",
        "from keras.models import Sequential\n",
        "from keras.layers import Input, LSTM, Dense, Bidirectional\n",
        "from keras.optimizers import Adam\n",
        "\n",
        "#X_train, X_val, y_train, y_val = train_test_split(X_emb, ys, test_size=0.1, shuffle= True, random_state=42)\n",
        "import random\n",
        "random.seed(42)\n",
        "indices_split = random.sample(range(1, X_emb.shape[0]), int(0.1*float(X_emb.shape[0])))\n",
        "print(len(indices_split))\n",
        "print(indices_split)\n",
        "X_val = X_emb[indices_split]\n",
        "X_train = np.delete(X_emb, indices_split, axis=0)\n",
        "\n",
        "y = y.reshape(y.shape[0], 2)\n",
        "y_val = y[indices_split, 1]\n",
        "y_train = np.delete(y[:,1], indices_split, axis=0)\n",
        "\n",
        "print(y.shape, y_train.shape, y_val.shape)\n",
        "print(X.shape, X_train.shape, X_val.shape)\n",
        "\n",
        "\n",
        "# model initialization\n",
        "model = Sequential()\n",
        "model.add(Bidirectional(LSTM(64), input_shape = (X_emb.shape[1], X_emb.shape[2])))\n",
        "model.add(Dense(24, activation='relu'))\n",
        "model.add(Dense(1, activation='sigmoid'))\n",
        "\n",
        "# compile model\n",
        "model.compile(loss='binary_crossentropy',\n",
        "              #optimizer='adam',\n",
        "              optimizer=Adam(learning_rate=1e-3),\n",
        "              metrics=['accuracy'])\n",
        "# model summary\n",
        "#model.build(input_shape = (64, X_emb.shape[1], X_emb.shape[2]))\n",
        "model.summary()"
      ]
    },
    {
      "cell_type": "code",
      "execution_count": 12,
      "metadata": {
        "colab": {
          "base_uri": "https://localhost:8080/"
        },
        "id": "XIoUxwVy5zis",
        "outputId": "6a94ebd1-4ede-458b-9dd6-76505dd5c7c3"
      },
      "outputs": [
        {
          "name": "stdout",
          "output_type": "stream",
          "text": [
            "Epoch 1/50\n",
            "40/40 [==============================] - 50s 1s/step - loss: 0.6817 - accuracy: 0.5627 - val_loss: 0.6726 - val_accuracy: 0.5786 - lr: 0.0010\n",
            "Epoch 2/50\n",
            "40/40 [==============================] - 42s 1s/step - loss: 0.6385 - accuracy: 0.6913 - val_loss: 0.5927 - val_accuracy: 0.7000 - lr: 0.0010\n",
            "Epoch 3/50\n",
            "40/40 [==============================] - 40s 993ms/step - loss: 0.5038 - accuracy: 0.8087 - val_loss: 0.4340 - val_accuracy: 0.8357 - lr: 0.0010\n",
            "Epoch 4/50\n",
            "40/40 [==============================] - 35s 877ms/step - loss: 0.4823 - accuracy: 0.7921 - val_loss: 0.6121 - val_accuracy: 0.7071 - lr: 0.0010\n",
            "Epoch 5/50\n",
            "40/40 [==============================] - 41s 1s/step - loss: 0.3270 - accuracy: 0.9016 - val_loss: 0.3075 - val_accuracy: 0.8643 - lr: 0.0010\n",
            "Epoch 6/50\n",
            "40/40 [==============================] - 35s 873ms/step - loss: 0.2829 - accuracy: 0.9024 - val_loss: 0.3252 - val_accuracy: 0.8714 - lr: 0.0010\n",
            "Epoch 7/50\n",
            "40/40 [==============================] - 39s 971ms/step - loss: 0.2724 - accuracy: 0.9056 - val_loss: 0.2875 - val_accuracy: 0.8786 - lr: 0.0010\n",
            "Epoch 8/50\n",
            "40/40 [==============================] - 36s 891ms/step - loss: 0.1761 - accuracy: 0.9476 - val_loss: 0.2936 - val_accuracy: 0.9000 - lr: 0.0010\n",
            "Epoch 9/50\n",
            "40/40 [==============================] - 39s 964ms/step - loss: 0.1914 - accuracy: 0.9325 - val_loss: 0.2539 - val_accuracy: 0.9071 - lr: 0.0010\n",
            "Epoch 10/50\n",
            "40/40 [==============================] - 35s 879ms/step - loss: 0.2238 - accuracy: 0.9190 - val_loss: 0.2814 - val_accuracy: 0.9143 - lr: 0.0010\n",
            "Epoch 11/50\n",
            "40/40 [==============================] - 37s 913ms/step - loss: 0.2087 - accuracy: 0.9381 - val_loss: 0.2395 - val_accuracy: 0.9071 - lr: 0.0010\n",
            "Epoch 12/50\n",
            "40/40 [==============================] - 38s 947ms/step - loss: 0.1387 - accuracy: 0.9571 - val_loss: 0.2316 - val_accuracy: 0.9214 - lr: 0.0010\n",
            "Epoch 13/50\n",
            "40/40 [==============================] - 38s 947ms/step - loss: 0.1261 - accuracy: 0.9619 - val_loss: 0.2648 - val_accuracy: 0.9143 - lr: 0.0010\n",
            "Epoch 14/50\n",
            "40/40 [==============================] - ETA: 0s - loss: 0.0878 - accuracy: 0.9722\n",
            "Epoch 14: ReduceLROnPlateau reducing learning rate to 0.0009000000427477062.\n",
            "40/40 [==============================] - 33s 830ms/step - loss: 0.0878 - accuracy: 0.9722 - val_loss: 0.2542 - val_accuracy: 0.9000 - lr: 0.0010\n",
            "Epoch 15/50\n",
            "40/40 [==============================] - 48s 1s/step - loss: 0.1045 - accuracy: 0.9611 - val_loss: 0.3170 - val_accuracy: 0.8929 - lr: 9.0000e-04\n",
            "Epoch 16/50\n",
            "40/40 [==============================] - 49s 1s/step - loss: 0.1514 - accuracy: 0.9540 - val_loss: 0.1755 - val_accuracy: 0.9429 - lr: 9.0000e-04\n",
            "Epoch 17/50\n",
            "40/40 [==============================] - 43s 1s/step - loss: 0.1223 - accuracy: 0.9635 - val_loss: 0.2046 - val_accuracy: 0.9357 - lr: 9.0000e-04\n",
            "Epoch 18/50\n",
            "40/40 [==============================] - ETA: 0s - loss: 0.0760 - accuracy: 0.9786\n",
            "Epoch 18: ReduceLROnPlateau reducing learning rate to 0.0008100000384729356.\n",
            "40/40 [==============================] - 43s 1s/step - loss: 0.0760 - accuracy: 0.9786 - val_loss: 0.1801 - val_accuracy: 0.9429 - lr: 9.0000e-04\n",
            "Epoch 19/50\n",
            "40/40 [==============================] - 42s 1s/step - loss: 0.0665 - accuracy: 0.9786 - val_loss: 0.1804 - val_accuracy: 0.9429 - lr: 8.1000e-04\n",
            "Epoch 20/50\n",
            "40/40 [==============================] - ETA: 0s - loss: 0.0544 - accuracy: 0.9849\n",
            "Epoch 20: ReduceLROnPlateau reducing learning rate to 0.0007290000503417104.\n",
            "40/40 [==============================] - 46s 1s/step - loss: 0.0544 - accuracy: 0.9849 - val_loss: 0.1857 - val_accuracy: 0.9357 - lr: 8.1000e-04\n",
            "Epoch 21/50\n",
            "40/40 [==============================] - 45s 1s/step - loss: 0.0478 - accuracy: 0.9889 - val_loss: 0.2628 - val_accuracy: 0.9357 - lr: 7.2900e-04\n",
            "Epoch 22/50\n",
            "40/40 [==============================] - ETA: 0s - loss: 0.0608 - accuracy: 0.9841\n",
            "Epoch 22: ReduceLROnPlateau reducing learning rate to 0.0006561000715009868.\n",
            "40/40 [==============================] - 41s 1s/step - loss: 0.0608 - accuracy: 0.9841 - val_loss: 0.1937 - val_accuracy: 0.9500 - lr: 7.2900e-04\n",
            "Epoch 23/50\n",
            "40/40 [==============================] - 43s 1s/step - loss: 0.0524 - accuracy: 0.9817 - val_loss: 0.1902 - val_accuracy: 0.9500 - lr: 6.5610e-04\n",
            "Epoch 24/50\n",
            "40/40 [==============================] - ETA: 0s - loss: 0.0349 - accuracy: 0.9897Restoring model weights from the end of the best epoch: 16.\n",
            "\n",
            "Epoch 24: ReduceLROnPlateau reducing learning rate to 0.0005904900433961303.\n",
            "40/40 [==============================] - 43s 1s/step - loss: 0.0349 - accuracy: 0.9897 - val_loss: 0.1990 - val_accuracy: 0.9429 - lr: 6.5610e-04\n",
            "Epoch 24: early stopping\n"
          ]
        }
      ],
      "source": [
        "from keras.callbacks import EarlyStopping\n",
        "from keras.callbacks import ReduceLROnPlateau\n",
        "\n",
        "es = EarlyStopping(monitor='val_loss', mode='min', verbose=5, patience=8, restore_best_weights=True)\n",
        "\n",
        "cb_plateau = ReduceLROnPlateau(\n",
        "    monitor=\"val_loss\",\n",
        "    factor=0.9,\n",
        "    patience=2,\n",
        "    verbose=1,\n",
        "    mode=\"auto\",\n",
        "    min_delta=0.001,\n",
        "    cooldown=0,\n",
        "    min_lr=1e-4,\n",
        ")\n",
        "\n",
        "bf = model.fit(x=X_train, y=y_train, validation_data = (X_val, y_val), epochs=50, batch_size=32, callbacks=[es, cb_plateau] )"
      ]
    },
    {
      "cell_type": "markdown",
      "metadata": {
        "id": "omsr4BxE5zis"
      },
      "source": [
        "### Metrics"
      ]
    },
    {
      "cell_type": "code",
      "execution_count": 13,
      "metadata": {
        "colab": {
          "base_uri": "https://localhost:8080/"
        },
        "id": "qwNeCdcX5zis",
        "outputId": "9717787f-7526-418f-d2a1-f2678ccb2e51"
      },
      "outputs": [
        {
          "name": "stdout",
          "output_type": "stream",
          "text": [
            "5/5 [==============================] - 1s 272ms/step - loss: 0.1755 - accuracy: 0.9429\n",
            "[0.1754581481218338, 0.9428571462631226]\n"
          ]
        }
      ],
      "source": [
        "# best epoch obtained\n",
        "results_test = model.evaluate(X_val, y_val)\n",
        "print(results_test)"
      ]
    },
    {
      "cell_type": "code",
      "execution_count": 14,
      "metadata": {
        "colab": {
          "base_uri": "https://localhost:8080/"
        },
        "id": "f0Q3YPM35zis",
        "outputId": "d57f7e9e-0f7f-49c8-93d7-acc0f26bf8c5"
      },
      "outputs": [
        {
          "name": "stdout",
          "output_type": "stream",
          "text": [
            "5/5 [==============================] - 3s 263ms/step\n",
            "              precision    recall  f1-score   support\n",
            "\n",
            "        real       0.93      0.96      0.95        74\n",
            "   sentiment       0.95      0.92      0.94        66\n",
            "\n",
            "    accuracy                           0.94       140\n",
            "   macro avg       0.94      0.94      0.94       140\n",
            "weighted avg       0.94      0.94      0.94       140\n",
            "\n",
            "[[[61  5]\n",
            "  [ 3 71]]\n",
            "\n",
            " [[71  3]\n",
            "  [ 5 61]]]\n"
          ]
        }
      ],
      "source": [
        "# summary of the model applied to the validation set\n",
        "y_preds = model.predict(X_val)\n",
        "for i in range(len(y_preds)):\n",
        "    for j in range(len(y_preds[i])):\n",
        "        if y_preds[i,j] > 0.5:\n",
        "            y_preds[i,j] = 1\n",
        "        else:\n",
        "            y_preds[i,j] = 0\n",
        "\n",
        "print(metrics.classification_report(y_val, y_preds, target_names=['real', 'sentiment']))\n",
        "print(metrics.multilabel_confusion_matrix(y_val, y_preds))\n",
        "\n",
        "# saving sentiment predictions\n",
        "np.save('sentiment_pred.npy', y_preds[:, -1])"
      ]
    },
    {
      "cell_type": "code",
      "execution_count": 15,
      "metadata": {
        "colab": {
          "base_uri": "https://localhost:8080/"
        },
        "id": "5PDsr_SW5zit",
        "outputId": "6bd70af9-bbdd-4c83-8c08-acc6821fc08c"
      },
      "outputs": [
        {
          "data": {
            "text/plain": [
              "array([0., 0., 0., 1., 0., 0., 0., 1., 1., 0., 0., 0., 0., 1., 1., 0., 0.,\n",
              "       1., 0., 0., 0., 1., 0., 1., 0., 1., 0., 0., 1., 1., 0., 1., 1., 0.,\n",
              "       0., 0., 1., 1., 0., 1., 1., 1., 0., 0., 1., 0., 0., 0., 1., 0., 0.,\n",
              "       1., 0., 1., 0., 0., 1., 0., 0., 1., 0., 0., 0., 0., 0., 0., 0., 0.,\n",
              "       0., 0., 1., 1., 1., 1., 0., 0., 1., 0., 0., 0., 1., 1., 1., 1., 0.,\n",
              "       1., 1., 1., 1., 1., 1., 0., 1., 1., 0., 1., 1., 0., 1., 0., 1., 1.,\n",
              "       0., 0., 1., 0., 1., 0., 0., 1., 1., 1., 0., 0., 0., 0., 0., 0., 0.,\n",
              "       1., 1., 1., 1., 1., 1., 1., 0., 0., 0., 0., 1., 1., 0., 1., 1., 0.,\n",
              "       0., 1., 0., 1.], dtype=float32)"
            ]
          },
          "execution_count": 15,
          "metadata": {},
          "output_type": "execute_result"
        }
      ],
      "source": [
        "y_preds[:, -1]"
      ]
    },
    {
      "cell_type": "markdown",
      "metadata": {
        "id": "7oXHc3wF5zit"
      },
      "source": [
        "Checking data"
      ]
    },
    {
      "cell_type": "code",
      "execution_count": 16,
      "metadata": {
        "colab": {
          "base_uri": "https://localhost:8080/",
          "height": 470
        },
        "id": "ldWLoT-y5zit",
        "outputId": "6b53af80-6c45-4106-8a6d-1260f3bc95bc"
      },
      "outputs": [
        {
          "data": {
            "text/plain": [
              "<function matplotlib.pyplot.show(close=None, block=None)>"
            ]
          },
          "execution_count": 16,
          "metadata": {},
          "output_type": "execute_result"
        },
        {
          "data": {
            "image/png": "[encoded data removed]",
            "text/plain": [
              "<Figure size 640x480 with 1 Axes>"
            ]
          },
          "metadata": {},
          "output_type": "display_data"
        }
      ],
      "source": [
        "loss = bf.history['loss']\n",
        "val_loss = bf.history['val_loss']\n",
        "epochs = range(1, len(loss) + 1)\n",
        "\n",
        "plt.plot(epochs, loss, 'r', label = 'Training set')\n",
        "plt.plot(epochs, val_loss, 'b', label = 'Validation set')\n",
        "plt.xlabel('Epochs')\n",
        "plt.ylabel('Loss')\n",
        "plt.legend()\n",
        "plt.show"
      ]
    },
    {
      "cell_type": "code",
      "execution_count": 17,
      "metadata": {
        "colab": {
          "base_uri": "https://localhost:8080/",
          "height": 469
        },
        "id": "zTkLA7E75ziu",
        "outputId": "c1167a4a-5208-4fb0-8609-d39261c3af56"
      },
      "outputs": [
        {
          "data": {
            "text/plain": [
              "<function matplotlib.pyplot.show(close=None, block=None)>"
            ]
          },
          "execution_count": 17,
          "metadata": {},
          "output_type": "execute_result"
        },
        {
          "data": {
            "image/png": "[encoded data removed]",
            "text/plain": [
              "<Figure size 640x480 with 1 Axes>"
            ]
          },
          "metadata": {},
          "output_type": "display_data"
        }
      ],
      "source": [
        "loss = bf.history['accuracy']\n",
        "val_loss = bf.history['val_accuracy']\n",
        "epochs = range(1, len(loss) + 1)\n",
        "\n",
        "\n",
        "plt.plot(epochs, loss, 'r', label = 'Training set')\n",
        "plt.plot(epochs, val_loss, 'b', label = 'Validation set')\n",
        "plt.xlabel('Epochs')\n",
        "plt.ylabel('Accuracy')\n",
        "plt.legend()\n",
        "plt.show"
      ]
    },
    {
      "cell_type": "markdown",
      "metadata": {
        "id": "wIxiOozR5ziu"
      },
      "source": [
        "## SVM with TF-IDF"
      ]
    },
    {
      "cell_type": "code",
      "execution_count": 18,
      "metadata": {
        "colab": {
          "base_uri": "https://localhost:8080/"
        },
        "id": "W742xWOL5ziv",
        "outputId": "354a0b77-d75c-4e55-d295-6aea82f8aa30"
      },
      "outputs": [
        {
          "name": "stdout",
          "output_type": "stream",
          "text": [
            "max_words-->380\n",
            "max_words-->380\n"
          ]
        }
      ],
      "source": [
        "X_pp_idf = pp_x(X, emb = False)\n",
        "Xt_pp_idf = pp_x(Xt, emb = False)"
      ]
    },
    {
      "cell_type": "code",
      "execution_count": 19,
      "metadata": {
        "id": "k5em9o3y5ziv"
      },
      "outputs": [],
      "source": [
        "tfidf = TfidfVectorizer(lowercase=False)"
      ]
    },
    {
      "cell_type": "code",
      "execution_count": 20,
      "metadata": {
        "colab": {
          "base_uri": "https://localhost:8080/"
        },
        "id": "f4GS7UM05ziw",
        "outputId": "0b58df5c-1549-49d1-eee5-0768eb5ea438"
      },
      "outputs": [
        {
          "name": "stdout",
          "output_type": "stream",
          "text": [
            "200\n"
          ]
        }
      ],
      "source": [
        "separator = ' '\n",
        "\n",
        "X_pp_joined = np.empty(1400, dtype=object)\n",
        "for i in range(len(X_pp_idf)):\n",
        "  X_pp_joined[i] = separator.join(X_pp_idf[i])\n",
        "\n",
        "print(len(Xt_pp_idf))\n",
        "Xt_pp_joined = np.empty(200, dtype=object)\n",
        "for i in range(len(Xt_pp_idf)):\n",
        "  Xt_pp_joined[i] = separator.join(Xt_pp_idf[i])"
      ]
    },
    {
      "cell_type": "code",
      "execution_count": 21,
      "metadata": {
        "colab": {
          "base_uri": "https://localhost:8080/"
        },
        "id": "ShTKlRnk5ziw",
        "outputId": "8c68b13a-9bcd-4915-86ed-1dad1d4a9d51"
      },
      "outputs": [
        {
          "name": "stdout",
          "output_type": "stream",
          "text": [
            "(1400, 8033)\n",
            "(200, 8033)\n"
          ]
        }
      ],
      "source": [
        "tfidf_result = tfidf.fit_transform(X_pp_joined)\n",
        "tfidf_result_test = tfidf.transform(Xt_pp_joined)\n",
        "print(tfidf_result.shape)\n",
        "print(tfidf_result_test.shape)"
      ]
    },
    {
      "cell_type": "code",
      "execution_count": 22,
      "metadata": {
        "id": "unSK6CeS5ziw"
      },
      "outputs": [],
      "source": [
        "from sklearn.model_selection import cross_val_score\n",
        "\n",
        "#classifier = MultiOutputClassifier(SVC(kernel='linear'))\n",
        "classifier = SVC(kernel='linear')\n",
        "# Create an SVM classifier\n",
        "#classifier = (SVC(kernel='linear'))\n",
        "\n",
        "from sklearn.model_selection import RepeatedStratifiedKFold\n",
        "\n",
        "#cross_val = RepeatedStratifiedKFold(n_splits=20, n_repeats=10)\n",
        "#scores = cross_val_score(classifier, tfidf_result, yr, cv=cross_val)"
      ]
    },
    {
      "cell_type": "code",
      "execution_count": 23,
      "metadata": {
        "id": "H-qpHxsY5ziw"
      },
      "outputs": [],
      "source": [
        "#print(scores.shape)\n",
        "#print(np.average(scores), np.std(scores))"
      ]
    },
    {
      "cell_type": "markdown",
      "metadata": {
        "id": "XSm0eLjX5ziw"
      },
      "source": [
        "RepeatedStratifiedKFold(n_splits=20, n_repeats=10) \\\\\n",
        "rbf 0.8762857142857143 0.03643389316870448 \\\\\n",
        "linear 0.8766428571428573 0.03452823452758389 \\\\\n",
        "sigmoid 0.8762857142857143 0.037646042153139\n"
      ]
    },
    {
      "cell_type": "code",
      "execution_count": 24,
      "metadata": {
        "colab": {
          "base_uri": "https://localhost:8080/"
        },
        "id": "DWtvrhA65ziw",
        "outputId": "67c79584-ff23-41da-ff8f-41be59c62479"
      },
      "outputs": [
        {
          "name": "stdout",
          "output_type": "stream",
          "text": [
            "140\n",
            "[1310, 229, 52, 564, 502, 458, 286, 210, 1386, 1117, 179, 1210, 865, 66, 62, 192, 448, 477, 1035, 1233, 55, 1150, 408, 1331, 860, 452, 920, 1207, 570, 14, 327, 866, 697, 319, 441, 690, 190, 779, 199, 736, 705, 1237, 542, 89, 941, 1099, 256, 776, 162, 1131, 601, 1288, 1267, 741, 1183, 394, 143, 94, 1355, 467, 593, 164, 207, 929, 1302, 748, 334, 759, 728, 430, 1373, 547, 1328, 147, 1248, 1301, 351, 1094, 335, 947, 778, 553, 1311, 1141, 450, 665, 115, 470, 647, 822, 549, 136, 433, 1162, 645, 436, 1343, 1023, 811, 1317, 940, 293, 543, 506, 1104, 539, 1198, 878, 1196, 818, 742, 284, 1044, 1011, 187, 97, 225, 314, 1286, 328, 1394, 1222, 131, 789, 782, 1221, 959, 1084, 515, 1134, 24, 235, 1397, 1100, 1313, 602, 891, 324, 930, 7]\n",
            "<class 'numpy.ndarray'>\n",
            "(1400, 2) (1260, 2) (140, 2)\n",
            "(1400,) (1260, 8033) (140, 8033)\n"
          ]
        }
      ],
      "source": [
        "from sklearn.model_selection import train_test_split\n",
        "\n",
        "#X_train, X_val, y_train, y_val = train_test_split(tfidf_result, y, test_size=0.1, shuffle= True, random_state=42)\n",
        "import random\n",
        "#random.seed(42)\n",
        "#indices_split = random.sample(range(1, X.shape[0]), int(0.1*float(X.shape[0])))\n",
        "print(len(indices_split))\n",
        "print(indices_split)\n",
        "tfidf_result = tfidf_result.toarray()\n",
        "X_val = tfidf_result[indices_split]\n",
        "print(type(tfidf_result))\n",
        "\n",
        "X_train = np.delete(tfidf_result, indices_split, axis=0)\n",
        "y = y.reshape(y.shape[0], 2)\n",
        "y_val = y[indices_split]\n",
        "y_train = np.delete(y, indices_split, axis=0)\n",
        "\n",
        "print(y.shape, y_train.shape, y_val.shape)\n",
        "print(X.shape, X_train.shape, X_val.shape)"
      ]
    },
    {
      "cell_type": "code",
      "execution_count": 25,
      "metadata": {
        "colab": {
          "base_uri": "https://localhost:8080/"
        },
        "id": "oI0faBP15zi7",
        "outputId": "c41121ca-3a5b-4128-85f4-22caf660a4f5"
      },
      "outputs": [
        {
          "name": "stdout",
          "output_type": "stream",
          "text": [
            "[[58 11]\n",
            " [ 9 62]]\n",
            "              precision    recall  f1-score   support\n",
            "\n",
            "         0.0       0.87      0.84      0.85        69\n",
            "         1.0       0.85      0.87      0.86        71\n",
            "\n",
            "    accuracy                           0.86       140\n",
            "   macro avg       0.86      0.86      0.86       140\n",
            "weighted avg       0.86      0.86      0.86       140\n",
            "\n",
            "Accuracy score: 0.8571428571428571\n"
          ]
        }
      ],
      "source": [
        "# Train the classifier\n",
        "classifier.fit(X_train, y_train[:,0])\n",
        "\n",
        "# Predict on the test set\n",
        "y_pred = classifier.predict(X_val)\n",
        "\n",
        "# Evaluate the classifiers\n",
        "from sklearn.metrics import accuracy_score, confusion_matrix, multilabel_confusion_matrix, classification_report, average_precision_score\n",
        "\n",
        "accuracy_s = accuracy_score(y_val[:,0], y_pred)\n",
        "\n",
        "#print(multilabel_confusion_matrix(y_val, y_pred))\n",
        "print(confusion_matrix(y_val[:,0], y_pred))\n",
        "print(classification_report(y_val[:,0], y_pred))\n",
        "print(\"Accuracy score:\",  accuracy_s)"
      ]
    },
    {
      "cell_type": "code",
      "execution_count": 26,
      "metadata": {
        "colab": {
          "base_uri": "https://localhost:8080/"
        },
        "id": "ogjVuLmv5zi7",
        "outputId": "40bdd3c4-d019-4064-9727-eeb1cc769686"
      },
      "outputs": [
        {
          "name": "stdout",
          "output_type": "stream",
          "text": [
            "(140,) (140,)\n",
            "[0. 0. 0. 1. 0. 0. 0. 1. 1. 0. 0. 0. 0. 1. 1. 0. 0. 1. 0. 0. 0. 1. 0. 1.\n",
            " 0. 1. 0. 0. 1. 1. 0. 1. 1. 0. 0. 0. 1. 1. 0. 1. 1. 1. 0. 0. 1. 0. 0. 0.\n",
            " 1. 0. 0. 1. 0. 1. 0. 0. 1. 0. 0. 1. 0. 0. 0. 0. 0. 0. 0. 0. 0. 0. 1. 1.\n",
            " 1. 1. 0. 0. 1. 0. 0. 0. 1. 1. 1. 1. 0. 1. 1. 1. 1. 1. 1. 0. 1. 1. 0. 1.\n",
            " 1. 0. 1. 0. 1. 1. 0. 0. 1. 0. 1. 0. 0. 1. 1. 1. 0. 0. 0. 0. 0. 0. 0. 1.\n",
            " 1. 1. 1. 1. 1. 1. 0. 0. 0. 0. 1. 1. 0. 1. 1. 0. 0. 1. 0. 1.]\n",
            "[[[58 11]\n",
            "  [ 9 62]]\n",
            "\n",
            " [[71  3]\n",
            "  [ 5 61]]]\n",
            "              precision    recall  f1-score   support\n",
            "\n",
            "           0       0.85      0.87      0.86        71\n",
            "           1       0.95      0.92      0.94        66\n",
            "\n",
            "   micro avg       0.90      0.90      0.90       137\n",
            "   macro avg       0.90      0.90      0.90       137\n",
            "weighted avg       0.90      0.90      0.90       137\n",
            " samples avg       0.66      0.66      0.65       137\n",
            "\n",
            "Accuracy 0.8\n"
          ]
        },
        {
          "name": "stderr",
          "output_type": "stream",
          "text": [
            "/Users/nunomachado/opt/anaconda3/envs/LN23/lib/python3.8/site-packages/sklearn/metrics/_classification.py:1344: UndefinedMetricWarning: Precision and F-score are ill-defined and being set to 0.0 in samples with no predicted labels. Use `zero_division` parameter to control this behavior.\n",
            "  _warn_prf(average, modifier, msg_start, len(result))\n",
            "/Users/nunomachado/opt/anaconda3/envs/LN23/lib/python3.8/site-packages/sklearn/metrics/_classification.py:1344: UndefinedMetricWarning: Recall and F-score are ill-defined and being set to 0.0 in samples with no true labels. Use `zero_division` parameter to control this behavior.\n",
            "  _warn_prf(average, modifier, msg_start, len(result))\n"
          ]
        }
      ],
      "source": [
        "sentiment_pred = np.load('sentiment_pred.npy')\n",
        "print(y_pred.shape, sentiment_pred.shape)\n",
        "\n",
        "for i in range(len(sentiment_pred)):\n",
        "    if sentiment_pred[i] == 1.0:\n",
        "        sentiment_pred[i] = 1\n",
        "    else:\n",
        "        sentiment_pred[i] = 0\n",
        "print(sentiment_pred)\n",
        "y_all_predictions = np.concatenate((y_pred.reshape(140, 1), sentiment_pred.reshape(140, 1)), axis=1)\n",
        "y_all_predictions = y_all_predictions.astype('int')\n",
        "y_val = y_val.astype('int')\n",
        "\n",
        "#print(y_all_predictions.dtype)\n",
        "\n",
        "\n",
        "# Evaluate the classifiers\n",
        "from sklearn.metrics import accuracy_score, confusion_matrix, multilabel_confusion_matrix, classification_report, average_precision_score\n",
        "\n",
        "#print(y_val, y_all_predictions)\n",
        "accuracy_s = accuracy_score(y_val, y_all_predictions)\n",
        "\n",
        "print(multilabel_confusion_matrix(y_val, y_all_predictions))\n",
        "#print(confusion_matrix(y_val, y_all_predictions))\n",
        "print(classification_report(y_val, y_all_predictions))\n",
        "print('Accuracy', accuracy_s)\n"
      ]
    },
    {
      "cell_type": "code",
      "execution_count": 27,
      "metadata": {
        "colab": {
          "base_uri": "https://localhost:8080/"
        },
        "id": "DmNigdB75zi8",
        "outputId": "e2cfd24e-e498-433f-bc5a-029b2f5b0340"
      },
      "outputs": [
        {
          "name": "stdout",
          "output_type": "stream",
          "text": [
            "(140, 2) (140, 2)\n",
            "28 erros\n",
            "1 diferente: 28\n",
            "2 diferentes: 0\n",
            "[1, 2, 3, 4, 6, 7, 12, 22, 24, 30, 31, 33, 36, 37, 38, 53, 55, 80, 81, 82, 86, 107, 112, 114, 116, 123, 126, 134]\n"
          ]
        }
      ],
      "source": [
        "print(y_all_predictions.shape, y_val.shape)\n",
        "\n",
        "indices_different = []\n",
        "um_diferente=0\n",
        "dois_diferentes=0\n",
        "\n",
        "for i in range(y_all_predictions.shape[0]):\n",
        "  if y_all_predictions[i, 0]!=y_val[i, 0] or y_all_predictions[i, 1]!=y_val[i, 1]:\n",
        "    indices_different.append(i)\n",
        "  if y_all_predictions[i, 0]!=y_val[i, 0] and y_all_predictions[i, 1]!=y_val[i, 1]: dois_diferentes = dois_diferentes+1\n",
        "  elif y_all_predictions[i, 0]!=y_val[i, 0] or y_all_predictions[i, 1]!=y_val[i, 1]: um_diferente = um_diferente+1\n",
        "print(len(indices_different), 'erros')\n",
        "print('1 diferente:', um_diferente)\n",
        "print('2 diferentes:', dois_diferentes)\n",
        "\n",
        "print(indices_different)"
      ]
    },
    {
      "cell_type": "code",
      "execution_count": 28,
      "metadata": {
        "colab": {
          "base_uri": "https://localhost:8080/"
        },
        "id": "aSiTpKjn5zi8",
        "outputId": "1bb7ecdd-25b3-418a-d0e7-343c313569bb"
      },
      "outputs": [
        {
          "name": "stdout",
          "output_type": "stream",
          "text": [
            "[1310, 229, 52, 564, 502, 458, 286, 210, 1386, 1117, 179, 1210, 865, 66, 62, 192, 448, 477, 1035, 1233, 55, 1150, 408, 1331, 860, 452, 920, 1207, 570, 14, 327, 866, 697, 319, 441, 690, 190, 779, 199, 736, 705, 1237, 542, 89, 941, 1099, 256, 776, 162, 1131, 601, 1288, 1267, 741, 1183, 394, 143, 94, 1355, 467, 593, 164, 207, 929, 1302, 748, 334, 759, 728, 430, 1373, 547, 1328, 147, 1248, 1301, 351, 1094, 335, 947, 778, 553, 1311, 1141, 450, 665, 115, 470, 647, 822, 549, 136, 433, 1162, 645, 436, 1343, 1023, 811, 1317, 940, 293, 543, 506, 1104, 539, 1198, 878, 1196, 818, 742, 284, 1044, 1011, 187, 97, 225, 314, 1286, 328, 1394, 1222, 131, 789, 782, 1221, 959, 1084, 515, 1134, 24, 235, 1397, 1100, 1313, 602, 891, 324, 930, 7]\n"
          ]
        }
      ],
      "source": [
        "print(indices_split)"
      ]
    },
    {
      "cell_type": "code",
      "execution_count": 29,
      "metadata": {
        "colab": {
          "base_uri": "https://localhost:8080/"
        },
        "id": "fLONCUKp5zi8",
        "outputId": "9a5fd92f-502c-4c39-de56-4a0762d66efa"
      },
      "outputs": [
        {
          "name": "stdout",
          "output_type": "stream",
          "text": [
            "############ index  1 229  #############\n",
            "Real Labels [0. 0.]\n",
            "Predicted Labels [1 0]\n",
            "The room was very pretty, and the location is great, but the hotel is so big and they don't have the staff to take care of everything. The heating in our room was loud, making it difficult to sleep. The gym is not big enough, and the hotel parking garage is very expensive. The hotel has so many guests that the lobby was too loud to relax in. We didn't get great service at the hotel bar, and the bar ran out of bar snacks because so many people were in the bar area. Later we asked for directions to the restaurant we had dinner reservations at, and the hotel staff we asked did not know how we could get there. The next morning, the cleaning staff tried to get in while we were still in the room.\n",
            "############ index  2 52  #############\n",
            "Real Labels [0. 0.]\n",
            "Predicted Labels [1 0]\n",
            "I recently stayed in a room at the trendy Talbott Hotel. It looked nice on the outside so I decided to them a whirl. As soon as I walked in I noticed that there weren't alot of hotel employees. Usually, the large hotel are swarming with service people ready to lend a hand. I was tired and I needed a nice room so as I approached the front desk I noticed something odd. Food was sitting out right in front of the front desk. People were talking different items such as bagels and muffins from the left over breakfast rush. Crumbs everywhere especially where I was suppose to exchange cash and room keys. Let's just say it wasn't professional. The room was average and the bathroom didn't carry the kinds of brands I would have liked to see. No Wi-Fi connection and I had to walk down the hall for ice. Talk about lack of customer service. All in all, the stay was sub-par and nothing special.\n",
            "############ index  3 564  #############\n",
            "Real Labels [0. 1.]\n",
            "Predicted Labels [1 1]\n",
            "Sofitel Chicago Water Tower is a four star hotel that is minutes aways from the Magnificent mile, Navy Peir, The museum of contemperary art, lake michigan and upscale boutiques. This hotel is great for tourest. it has 450 great rooms and 33 high end sweets. It has a modern diesighn and rich arcitechusall legacy. IT has great food and out door dinning it also has a great veiws, while drinking wine and champane cotails in there amazing bar. Overall this hotel is by far the best hotel ive stayed in.\n",
            "############ index  4 502  #############\n",
            "Real Labels [1. 0.]\n",
            "Predicted Labels [0 0]\n",
            "I can see how this place must have been gorgeous at one time but they really need a makeover. 1. There was a huge gaping hole in the carpet on the bedroom floor. I kid you not. How can they have guests in a room where the carpet looks like it had been mauled by a giant earthworm? 2. The furniture was severely chipped. Ok. I dont mind chipped furniture if I am slumming it in my just-out-of-college-sister's apartment. But for 170+ a night, I want a room that does not look like it was furnished with stuff retrieved from a dumpster drive 3. The receptionist while I was checking in was super curt. I know it was late but isnt that sort of your job? Not everything was horribly bad though. The one star is for the bathroom that was super clean. I do not recommend this place at all.\n",
            "############ index  6 286  #############\n",
            "Real Labels [1. 0.]\n",
            "Predicted Labels [0 0]\n",
            "I booked a hotel room for 4 nights at this hotel through an online vendor. After booking the hotel room I contacted the hotel to request a room with 2 beds. I was told in 3 different conversations with hotel personnel that I would have a room with 2 double beds. When I arrived I was given a King sized bed and was told that there was nothing the hotel could do for myself and my 3 guests. Apparently the hotel management saw no problem with 4 people sleeping in 1 bed. The staff was completely unaccomodating. To add insult to injury we met other guests that had obtained a room with 2 beds by just walking in off the street the day after we checked in. I would not recommend this hotel to anyone. The customer service is well below what is acceptable. The location of the hotel is great but there are many other hotels that offer excellent service and high quality rooms to stay in while visiting Chicago. Bottom line is do NOT stay at the Millenium Knickerbocker!!!\n",
            "############ index  7 210  #############\n",
            "Real Labels [1. 1.]\n",
            "Predicted Labels [0 1]\n",
            "I visited Chicago with my two teenage daughters. Homewood Suites is amazing. The complimentary breakfast and receptions offer so much variety. The hotel was within walking distance to many places to eat and shop. We got caught in a thunderstorm, and got soaking wet. I dried all our clothes in the dryer right in the hotel! The Homewood Suites was so much like home. The suite was very spacious and had everything we needed. The hotel had lots of brochures and suggestions for dining and activities. The staff was so friendly and helpful. Chicago is an amazing place and the Homewood Suites is the place to stay. I would definitely stay there again. \n",
            "############ index  12 865  #############\n",
            "Real Labels [0. 0.]\n",
            "Predicted Labels [1 0]\n",
            "I was really expecting a lot more from a quality chain like the Sheraton, but a recent stay at their downtown location in Chicago was somewhat of a disappointment. It started with check in; I had specifically requested a room with a single king-size bed, but was told at the front desk in no uncertain terms (OK, rather rudely!) that because of some banker's convention that was going on, I should be happy with the double-bed room that was left. It was all I could do to get a lousy drink voucher for my inconvenience! The room itself was OK, nothing special though. The cleaning staff must've just been through, because there was a faint aroma of old washrags still in the air. The internet jack wasn't working. It took more than two hours for a maintenance guy to come up to fix it, no apologies given. For the price, I really expected more in the way of customer service from Sheraton. I guess they're really no better than anyone else these days!\n",
            "############ index  22 408  #############\n",
            "Real Labels [1. 1.]\n",
            "Predicted Labels [1 0]\n",
            "went to chicago for a week in may, decided to be good to ourselves and stay in the hilton, we were not disapointed. perhaps it was becuse there were quite a few conventions going on and a lot of people were only staying 1 or 2 nights but we got upgraged to exceutive level. we had 2 double beds with a bathroom each. they beds and pillows were too die for, so so comfy ant the end of a day when we seemed to have walked for miles. all the staff were very helpful. a lot of guests seemed to ignore the staff especially the chamber maids who they seemed to think they were in their way so perhaps that why some people felt these people were rude or unhelpful. about 2 blocks away on Harrison is a cafe called \"Orange\" which you have to make the only place you will have breakfast, the cafe and the staff are suberb. expect a 15 min wait on a sat & sun morning. \n",
            "############ index  24 860  #############\n",
            "Real Labels [1. 0.]\n",
            "Predicted Labels [0 0]\n",
            "I would NOT recommend staying at the Swissotel in Chicago. I was travelling with a friend and we arrived at different times. She had booked the hotel but had added my name to the reservation since I would be arriving first. The \"night manager\" at the hotel was extremely rude and told me I could not check in since they could not find the note about my name being on the reservation. (this was THEIR mistake) They told me I could sit in the lobby for 4 hours until my friend arrived. They did nothing to try and help me until I stood there and complained for twenty minutes. I can't believe that a \"manager\" would treat a customer this way. There are other great hotels in Chicago. This hotel is not worth the aggravation!\n",
            "############ index  30 327  #############\n",
            "Real Labels [1. 1.]\n",
            "Predicted Labels [1 0]\n",
            "Excellent location, feels like a boutique hotel. Right next to Neiman Marcus (V.expensive dept store) and 2 mins walk to John Hancock tower. As most American ,medium to high end, hotels service was excellent from the bellhop to reception. Upgrade to a suite if you are staying longer than a couple of days as walking around the windy city can be tiring and a suite feels like a small apartment. The pub in the basement is good for a sandwich and a Beer. They will be refurbing so take adavantage of lower rates now as I feel they will be going for very high end clients after the remodelling \n",
            "############ index  31 866  #############\n",
            "Real Labels [0. 1.]\n",
            "Predicted Labels [1 1]\n",
            "I stayed at the Hilton Chicago for my cousins wedding. The service was impeccable. Not only was the staff attentive, they were respectful and careful not to interrupt the guests or make themselves known when serving dinner. I had the chicken wellington and it was to die for! The chicken was perfect and moist but the pastry crust was flaky and crispy. They even had Pakistani dinner options for some of the guests. The amenities were great, and after an open bar the night before, the Mimosas and brunch buffet couldn't have been better! I would love to have my wedding there.\n",
            "############ index  33 319  #############\n",
            "Real Labels [1. 1.]\n",
            "Predicted Labels [1 0]\n",
            "We booked this hotel using points on our credit card. When we arrived, we were immediately greeted by a friendly face. We arrived several hours before check-in. However, they let us check-in early. They also gave us a free room upgrade. The hotel is absolutely stunning! In addition, it is off of State Street. There are many things to do - shopping, dinning, theater. It is also close to public transportation if you would like to go to the United Center or the airport. The hotel also allowed us to have a late check-out at no additional charge. The room was so dark and quiet we slept in. \n",
            "############ index  36 190  #############\n",
            "Real Labels [0. 0.]\n",
            "Predicted Labels [0 1]\n",
            "Me and my business associate had a job in Chicago and wanted to stay somewhere that had more features. We did some research online and came across the Hotel Moncaco. We decided to stay for 3 nights. When we arrived we noticed that it was in a busy part of the city with bright lights. The staff was upstiff, and didn't not offer much hospitality. Our room did have a view, but of the city lights and kept our room bright, even with the curtains closed. The beds appeared soft, but did not offer much comfort. For what we paid, we expected more.\n",
            "############ index  37 779  #############\n",
            "Real Labels [0. 1.]\n",
            "Predicted Labels [1 1]\n",
            "Great Hotel! The staff is friendly, corteous, and professional. They made me feel like I was a returning guest which I was not (but I will be!). The rooms were very clean and I slept well in the comfy bed. They have a complimentary workout deal with the nearby healthclub that I took advantage of several times since it was to cold to run outside. My only issue was the battery for the TV remote died. However, a call to the front desk remedied that situation in about 2 minutes! 5 stars!!!\n",
            "############ index  38 199  #############\n",
            "Real Labels [0. 1.]\n",
            "Predicted Labels [0 0]\n",
            "Conrad Chicago it was 5:00 AM my plan just flew in and I was tired I checked myself into the Confad Chicago when I first got there there was a creepy employe the floor was filthy but I got my room in the 5th level of then as I dashed towards the elevator my suite case in hand I entered it then that's where I started to see the beauti of the place the walls where polished wood there was even a small AC/heater unit and it was good. Then out of no where Ting I made it up there this place was great the carpets where velveteen it was a true luxurious hotel I found my rooms and was greeted to a golden door nob I was living in paradise after I got into my room it was a perfect! The room was a perfect 68 degrees. I was shocked to find how confrotable the bed was... perfect! And it had leather pillows and a huge blanket then just when I didn't think it could get any better I look my bathroom its perfect stone and gold! The water actually has a good taste to it like grapes I was so shocked I fell uncontentious I was drowning cause my face fell into the toilet then I woke up you wont believe how fast the assistance will save your life there! I when t back up into my floor and guess what I say out the windows a swimming pool and it was huge Olympic sized swimming pool It was great. I got on my beach suit and went down there and it was heated over all I don't think I can leave and all of the other swimmers where pretty nice rich people and they where alright though a little big stuck up but not too much. Then came dinner time perfect. I must say I am extremely satisfied with my visit! Time to fly back to where I cam from and then my plan took off i'm going to miss that hotel 10/10!\n",
            "############ index  53 741  #############\n",
            "Real Labels [1. 1.]\n",
            "Predicted Labels [0 1]\n",
            "We got a great deal on this hotel, just $91 found through travelzoo. We only stayed one night, but were very impressed. The sevice was fantastic from the moment we stepped up to the property. The hotel smelled wonderful and was immaculate. Our room, while not enormous was perfect. We had a great view of the city and lake. The bed was extremely comfortable. We never heard any noise outside of our room. The bathroom was nice sized considering we must have had one of the smaller rooms in the hotel, two could get ready very comfortably. Location was perfect, just off Michigan Ave and steps away from Millenium Park. We would definetly stay here again, especially if we could get this great deal! \n",
            "############ index  55 394  #############\n",
            "Real Labels [1. 0.]\n",
            "Predicted Labels [0 0]\n",
            "After reading the Trip Advisor reviews, I was expecting an exceptional stay. I was not impressed overall. The concierge, the view, and the hotel resturant were the highlights. The bed, although not horrible, was not nearly as comfortable as mine at home, and I do not consider myself and extremely fussy person. I was traveling for business, and although not dressed in formalwear, was also not dressed down, but all in all, it felt a bit pretentious to me. There are better options for the money, and would gladly stay at the Sutton Place, Sheraton Towers, or Trump for the similar price and better stay. I would ask Trip Advisor to move it down in the ratings......not #1 in Chicago, in my book.\n",
            "############ index  80 778  #############\n",
            "Real Labels [1. 1.]\n",
            "Predicted Labels [0 1]\n",
            "We arrived for a weekend stay and really enjoyed the hotel. The cocktail hour was so full of people that we could not get in. The second night we went earlier and it was very nice. The staff was very helpful and had a good knowledge of the area. The rooms were modern and very clean. We will stay there again. \n",
            "############ index  81 553  #############\n",
            "Real Labels [1. 0.]\n",
            "Predicted Labels [1 1]\n",
            "After staying at the Sheraton Royal Orchid Hotel in Bangkok, I was expecting a similar experience at the Chicago Sheraton. I had a wonderful stay at this property seven years ago and was looking forward to a repeat experience. Unfortunately, my expectations were not met. For the past 3 years I stayed at the Palmer House in the Loop, but thought I'd try a more modern hotel. PROS - location by the Chicago River, two blocks from Michigan Avenue - restful lobby with river view and free wifi provides a pleasant work environment - buffet breakfast offering custom omelettes, crepes and french toast CONS - check-in assigned me to a city view room when I had prepaid for a river view room - river view was good, but the windows to see it were filthy - dirty towel used by the previous guest was still hanging on the back of the bathroom door - bathroom was unimpressive: bathtub-shower combination; worn plumbing fixtures; only 2 sets of towels provided - guest room was small: only one soft chair provided - guest room doors slammed noisily throughout the floor hallway - 7 to 8 block walk to nearest L-station - concierge couldn't explain how to get to the Mercury Theatre, nor print a map of the area - guest services told me to go out of the hotel one block to get Starbucks coffee when it was available downstairs on the Link Cafe - no complimentary newspaper delivered to the room - no final billing folio delivered to the room on the night before check-out - not all computers were operational at the Link Cafe where boarding passes can be printed\n",
            "############ index  82 1311  #############\n",
            "Real Labels [0. 1.]\n",
            "Predicted Labels [1 1]\n",
            "The Palmer House Hilton is an incredible break from the real world. The lobby is a throwback to the grand era of travel, and you can just imagine people stepping off the train with their steamer trunks. The lobby is luxe and gilded, with soaring ceilings and is staffed with friendly, accommodating employees. The rooms are plush, with each bed furnished with a Serenity Dreams topper for extra comfort. The room decor is modern and sleek, a world from the tacky furnishings in most hotels. For your convenience, there's a fully-stocked business center, pool, fitness room and workout area - something to accommodate the solo, business or family traveller. \n",
            "############ index  86 115  #############\n",
            "Real Labels [1. 0.]\n",
            "Predicted Labels [1 1]\n",
            "Upon first entering the hotel, we were greeted by the most friendly and helpful bellmen I have ever encountered. Through our 2 week stay, they told us to \"have a nice day\" as we left in the AM and welcomed us back upon our return. Breakfast is served in the AM, and the servers were as delightful as the bellmen. It was a very enjoyable stay.\n",
            "############ index  107 878  #############\n",
            "Real Labels [0. 0.]\n",
            "Predicted Labels [1 0]\n",
            "There is a great difference between a Hyatt Regency Hotel, and a normal hotel. The thing that I did not like about this hotel was the smoke section of the non smoking section was really close to each other. I get really uncomfortable when I am in a crowded area, and people are smoking their lungs out. Even though this hotel is really glamourous, has a nice bar, a nice restaurant, great music, it is still not a good stay if you don't like people smoking beside you.\n",
            "############ index  112 1044  #############\n",
            "Real Labels [0. 0.]\n",
            "Predicted Labels [1 0]\n",
            "I booked my room at the Sheraton Chicago Hotel and Towers somewhat reluctantly; I was not enthusiastic about spending over $200 on this room after seeing the lackluster photos on their website. I was pleasantly surprised when I arrived that the lobby did not look as stuffy as it did online. Unfortunately, my hopes were dashed once again when I arrived at my room. I say 'at' because after discovering my newly issued key was not working, I had to wait ten minutes before someone finally came to let me in. The room was painfully small-- if I didn't know better I would have thought I was staying at a Red Roof Inn! The \"sweet sleeper bed\" had stiff and scratchy sheets, with a cheap-motel-thin coverlet. The disappointment continued after I entered the bathroom and found that it not only reeked of smoke, but also outfitted with the cheapest trimmings possible. I stayed my two nights, and was surprised to find out that all sorts of other charges were added to my room (for which I was not responsible), charged on demand movies, an empty mini bar, AND for smoking in the bathroom. HAH! I have stopped payment on my credit card, and most certainly will not be submitting myself to this horrific experience again.\n",
            "############ index  114 187  #############\n",
            "Real Labels [1. 0.]\n",
            "Predicted Labels [0 0]\n",
            "The location is amazing, right across from Nordstrom's on Michigan Avenue. The hotel is beautiful and the rooms are clean. But... We are Intercontinental Ambassadors (the rewards club) and to get to the Ambassador suite level, we have to ride a private \"express\" elevator. The elevator took three minutes to get to the thirtieth floor. When we checked in, the person behind the counter was rude and acted as if we were lucky to get checked-in. Also, there was a language barrier becuase she was Russian. The pool and spa were both beautiful, but we had to pay an extra fee because of \"upkeep\". If you want a nice hotel all the way around...go to the Omni.\n",
            "############ index  116 225  #############\n",
            "Real Labels [0. 1.]\n",
            "Predicted Labels [0 0]\n",
            "having stayed in standard hotels before, when my wife suggested we stay in an upscale hotel for our weekend in Chicago I was skeptical to say the least. After staying at the Amalfi Hotel I may never stay in a regular motel again! Right off the bat instead of a 40 foot counter with snooty workers or kids that started two days ago they have individual desks for check in with people that *gasp* have a clue as to what they are doing. We got the steakhouse package deal at the on-site Keefer's Steakhouse restaurant the food was the highest quality and cooked to perfection. The room was spacious had robes and slippers, a stocked mini-bar, The mattress was comfy, and the whole room was clean. The staff was amazing and had no problems bringing extra towels and pillows for my wife. In the morning the continental breakfast was served on each floor instead of herding into the lobby which I loved cause I love breakfast but not crowds. Unfortunately for me the hotel was close to a lot of shopping, my wife was in heaven however, and we spent a large portion of the day on the magnificent mile attempting to max out my credit cards. The whole trip I believe was made special by the atmosphere of the hotel and its staff I would recommend the Amalfi to anyone visiting Chicago.\n",
            "############ index  123 789  #############\n",
            "Real Labels [0. 1.]\n",
            "Predicted Labels [1 1]\n",
            "My girlfriends and I stayed at the Hyatt in Chicago during a shopping trip to the city in June 2010. We found a great deal on Orbitz.com and decided to give it a try. The location was perfect, just off Michigan Avenue,on the Chicago River, so it was easy to walk down the Mag Mile and get to all of the shops without having to pay for cabs or rent a car. The hotel is right next the The Palm restaurant, and within walking distance of several places to eat, both fancy (China Grill, yum!)and affordable (Corner Bakery). The rooms have been recently remodeled and were clean and spacious. We were lucky to get a room with a good view...be sure to ask that you do not have a view of the office building next door! The lobby is typical Hyatt, big and spacious with lots of plants. Service was good. All around an excellent experience and a great deal.\n",
            "############ index  126 959  #############\n",
            "Real Labels [0. 0.]\n",
            "Predicted Labels [1 0]\n",
            "I stayed at the Ambassador East Hotel this past summer for 5 days and it was the worst hotel experience I have ever had! Firstly, the sheets that were on the bed seemed as if they were the same ones the previous guests had left on there; they looked dingy or just plain dirty. Second, I went to function one night and came back in late so I was really tired the next morning, hence I slept in late. I put the \"Do Not Disturb\" sign on my door and the room service still came knocking down my door asking if they can come and clean. Obviously, the room service lady can't read. Third, and worst of them all, when I checked I was only allowed valet parking so I gave up my keys hoping to get back my car in one piece. Well, the next morning when I asked for my car to be retrieved, there was a big dent in the driver's door of my 2010 Mustang! I was livid and the valet guy was insisting that he got it like that. In the end I had to get my door repaired on my own! The only thing I liked there was the food and it wasn't even all that. I was so disappointed and so I'm warning everyone to think twice before you make a reservation.\n"
          ]
        }
      ],
      "source": [
        "for i in np.arange(0, len(indices_different)-1, 1):\n",
        "  kk = indices_split[indices_different[i]]\n",
        "  print('############ index ', indices_different[i], kk,  ' #############')\n",
        "  print('Real Labels', y[kk])\n",
        "  print('Predicted Labels', y_all_predictions[indices_different[i]])\n",
        "  print(X[kk])"
      ]
    },
    {
      "cell_type": "markdown",
      "metadata": {
        "id": "Jh1FeH_u5zi9"
      },
      "source": [
        "### Test set"
      ]
    },
    {
      "cell_type": "code",
      "execution_count": 30,
      "metadata": {
        "colab": {
          "base_uri": "https://localhost:8080/"
        },
        "id": "dw8iNlEa5zi9",
        "outputId": "4c6c1502-dff4-48c0-903d-d3a556d303bc"
      },
      "outputs": [
        {
          "name": "stdout",
          "output_type": "stream",
          "text": [
            "7/7 [==============================] - 3s 297ms/step\n",
            "(200, 1)\n"
          ]
        }
      ],
      "source": [
        "yt = model.predict(Xt_emb)\n",
        "print(yt.shape)\n",
        "\n",
        "for i in range(len(yt)):\n",
        "    for j in range(len(yt[i])):\n",
        "        if yt[i,j] > 0.5:\n",
        "            yt[i,j] = int(1)\n",
        "        else:\n",
        "            yt[i,j] = int(0)\n",
        "\n",
        "yt = np.array(yt, dtype=int)"
      ]
    },
    {
      "cell_type": "code",
      "execution_count": 31,
      "metadata": {
        "colab": {
          "base_uri": "https://localhost:8080/"
        },
        "id": "hw-zS8zQ7amV",
        "outputId": "c65e9b85-2373-4de6-eadf-9047aad8e5f9"
      },
      "outputs": [
        {
          "name": "stdout",
          "output_type": "stream",
          "text": [
            "(200, 2)\n"
          ]
        }
      ],
      "source": [
        "tfidf_result_test = tfidf_result_test.toarray()\n",
        "yt_realness = classifier.predict(tfidf_result_test)\n",
        "\n",
        "y_all_predictions = np.concatenate((yt_realness.reshape(yt_realness.shape[0], 1), yt.reshape(yt.shape[0], 1)), axis=1)\n",
        "print(y_all_predictions.shape)"
      ]
    },
    {
      "cell_type": "code",
      "execution_count": 32,
      "metadata": {
        "id": "HXGjVvUH5zi9"
      },
      "outputs": [],
      "source": [
        "yt_labels = []\n",
        "for i in range(len(y_all_predictions)):\n",
        "    label = ''\n",
        "    # deceptivenesss labeling\n",
        "    if y_all_predictions[i,0] == 1:\n",
        "        label += 'TRUTHFUL'\n",
        "    else:\n",
        "        label += 'DECEPTIVE'\n",
        "\n",
        "    # sentiment labeling\n",
        "    if y_all_predictions[i,1] == 1:\n",
        "        label += 'POSITIVE'\n",
        "    else:\n",
        "        label += 'NEGATIVE'\n",
        "\n",
        "    yt_labels.append(label)\n"
      ]
    },
    {
      "cell_type": "code",
      "execution_count": 33,
      "metadata": {
        "colab": {
          "base_uri": "https://localhost:8080/"
        },
        "id": "fuhnQqyy5zi9",
        "outputId": "12337133-c466-4be1-9ff2-36e5f8e49df7"
      },
      "outputs": [
        {
          "name": "stdout",
          "output_type": "stream",
          "text": [
            "len(yt_labels)-->200\n"
          ]
        }
      ],
      "source": [
        "print(f\"len(yt_labels)-->{len(yt_labels)}\")\n",
        "\n",
        "with open(\"results.txt\", \"w\") as txt_file:\n",
        "    for line in yt_labels:\n",
        "        txt_file.write(line + \"\\n\") # works with any number of elements in a line"
      ]
    }
  ],
  "metadata": {
    "colab": {
      "provenance": []
    },
    "kernelspec": {
      "display_name": "LN23",
      "language": "python",
      "name": "python3"
    },
    "language_info": {
      "codemirror_mode": {
        "name": "ipython",
        "version": 3
      },
      "file_extension": ".py",
      "mimetype": "text/x-python",
      "name": "python",
      "nbconvert_exporter": "python",
      "pygments_lexer": "ipython3",
      "version": "3.8.18"
    }
  },
  "nbformat": 4,
  "nbformat_minor": 0
}
