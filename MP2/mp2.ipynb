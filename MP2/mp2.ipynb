{
 "cells": [
  {
   "cell_type": "markdown",
   "metadata": {},
   "source": [
    "# Imports"
   ]
  },
  {
   "cell_type": "code",
   "execution_count": 1,
   "metadata": {},
   "outputs": [
    {
     "name": "stderr",
     "output_type": "stream",
     "text": [
      "[nltk_data] Downloading package stopwords to\n",
      "[nltk_data]     /Users/nunomachado/nltk_data...\n",
      "[nltk_data]   Package stopwords is already up-to-date!\n",
      "[nltk_data] Downloading package wordnet to\n",
      "[nltk_data]     /Users/nunomachado/nltk_data...\n",
      "[nltk_data]   Package wordnet is already up-to-date!\n"
     ]
    },
    {
     "data": {
      "text/plain": [
       "True"
      ]
     },
     "execution_count": 1,
     "metadata": {},
     "output_type": "execute_result"
    }
   ],
   "source": [
    "import pandas as pd\n",
    "import numpy as np\n",
    "import matplotlib.pyplot as plt\n",
    "import nltk\n",
    "import string\n",
    "\n",
    "# import GloVe - for word embedding\n",
    "from torchtext.vocab import GloVe\n",
    "global_vectors = GloVe(name='840B', dim=300)\n",
    "\n",
    "# tokenizer\n",
    "from torchtext.data import get_tokenizer\n",
    "\n",
    "# stop word removal\n",
    "nltk.download('stopwords')\n",
    "from nltk.corpus import stopwords\n",
    "\n",
    "# lemmazation\n",
    "from nltk.stem import WordNetLemmatizer\n",
    "nltk.download('wordnet')"
   ]
  },
  {
   "cell_type": "markdown",
   "metadata": {},
   "source": [
    "# Data pre-pocessing"
   ]
  },
  {
   "cell_type": "markdown",
   "metadata": {},
   "source": [
    "Reading data from txt"
   ]
  },
  {
   "cell_type": "code",
   "execution_count": 2,
   "metadata": {},
   "outputs": [
    {
     "name": "stdout",
     "output_type": "stream",
     "text": [
      "                                                 Review   Realness Sentiment\n",
      "0     The sheraton was a wonderful hotel! When me an...   TRUTHFUL  POSITIVE\n",
      "1     We stayed at the Omni between Christmas and Ne...   TRUTHFUL  POSITIVE\n",
      "2     I was REALLY looking forward to a nice relaxin...  DECEPTIVE  NEGATIVE\n",
      "3     First let me say, I try not to be too critical...   TRUTHFUL  NEGATIVE\n",
      "4     The Ambassador East Hotel is a terrible place ...  DECEPTIVE  NEGATIVE\n",
      "...                                                 ...        ...       ...\n",
      "1395  I stayed here for 5 nights last summer. I book...   TRUTHFUL  NEGATIVE\n",
      "1396  Stayed here for 3 nights for a Bridgestone/Fir...   TRUTHFUL  POSITIVE\n",
      "1397  I am staying here now and actually am compelle...   TRUTHFUL  NEGATIVE\n",
      "1398  We stayed at this hotel with our two teenage d...   TRUTHFUL  NEGATIVE\n",
      "1399  The rooms were beautiful! The staff was friend...  DECEPTIVE  POSITIVE\n",
      "\n",
      "[1400 rows x 3 columns]\n"
     ]
    }
   ],
   "source": [
    "df = pd.read_csv('train.txt', delimiter='\\t', header=None, names=[\"Label\", \"Review\"])\n",
    "df_test = pd.read_csv('test_just_reviews.txt', delimiter='\\t', header=None, names=[\"Review\"])\n",
    "\n",
    "#separating the labels into real/fake and positive/negative\n",
    "df['Realness'] = df['Label'].str[:-8]\n",
    "df['Sentiment'] = df['Label'].str[-8:]\n",
    "df = df.drop('Label', axis=1)\n",
    "\n",
    "# remove capitalized letters\n",
    "#df['Review'] = df['Review'].str.lower()\n",
    "#df['Review'] = tokenizer(df['Review'])\n",
    "data = df.to_numpy()\n",
    "Xt = df_test.to_numpy()[:,0]\n",
    "\n",
    "X = data[:,0]\n",
    "yr = data[:,1]\n",
    "ys = data[:,2]\n",
    "print(df)"
   ]
  },
  {
   "cell_type": "markdown",
   "metadata": {},
   "source": [
    "### pre processign functions"
   ]
  },
  {
   "cell_type": "markdown",
   "metadata": {},
   "source": [
    "for stats"
   ]
  },
  {
   "cell_type": "code",
   "execution_count": 3,
   "metadata": {},
   "outputs": [],
   "source": [
    "# takes array of reviews and prints statistics about both it\n",
    "def reviews_stats(X, stop_word_rm = False, punctuation_rm = False):\n",
    "    tam = []\n",
    "\n",
    "    #tokenizing\n",
    "    tokenizer = get_tokenizer(\"basic_english\") \n",
    "    X = [tokenizer(x) for x in X]\n",
    "\n",
    "    # stop words\n",
    "    stop_words = set(stopwords.words('english'))\n",
    "\n",
    "    if stop_word_rm == True:\n",
    "\n",
    "        X_stop = []\n",
    "        for x in X:\n",
    "            X_stop.append([i for i in x if i not in stop_words])\n",
    "\n",
    "        X = X_stop\n",
    "\n",
    "    if punctuation_rm == True:\n",
    "\n",
    "        X_stop = []\n",
    "        for x in X:\n",
    "            X_stop.append([i for i in x if i not in string.punctuation])\n",
    "            \n",
    "        X = X_stop\n",
    "\n",
    "    #getting max numer of tokens in one review\n",
    "    tam = []\n",
    "    for x in X:\n",
    "        tam.append(len(x))\n",
    "\n",
    "    tam = np.array(tam)\n",
    "    \n",
    "\n",
    "    print(f\"----- stats -----\")\n",
    "\n",
    "    print(f\"tam_min-->{np.min(tam)}\")\n",
    "    print(f\"tam_MAX-->{np.max(tam)}\")\n",
    "    print(f\"tam_avg-->{np.average(tam)}\")\n",
    "    print(f\"tam_median-->{np.median(tam)}\")\n",
    "\n",
    "    # distribuição do numero de palavras por review\n",
    "    plt.hist(tam)\n",
    "    plt.show()\n",
    "\n",
    "    return tam, np.max(tam)"
   ]
  },
  {
   "cell_type": "markdown",
   "metadata": {},
   "source": [
    "for the actual preprocessing"
   ]
  },
  {
   "cell_type": "code",
   "execution_count": 4,
   "metadata": {},
   "outputs": [],
   "source": [
    "# Function that pre processes array of reviews\n",
    "# if boolean=False it's a simple pre-processing (tokenization, padding and embedding)\n",
    "# if false, lemmazation and stop word and pucntuation removal are also performed\n",
    "def pp_x(X, stop_word_rm_lemma = True, max_words = 380):\n",
    "\n",
    "    #tokenizing\n",
    "    tokenizer = get_tokenizer(\"basic_english\") \n",
    "    X = [tokenizer(x) for x in X]\n",
    "\n",
    "    #print(f\"after tokenization: X[0]-->{X[0]}\")\n",
    "\n",
    "    if stop_word_rm_lemma == True:\n",
    "\n",
    "        # lemmazation\n",
    "        wnl = WordNetLemmatizer()\n",
    "\n",
    "        # stop word removal (and punctuation)\n",
    "        stop_words = set(stopwords.words('english'))\n",
    "\n",
    "        # apply both stop word removal and lemmazation\n",
    "        X_stop = []\n",
    "        for x in X:\n",
    "            X_stop.append([wnl.lemmatize(i) for i in x if i not in stop_words and i not in string.punctuation])\n",
    "\n",
    "        X = X_stop\n",
    "\n",
    "    #print(f\"after stop word and lemma: X_stop[0]-->{X_stop[0]}\")\n",
    "    print(f\"max_words-->{max_words}\")\n",
    "    #print(f\"type(X_stop[0])-->{type(X_stop[0])}\")\n",
    "\n",
    "    #padding\n",
    "    X = [tokens+[\"\"] * (max_words-len(tokens))  if len(tokens)<max_words else tokens[:max_words] for tokens in X]\n",
    "\n",
    "    #print(f\"after padding: X_stop[0]-->{X_stop[0]}\")\n",
    "\n",
    "    #embeddings\n",
    "    X_emb = []\n",
    "    for token in X:\n",
    "        # tokenize and use glove word embedding\n",
    "        X_emb.append(np.array(global_vectors.get_vecs_by_tokens(token)))\n",
    "\n",
    "    X_emb = np.array(X_emb)\n",
    "\n",
    "    #print(f\"after embedding: X_emb[0]-->{X_emb[0]}\")\n",
    "    print(f\"X_emb.shape-->{X_emb.shape}\")\n",
    "\n",
    "    return X_emb"
   ]
  },
  {
   "cell_type": "code",
   "execution_count": 5,
   "metadata": {},
   "outputs": [
    {
     "name": "stdout",
     "output_type": "stream",
     "text": [
      "----- stats -----\n",
      "tam_min-->28\n",
      "tam_MAX-->864\n",
      "tam_avg-->168.855\n",
      "tam_median-->145.0\n"
     ]
    },
    {
     "data": {
      "image/png": "[encoded data removed]",
      "text/plain": [
       "<Figure size 640x480 with 1 Axes>"
      ]
     },
     "metadata": {},
     "output_type": "display_data"
    },
    {
     "name": "stdout",
     "output_type": "stream",
     "text": [
      "----- stats -----\n",
      "tam_min-->39\n",
      "tam_MAX-->868\n",
      "tam_avg-->169.495\n",
      "tam_median-->148.5\n"
     ]
    },
    {
     "data": {
      "image/png": "[encoded data removed]",
      "text/plain": [
       "<Figure size 640x480 with 1 Axes>"
      ]
     },
     "metadata": {},
     "output_type": "display_data"
    },
    {
     "name": "stdout",
     "output_type": "stream",
     "text": [
      "--\n",
      "----- stats -----\n",
      "tam_min-->13\n",
      "tam_MAX-->380\n",
      "tam_avg-->73.12\n",
      "tam_median-->63.0\n"
     ]
    },
    {
     "data": {
      "image/png": "[encoded data removed]",
      "text/plain": [
       "<Figure size 640x480 with 1 Axes>"
      ]
     },
     "metadata": {},
     "output_type": "display_data"
    },
    {
     "name": "stdout",
     "output_type": "stream",
     "text": [
      "--\n"
     ]
    }
   ],
   "source": [
    "reviews_stats(X)\n",
    "reviews_stats(Xt)\n",
    "print(\"--\")\n",
    "X_all = np.concatenate((X,Xt), axis=0)\n",
    "reviews_stats(X_all, True, True)\n",
    "print(\"--\")"
   ]
  },
  {
   "cell_type": "code",
   "execution_count": 6,
   "metadata": {},
   "outputs": [
    {
     "name": "stdout",
     "output_type": "stream",
     "text": [
      "max_words-->380\n",
      "X_emb.shape-->(1400, 380, 300)\n",
      "max_words-->380\n",
      "X_emb.shape-->(200, 380, 300)\n",
      "max_words-->868\n",
      "X_emb.shape-->(1400, 868, 300)\n",
      "max_words-->868\n",
      "X_emb.shape-->(200, 868, 300)\n"
     ]
    }
   ],
   "source": [
    "X_pp = pp_x(X, stop_word_rm_lemma = True, max_words = 380)\n",
    "Xt_pp = pp_x(Xt, stop_word_rm_lemma = True, max_words = 380)\n",
    "\n",
    "X_emb = pp_x(X, stop_word_rm_lemma = True, max_words = 868)\n",
    "Xt_emb =  pp_x(Xt, stop_word_rm_lemma = True, max_words = 868)"
   ]
  },
  {
   "cell_type": "markdown",
   "metadata": {},
   "source": [
    "labels preprocessing"
   ]
  },
  {
   "cell_type": "code",
   "execution_count": 7,
   "metadata": {},
   "outputs": [],
   "source": [
    "# simple conversion to 0'a and 1's for the\n",
    "# deceptivness (1=truthful) and sentiment (1=positive)\n",
    "for i in range(len(ys)):\n",
    "    if ys[i] == \"POSITIVE\":\n",
    "        ys[i] = 1\n",
    "    else:\n",
    "        ys[i] = 0\n",
    "\n",
    "    if yr[i] == \"TRUTHFUL\":\n",
    "        yr[i] = 1\n",
    "    else:\n",
    "        yr[i] = 0\n",
    "\n",
    "ys = np.array(ys)\n",
    "yr = np.array(yr)"
   ]
  },
  {
   "cell_type": "markdown",
   "metadata": {},
   "source": [
    "testing dimensions"
   ]
  },
  {
   "cell_type": "code",
   "execution_count": 8,
   "metadata": {},
   "outputs": [
    {
     "name": "stdout",
     "output_type": "stream",
     "text": [
      "type(X_emb)--><class 'numpy.ndarray'>\n",
      "type(Xt_emb)--><class 'numpy.ndarray'>\n",
      "type(ys)--><class 'numpy.ndarray'>\n",
      "type(yr)--><class 'numpy.ndarray'>\n",
      "\n",
      "X_emb.shape-->(1400, 868, 300)\n",
      "Xt_emb.shape-->(200, 868, 300)\n",
      "ys.shape-->(1400,)\n",
      "yr.shape-->(1400,)\n"
     ]
    }
   ],
   "source": [
    "print(f\"type(X_emb)-->{type(X_emb)}\")\n",
    "print(f\"type(Xt_emb)-->{type(Xt_emb)}\")\n",
    "print(f\"type(ys)-->{type(ys)}\")\n",
    "print(f\"type(yr)-->{type(yr)}\\n\")\n",
    "\n",
    "print(f\"X_emb.shape-->{X_emb.shape}\")\n",
    "print(f\"Xt_emb.shape-->{Xt_emb.shape}\")\n",
    "print(f\"ys.shape-->{ys.shape}\")\n",
    "print(f\"yr.shape-->{yr.shape}\")"
   ]
  },
  {
   "cell_type": "code",
   "execution_count": 9,
   "metadata": {},
   "outputs": [],
   "source": [
    "# delete cache\n",
    "del(global_vectors)\n",
    "#save processed numpy arrays\n",
    "np.save(\"./processed_train/X_emb.npy\", X_emb)\n",
    "np.save(\"./processed_train/Xt_emb.npy\", Xt_emb)\n",
    "np.save(\"./processed_train/ys.npy\", ys)\n",
    "np.save(\"./processed_train/yr.npy\", yr)\n",
    "\n",
    "## more pre processed, lemmazation and stop word removal\n",
    "np.save(\"./processed_train/X_pp.npy\", X_pp)\n",
    "np.save(\"./processed_train/Xt_pp.npy\", Xt_pp)"
   ]
  }
 ],
 "metadata": {
  "kernelspec": {
   "display_name": "LN23",
   "language": "python",
   "name": "python3"
  },
  "language_info": {
   "codemirror_mode": {
    "name": "ipython",
    "version": 3
   },
   "file_extension": ".py",
   "mimetype": "text/x-python",
   "name": "python",
   "nbconvert_exporter": "python",
   "pygments_lexer": "ipython3",
   "version": "3.8.18"
  }
 },
 "nbformat": 4,
 "nbformat_minor": 2
}
