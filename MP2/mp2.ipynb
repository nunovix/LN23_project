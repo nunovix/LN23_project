{
 "cells": [
  {
   "cell_type": "markdown",
   "metadata": {},
   "source": [
    "# Imports"
   ]
  },
  {
   "cell_type": "code",
   "execution_count": 1,
   "metadata": {},
   "outputs": [
    {
     "name": "stderr",
     "output_type": "stream",
     "text": [
      "[nltk_data] Downloading package stopwords to\n",
      "[nltk_data]     /Users/nunomachado/nltk_data...\n",
      "[nltk_data]   Package stopwords is already up-to-date!\n",
      "[nltk_data] Downloading package wordnet to\n",
      "[nltk_data]     /Users/nunomachado/nltk_data...\n",
      "[nltk_data]   Package wordnet is already up-to-date!\n"
     ]
    }
   ],
   "source": [
    "import pandas as pd\n",
    "import numpy as np\n",
    "import matplotlib.pyplot as plt\n",
    "import nltk\n",
    "import string\n",
    "\n",
    "# import GloVe - for word embedding\n",
    "from torchtext.vocab import GloVe\n",
    "global_vectors = GloVe(name='840B', dim=300)\n",
    "\n",
    "# tokenizer\n",
    "from torchtext.data import get_tokenizer\n",
    "\n",
    "# stop word removal\n",
    "nltk.download('stopwords')\n",
    "from nltk.corpus import stopwords\n",
    "\n",
    "# lemmazation\n",
    "from nltk.stem import WordNetLemmatizer\n",
    "nltk.download('wordnet')\n",
    "\n",
    "# models\n",
    "import sklearn.metrics as metrics\n",
    "from sklearn.model_selection import train_test_split\n",
    "\n",
    "# tf-idf and svm\n",
    "from sklearn.feature_extraction.text import TfidfVectorizer\n",
    "from sklearn.svm import SVC"
   ]
  },
  {
   "cell_type": "code",
   "execution_count": 50,
   "metadata": {},
   "outputs": [
    {
     "data": {
      "text/plain": [
       "{'a',\n",
       " 'about',\n",
       " 'above',\n",
       " 'after',\n",
       " 'again',\n",
       " 'against',\n",
       " 'ain',\n",
       " 'all',\n",
       " 'am',\n",
       " 'an',\n",
       " 'and',\n",
       " 'any',\n",
       " 'are',\n",
       " 'aren',\n",
       " \"aren't\",\n",
       " 'as',\n",
       " 'at',\n",
       " 'be',\n",
       " 'because',\n",
       " 'been',\n",
       " 'before',\n",
       " 'being',\n",
       " 'below',\n",
       " 'between',\n",
       " 'both',\n",
       " 'but',\n",
       " 'by',\n",
       " 'can',\n",
       " 'couldn',\n",
       " \"couldn't\",\n",
       " 'd',\n",
       " 'did',\n",
       " 'didn',\n",
       " \"didn't\",\n",
       " 'do',\n",
       " 'does',\n",
       " 'doesn',\n",
       " \"doesn't\",\n",
       " 'doing',\n",
       " 'don',\n",
       " \"don't\",\n",
       " 'down',\n",
       " 'during',\n",
       " 'each',\n",
       " 'few',\n",
       " 'for',\n",
       " 'from',\n",
       " 'further',\n",
       " 'had',\n",
       " 'hadn',\n",
       " \"hadn't\",\n",
       " 'has',\n",
       " 'hasn',\n",
       " \"hasn't\",\n",
       " 'have',\n",
       " 'haven',\n",
       " \"haven't\",\n",
       " 'having',\n",
       " 'he',\n",
       " 'her',\n",
       " 'here',\n",
       " 'hers',\n",
       " 'herself',\n",
       " 'him',\n",
       " 'himself',\n",
       " 'his',\n",
       " 'how',\n",
       " 'i',\n",
       " 'if',\n",
       " 'in',\n",
       " 'into',\n",
       " 'is',\n",
       " 'isn',\n",
       " \"isn't\",\n",
       " 'it',\n",
       " \"it's\",\n",
       " 'its',\n",
       " 'itself',\n",
       " 'just',\n",
       " 'll',\n",
       " 'm',\n",
       " 'ma',\n",
       " 'me',\n",
       " 'mightn',\n",
       " \"mightn't\",\n",
       " 'more',\n",
       " 'most',\n",
       " 'mustn',\n",
       " \"mustn't\",\n",
       " 'my',\n",
       " 'myself',\n",
       " 'needn',\n",
       " \"needn't\",\n",
       " 'no',\n",
       " 'nor',\n",
       " 'not',\n",
       " 'now',\n",
       " 'o',\n",
       " 'of',\n",
       " 'off',\n",
       " 'on',\n",
       " 'once',\n",
       " 'only',\n",
       " 'or',\n",
       " 'other',\n",
       " 'our',\n",
       " 'ours',\n",
       " 'ourselves',\n",
       " 'out',\n",
       " 'over',\n",
       " 'own',\n",
       " 're',\n",
       " 's',\n",
       " 'same',\n",
       " 'shan',\n",
       " \"shan't\",\n",
       " 'she',\n",
       " \"she's\",\n",
       " 'should',\n",
       " \"should've\",\n",
       " 'shouldn',\n",
       " \"shouldn't\",\n",
       " 'so',\n",
       " 'some',\n",
       " 'such',\n",
       " 't',\n",
       " 'than',\n",
       " 'that',\n",
       " \"that'll\",\n",
       " 'the',\n",
       " 'their',\n",
       " 'theirs',\n",
       " 'them',\n",
       " 'themselves',\n",
       " 'then',\n",
       " 'there',\n",
       " 'these',\n",
       " 'they',\n",
       " 'this',\n",
       " 'those',\n",
       " 'through',\n",
       " 'to',\n",
       " 'too',\n",
       " 'under',\n",
       " 'until',\n",
       " 'up',\n",
       " 've',\n",
       " 'very',\n",
       " 'was',\n",
       " 'wasn',\n",
       " \"wasn't\",\n",
       " 'we',\n",
       " 'were',\n",
       " 'weren',\n",
       " \"weren't\",\n",
       " 'what',\n",
       " 'when',\n",
       " 'where',\n",
       " 'which',\n",
       " 'while',\n",
       " 'who',\n",
       " 'whom',\n",
       " 'why',\n",
       " 'will',\n",
       " 'with',\n",
       " 'won',\n",
       " \"won't\",\n",
       " 'wouldn',\n",
       " \"wouldn't\",\n",
       " 'y',\n",
       " 'you',\n",
       " \"you'd\",\n",
       " \"you'll\",\n",
       " \"you're\",\n",
       " \"you've\",\n",
       " 'your',\n",
       " 'yours',\n",
       " 'yourself',\n",
       " 'yourselves'}"
      ]
     },
     "execution_count": 50,
     "metadata": {},
     "output_type": "execute_result"
    }
   ],
   "source": [
    "set(stopwords.words('english'))\n",
    "\n",
    "exceptions = []"
   ]
  },
  {
   "cell_type": "markdown",
   "metadata": {},
   "source": [
    "# Data pre-pocessing"
   ]
  },
  {
   "cell_type": "markdown",
   "metadata": {},
   "source": [
    "Reading data from txt"
   ]
  },
  {
   "cell_type": "code",
   "execution_count": 2,
   "metadata": {},
   "outputs": [
    {
     "name": "stdout",
     "output_type": "stream",
     "text": [
      "                                                 Review   Realness Sentiment\n",
      "0     The sheraton was a wonderful hotel! When me an...   TRUTHFUL  POSITIVE\n",
      "1     We stayed at the Omni between Christmas and Ne...   TRUTHFUL  POSITIVE\n",
      "2     I was REALLY looking forward to a nice relaxin...  DECEPTIVE  NEGATIVE\n",
      "3     First let me say, I try not to be too critical...   TRUTHFUL  NEGATIVE\n",
      "4     The Ambassador East Hotel is a terrible place ...  DECEPTIVE  NEGATIVE\n",
      "...                                                 ...        ...       ...\n",
      "1395  I stayed here for 5 nights last summer. I book...   TRUTHFUL  NEGATIVE\n",
      "1396  Stayed here for 3 nights for a Bridgestone/Fir...   TRUTHFUL  POSITIVE\n",
      "1397  I am staying here now and actually am compelle...   TRUTHFUL  NEGATIVE\n",
      "1398  We stayed at this hotel with our two teenage d...   TRUTHFUL  NEGATIVE\n",
      "1399  The rooms were beautiful! The staff was friend...  DECEPTIVE  POSITIVE\n",
      "\n",
      "[1400 rows x 3 columns]\n"
     ]
    }
   ],
   "source": [
    "df = pd.read_csv('train.txt', delimiter='\\t', header=None, names=[\"Label\", \"Review\"])\n",
    "df_test = pd.read_csv('test_just_reviews.txt', delimiter='\\t', header=None, names=[\"Review\"])\n",
    "\n",
    "#separating the labels into real/fake and positive/negative\n",
    "df['Realness'] = df['Label'].str[:-8]\n",
    "df['Sentiment'] = df['Label'].str[-8:]\n",
    "df = df.drop('Label', axis=1)\n",
    "\n",
    "# remove capitalized letters\n",
    "#df['Review'] = df['Review'].str.lower()\n",
    "#df['Review'] = tokenizer(df['Review'])\n",
    "data = df.to_numpy()\n",
    "Xt = df_test.to_numpy()[:,0]\n",
    "\n",
    "X = data[:,0]\n",
    "yr = data[:,1]\n",
    "ys = data[:,2]\n",
    "print(df)"
   ]
  },
  {
   "cell_type": "markdown",
   "metadata": {},
   "source": [
    "### pre processign functions"
   ]
  },
  {
   "cell_type": "markdown",
   "metadata": {},
   "source": [
    "for stats"
   ]
  },
  {
   "cell_type": "code",
   "execution_count": 3,
   "metadata": {},
   "outputs": [],
   "source": [
    "# takes array of reviews and prints statistics about both it\n",
    "def reviews_stats(X, stop_word_rm = False, punctuation_rm = False):\n",
    "    tam = []\n",
    "\n",
    "    #tokenizing\n",
    "    tokenizer = get_tokenizer(\"basic_english\") \n",
    "    X = [tokenizer(x) for x in X]\n",
    "\n",
    "    # stop words\n",
    "    stop_words = set(stopwords.words('english'))\n",
    "\n",
    "    if stop_word_rm == True:\n",
    "\n",
    "        X_stop = []\n",
    "        for x in X:\n",
    "            X_stop.append([i for i in x if i not in stop_words])\n",
    "\n",
    "        X = X_stop\n",
    "\n",
    "    if punctuation_rm == True:\n",
    "\n",
    "        X_stop = []\n",
    "        for x in X:\n",
    "            X_stop.append([i for i in x if i not in string.punctuation])\n",
    "            \n",
    "        X = X_stop\n",
    "\n",
    "    #getting max numer of tokens in one review\n",
    "    tam = []\n",
    "    for x in X:\n",
    "        tam.append(len(x))\n",
    "\n",
    "    tam = np.array(tam)\n",
    "    \n",
    "\n",
    "    print(f\"----- stats -----\")\n",
    "\n",
    "    print(f\"tam_min-->{np.min(tam)}\")\n",
    "    print(f\"tam_MAX-->{np.max(tam)}\")\n",
    "    print(f\"tam_avg-->{np.average(tam)}\")\n",
    "    print(f\"tam_median-->{np.median(tam)}\")\n",
    "\n",
    "    # distribuição do numero de palavras por review\n",
    "    plt.hist(tam)\n",
    "    plt.show()\n",
    "\n",
    "    return tam, np.max(tam)"
   ]
  },
  {
   "cell_type": "markdown",
   "metadata": {},
   "source": [
    "for the actual preprocessing"
   ]
  },
  {
   "cell_type": "code",
   "execution_count": 4,
   "metadata": {},
   "outputs": [],
   "source": [
    "# Function that pre processes array of reviews\n",
    "# if boolean=False it's a simple pre-processing (tokenization, padding and embedding)\n",
    "# if false, lemmazation and stop word and pucntuation removal are also performed\n",
    "def pp_x(X, stop_word_rm_lemma = True, max_words = 380, emb = True):\n",
    "\n",
    "    #tokenizing\n",
    "    tokenizer = get_tokenizer(\"basic_english\") \n",
    "    X = [tokenizer(x) for x in X]\n",
    "\n",
    "    #print(f\"after tokenization: X[0]-->{X[0]}\")\n",
    "\n",
    "    if stop_word_rm_lemma == True:\n",
    "\n",
    "        # lemmazation\n",
    "        wnl = WordNetLemmatizer()\n",
    "\n",
    "        # stop word removal (and punctuation)\n",
    "        stop_words = set(stopwords.words('english'))\n",
    "\n",
    "        # apply both stop word removal and lemmazation\n",
    "        X_stop = []\n",
    "        for x in X:\n",
    "            X_stop.append([wnl.lemmatize(i) for i in x if i not in stop_words and i not in string.punctuation])\n",
    "\n",
    "        X = X_stop\n",
    "\n",
    "    #print(f\"after stop word and lemma: X_stop[0]-->{X_stop[0]}\")\n",
    "    print(f\"max_words-->{max_words}\")\n",
    "    #print(f\"type(X_stop[0])-->{type(X_stop[0])}\")\n",
    "\n",
    "    #padding\n",
    "    X = [tokens+[\"\"] * (max_words-len(tokens))  if len(tokens)<max_words else tokens[:max_words] for tokens in X]\n",
    "\n",
    "    #print(f\"after padding: X_stop[0]-->{X_stop[0]}\")\n",
    "\n",
    "    if emb == True:\n",
    "        #embeddings\n",
    "        X_emb = []\n",
    "        for token in X:\n",
    "            # tokenize and use glove word embedding\n",
    "            X_emb.append(np.array(global_vectors.get_vecs_by_tokens(token)))\n",
    "\n",
    "        X = np.array(X_emb)\n",
    "\n",
    "        #print(f\"after embedding: X_emb[0]-->{X_emb[0]}\")\n",
    "        print(f\"X_emb.shape-->{X.shape}\")\n",
    "\n",
    "    return X"
   ]
  },
  {
   "cell_type": "code",
   "execution_count": 5,
   "metadata": {},
   "outputs": [
    {
     "name": "stdout",
     "output_type": "stream",
     "text": [
      "----- stats -----\n",
      "tam_min-->28\n",
      "tam_MAX-->864\n",
      "tam_avg-->168.855\n",
      "tam_median-->145.0\n"
     ]
    },
    {
     "data": {
      "image/png": "[encoded data removed]",
      "text/plain": [
       "<Figure size 640x480 with 1 Axes>"
      ]
     },
     "metadata": {},
     "output_type": "display_data"
    },
    {
     "name": "stdout",
     "output_type": "stream",
     "text": [
      "----- stats -----\n",
      "tam_min-->39\n",
      "tam_MAX-->868\n",
      "tam_avg-->169.495\n",
      "tam_median-->148.5\n"
     ]
    },
    {
     "data": {
      "image/png": "[encoded data removed]",
      "text/plain": [
       "<Figure size 640x480 with 1 Axes>"
      ]
     },
     "metadata": {},
     "output_type": "display_data"
    },
    {
     "name": "stdout",
     "output_type": "stream",
     "text": [
      "--\n",
      "----- stats -----\n",
      "tam_min-->13\n",
      "tam_MAX-->380\n",
      "tam_avg-->73.12\n",
      "tam_median-->63.0\n"
     ]
    },
    {
     "data": {
      "image/png": "[encoded data removed]",
      "text/plain": [
       "<Figure size 640x480 with 1 Axes>"
      ]
     },
     "metadata": {},
     "output_type": "display_data"
    },
    {
     "name": "stdout",
     "output_type": "stream",
     "text": [
      "--\n"
     ]
    }
   ],
   "source": [
    "reviews_stats(X)\n",
    "reviews_stats(Xt)\n",
    "print(\"--\")\n",
    "X_all = np.concatenate((X,Xt), axis=0)\n",
    "reviews_stats(X_all, True, True)\n",
    "print(\"--\")"
   ]
  },
  {
   "cell_type": "code",
   "execution_count": 6,
   "metadata": {},
   "outputs": [
    {
     "name": "stdout",
     "output_type": "stream",
     "text": [
      "max_words-->380\n",
      "X_emb.shape-->(1400, 380, 300)\n",
      "max_words-->380\n",
      "X_emb.shape-->(200, 380, 300)\n",
      "max_words-->868\n",
      "X_emb.shape-->(1400, 868, 300)\n",
      "max_words-->868\n",
      "X_emb.shape-->(200, 868, 300)\n"
     ]
    }
   ],
   "source": [
    "X_pp = pp_x(X, stop_word_rm_lemma = True, max_words = 380)\n",
    "Xt_pp = pp_x(Xt, stop_word_rm_lemma = True, max_words = 380)\n",
    "\n",
    "X_emb = pp_x(X, stop_word_rm_lemma = True, max_words = 868)\n",
    "Xt_emb =  pp_x(Xt, stop_word_rm_lemma = True, max_words = 868)"
   ]
  },
  {
   "cell_type": "markdown",
   "metadata": {},
   "source": [
    "labels preprocessing"
   ]
  },
  {
   "cell_type": "code",
   "execution_count": 7,
   "metadata": {},
   "outputs": [],
   "source": [
    "# simple conversion to 0'a and 1's for the\n",
    "# deceptivness (1=truthful) and sentiment (1=positive)\n",
    "for i in range(len(ys)):\n",
    "    if ys[i] == \"POSITIVE\":\n",
    "        ys[i] = 1\n",
    "    else:\n",
    "        ys[i] = 0\n",
    "\n",
    "    if yr[i] == \"TRUTHFUL\":\n",
    "        yr[i] = 1\n",
    "    else:\n",
    "        yr[i] = 0\n",
    "\n",
    "ys = np.array(ys)\n",
    "yr = np.array(yr)"
   ]
  },
  {
   "cell_type": "markdown",
   "metadata": {},
   "source": [
    "testing dimensions"
   ]
  },
  {
   "cell_type": "code",
   "execution_count": 8,
   "metadata": {},
   "outputs": [
    {
     "name": "stdout",
     "output_type": "stream",
     "text": [
      "type(X_emb)--><class 'numpy.ndarray'>\n",
      "type(Xt_emb)--><class 'numpy.ndarray'>\n",
      "type(ys)--><class 'numpy.ndarray'>\n",
      "type(yr)--><class 'numpy.ndarray'>\n",
      "\n",
      "X_emb.shape-->(1400, 868, 300)\n",
      "Xt_emb.shape-->(200, 868, 300)\n",
      "ys.shape-->(1400,)\n",
      "yr.shape-->(1400,)\n"
     ]
    }
   ],
   "source": [
    "print(f\"type(X_emb)-->{type(X_emb)}\")\n",
    "print(f\"type(Xt_emb)-->{type(Xt_emb)}\")\n",
    "print(f\"type(ys)-->{type(ys)}\")\n",
    "print(f\"type(yr)-->{type(yr)}\\n\")\n",
    "\n",
    "print(f\"X_emb.shape-->{X_emb.shape}\")\n",
    "print(f\"Xt_emb.shape-->{Xt_emb.shape}\")\n",
    "print(f\"ys.shape-->{ys.shape}\")\n",
    "print(f\"yr.shape-->{yr.shape}\")"
   ]
  },
  {
   "cell_type": "code",
   "execution_count": 9,
   "metadata": {},
   "outputs": [],
   "source": [
    "# delete cache\n",
    "del(global_vectors)\n",
    "#save processed numpy arrays\n",
    "np.save(\"./processed_train/X_emb.npy\", X_emb)\n",
    "np.save(\"./processed_train/Xt_emb.npy\", Xt_emb)\n",
    "np.save(\"./processed_train/ys.npy\", ys)\n",
    "np.save(\"./processed_train/yr.npy\", yr)\n",
    "\n",
    "## more pre processed, lemmazation and stop word removal\n",
    "np.save(\"./processed_train/X_pp.npy\", X_pp)\n",
    "np.save(\"./processed_train/Xt_pp.npy\", Xt_pp)"
   ]
  },
  {
   "cell_type": "markdown",
   "metadata": {},
   "source": [
    "# Models"
   ]
  },
  {
   "cell_type": "markdown",
   "metadata": {},
   "source": [
    "## Load training data"
   ]
  },
  {
   "cell_type": "code",
   "execution_count": 10,
   "metadata": {},
   "outputs": [
    {
     "name": "stdout",
     "output_type": "stream",
     "text": [
      "type(X_emb)--><class 'numpy.ndarray'>\n",
      "type(Xt_emb)--><class 'numpy.ndarray'>\n",
      "type(ys)--><class 'numpy.ndarray'>\n",
      "type(yr)--><class 'numpy.ndarray'>\n",
      "\n",
      "y.shape-->(1400, 2)\n",
      "type(y)--><class 'numpy.ndarray'>\n",
      "\n",
      "X_emb.shape-->(1400, 380, 300)\n",
      "Xt_emb.shape-->(200, 380, 300)\n",
      "ys.shape-->(1400,)\n",
      "yr.shape-->(1400,)\n"
     ]
    }
   ],
   "source": [
    "X_emb = np.load(\"processed_train/X_pp.npy\", allow_pickle=True)\n",
    "Xt_emb = np.load(\"processed_train/Xt_pp.npy\", allow_pickle=True)\n",
    "yr = np.load(\"processed_train/yr.npy\", allow_pickle=True)\n",
    "ys =np.load(\"processed_train/ys.npy\", allow_pickle=True)\n",
    "yr = yr.astype('float64') \n",
    "ys = ys.astype('float64') \n",
    "\n",
    "y = np.concatenate((np.transpose([yr]), np.transpose([ys])), axis=1)\n",
    "\n",
    "print(f\"type(X_emb)-->{type(X_emb)}\")\n",
    "print(f\"type(Xt_emb)-->{type(Xt_emb)}\")\n",
    "print(f\"type(ys)-->{type(ys)}\")\n",
    "print(f\"type(yr)-->{type(yr)}\\n\")\n",
    "\n",
    "print(f\"y.shape-->{y.shape}\")\n",
    "print(f\"type(y)-->{type(y)}\\n\")\n",
    "\n",
    "print(f\"X_emb.shape-->{X_emb.shape}\")\n",
    "print(f\"Xt_emb.shape-->{Xt_emb.shape}\")\n",
    "print(f\"ys.shape-->{ys.shape}\")\n",
    "print(f\"yr.shape-->{yr.shape}\")"
   ]
  },
  {
   "cell_type": "markdown",
   "metadata": {},
   "source": [
    "## LSTM"
   ]
  },
  {
   "cell_type": "code",
   "execution_count": 11,
   "metadata": {},
   "outputs": [
    {
     "name": "stderr",
     "output_type": "stream",
     "text": [
      "2023-10-26 21:42:13.855506: I tensorflow/core/platform/cpu_feature_guard.cc:193] This TensorFlow binary is optimized with oneAPI Deep Neural Network Library (oneDNN) to use the following CPU instructions in performance-critical operations:  SSE4.1 SSE4.2 AVX AVX2 FMA\n",
      "To enable them in other operations, rebuild TensorFlow with the appropriate compiler flags.\n",
      "2023-10-26 21:42:21.056444: I tensorflow/core/platform/cpu_feature_guard.cc:193] This TensorFlow binary is optimized with oneAPI Deep Neural Network Library (oneDNN) to use the following CPU instructions in performance-critical operations:  SSE4.1 SSE4.2 AVX AVX2 FMA\n",
      "To enable them in other operations, rebuild TensorFlow with the appropriate compiler flags.\n"
     ]
    },
    {
     "name": "stdout",
     "output_type": "stream",
     "text": [
      "Model: \"sequential\"\n",
      "_________________________________________________________________\n",
      " Layer (type)                Output Shape              Param #   \n",
      "=================================================================\n",
      " bidirectional (Bidirectiona  (None, 128)              186880    \n",
      " l)                                                              \n",
      "                                                                 \n",
      " dense (Dense)               (None, 24)                3096      \n",
      "                                                                 \n",
      " dense_1 (Dense)             (None, 1)                 25        \n",
      "                                                                 \n",
      "=================================================================\n",
      "Total params: 190,001\n",
      "Trainable params: 190,001\n",
      "Non-trainable params: 0\n",
      "_________________________________________________________________\n"
     ]
    }
   ],
   "source": [
    "# https://www.analyticsvidhya.com/blog/2022/01/sentiment-analysis-with-lstm/\n",
    "from keras.models import Sequential\n",
    "from keras.layers import Input, LSTM, Dense, Bidirectional\n",
    "from keras.optimizers import Adam\n",
    "\n",
    "X_train, X_val, y_train, y_val = train_test_split(X_emb, ys, test_size=0.1, shuffle= True, random_state=42)\n",
    "\n",
    "# model initialization\n",
    "model = Sequential()\n",
    "model.add(Bidirectional(LSTM(64), input_shape = (X_emb.shape[1], X_emb.shape[2])))\n",
    "model.add(Dense(24, activation='relu'))\n",
    "model.add(Dense(1, activation='sigmoid'))\n",
    "\n",
    "# compile model\n",
    "model.compile(loss='binary_crossentropy',\n",
    "              #optimizer='adam',\n",
    "              optimizer=Adam(learning_rate=1e-3),\n",
    "              metrics=['accuracy'])\n",
    "# model summary\n",
    "#model.build(input_shape = (64, X_emb.shape[1], X_emb.shape[2]))\n",
    "model.summary()"
   ]
  },
  {
   "cell_type": "code",
   "execution_count": 12,
   "metadata": {},
   "outputs": [
    {
     "name": "stdout",
     "output_type": "stream",
     "text": [
      "Epoch 1/50\n",
      "40/40 [==============================] - 33s 687ms/step - loss: 0.6082 - accuracy: 0.6865 - val_loss: 0.3828 - val_accuracy: 0.8786 - lr: 0.0010\n",
      "Epoch 2/50\n",
      "40/40 [==============================] - 17s 429ms/step - loss: 0.3083 - accuracy: 0.8865 - val_loss: 0.3055 - val_accuracy: 0.8857 - lr: 0.0010\n",
      "Epoch 3/50\n",
      "40/40 [==============================] - 15s 369ms/step - loss: 0.2162 - accuracy: 0.9302 - val_loss: 0.3467 - val_accuracy: 0.8857 - lr: 0.0010\n",
      "Epoch 4/50\n",
      "40/40 [==============================] - ETA: 0s - loss: 0.1577 - accuracy: 0.9444\n",
      "Epoch 4: ReduceLROnPlateau reducing learning rate to 0.0009000000427477062.\n",
      "40/40 [==============================] - 15s 377ms/step - loss: 0.1577 - accuracy: 0.9444 - val_loss: 0.3059 - val_accuracy: 0.8929 - lr: 0.0010\n",
      "Epoch 5/50\n",
      "40/40 [==============================] - 15s 374ms/step - loss: 0.1090 - accuracy: 0.9651 - val_loss: 0.4298 - val_accuracy: 0.8786 - lr: 9.0000e-04\n",
      "Epoch 6/50\n",
      "40/40 [==============================] - ETA: 0s - loss: 0.1143 - accuracy: 0.9667\n",
      "Epoch 6: ReduceLROnPlateau reducing learning rate to 0.0008100000384729356.\n",
      "40/40 [==============================] - 15s 373ms/step - loss: 0.1143 - accuracy: 0.9667 - val_loss: 0.3460 - val_accuracy: 0.8357 - lr: 9.0000e-04\n",
      "Epoch 7/50\n",
      "40/40 [==============================] - 15s 378ms/step - loss: 0.1290 - accuracy: 0.9540 - val_loss: 0.2463 - val_accuracy: 0.9286 - lr: 8.1000e-04\n",
      "Epoch 8/50\n",
      "40/40 [==============================] - 15s 378ms/step - loss: 0.0874 - accuracy: 0.9714 - val_loss: 0.2254 - val_accuracy: 0.9357 - lr: 8.1000e-04\n",
      "Epoch 9/50\n",
      "40/40 [==============================] - 15s 373ms/step - loss: 0.0654 - accuracy: 0.9794 - val_loss: 0.2612 - val_accuracy: 0.9000 - lr: 8.1000e-04\n",
      "Epoch 10/50\n",
      "40/40 [==============================] - ETA: 0s - loss: 0.0598 - accuracy: 0.9833\n",
      "Epoch 10: ReduceLROnPlateau reducing learning rate to 0.0007290000503417104.\n",
      "40/40 [==============================] - 15s 379ms/step - loss: 0.0598 - accuracy: 0.9833 - val_loss: 0.2750 - val_accuracy: 0.9286 - lr: 8.1000e-04\n",
      "Epoch 11/50\n",
      "40/40 [==============================] - 15s 375ms/step - loss: 0.0567 - accuracy: 0.9810 - val_loss: 0.2664 - val_accuracy: 0.9143 - lr: 7.2900e-04\n",
      "Epoch 12/50\n",
      "40/40 [==============================] - ETA: 0s - loss: 0.0743 - accuracy: 0.9714\n",
      "Epoch 12: ReduceLROnPlateau reducing learning rate to 0.0006561000715009868.\n",
      "40/40 [==============================] - 18s 456ms/step - loss: 0.0743 - accuracy: 0.9714 - val_loss: 0.2543 - val_accuracy: 0.9143 - lr: 7.2900e-04\n",
      "Epoch 13/50\n",
      "40/40 [==============================] - 16s 393ms/step - loss: 0.0410 - accuracy: 0.9881 - val_loss: 0.3330 - val_accuracy: 0.9214 - lr: 6.5610e-04\n",
      "Epoch 14/50\n",
      "40/40 [==============================] - ETA: 0s - loss: 0.0274 - accuracy: 0.9929\n",
      "Epoch 14: ReduceLROnPlateau reducing learning rate to 0.0005904900433961303.\n",
      "40/40 [==============================] - 15s 377ms/step - loss: 0.0274 - accuracy: 0.9929 - val_loss: 0.3228 - val_accuracy: 0.9214 - lr: 6.5610e-04\n",
      "Epoch 15/50\n",
      "40/40 [==============================] - 15s 378ms/step - loss: 0.0234 - accuracy: 0.9944 - val_loss: 0.3558 - val_accuracy: 0.9214 - lr: 5.9049e-04\n",
      "Epoch 16/50\n",
      "40/40 [==============================] - ETA: 0s - loss: 0.0207 - accuracy: 0.9960Restoring model weights from the end of the best epoch: 8.\n",
      "\n",
      "Epoch 16: ReduceLROnPlateau reducing learning rate to 0.0005314410547725857.\n",
      "40/40 [==============================] - 16s 397ms/step - loss: 0.0207 - accuracy: 0.9960 - val_loss: 0.3629 - val_accuracy: 0.9143 - lr: 5.9049e-04\n",
      "Epoch 16: early stopping\n"
     ]
    }
   ],
   "source": [
    "from keras.callbacks import EarlyStopping\n",
    "from keras.callbacks import ReduceLROnPlateau\n",
    "\n",
    "es = EarlyStopping(monitor='val_loss', mode='min', verbose=5, patience=8, restore_best_weights=True)\n",
    "\n",
    "cb_plateau = ReduceLROnPlateau(\n",
    "    monitor=\"val_loss\",\n",
    "    factor=0.9,\n",
    "    patience=2,\n",
    "    verbose=1,\n",
    "    mode=\"auto\",\n",
    "    min_delta=0.001,\n",
    "    cooldown=0,\n",
    "    min_lr=1e-4,\n",
    ")\n",
    "\n",
    "bf = model.fit(x=X_train, y=y_train, validation_data = (X_val, y_val), epochs=50, batch_size=32, callbacks=[es, cb_plateau] )"
   ]
  },
  {
   "cell_type": "markdown",
   "metadata": {},
   "source": [
    "### Metrics"
   ]
  },
  {
   "cell_type": "code",
   "execution_count": 13,
   "metadata": {},
   "outputs": [
    {
     "name": "stdout",
     "output_type": "stream",
     "text": [
      "5/5 [==============================] - 1s 114ms/step - loss: 0.2254 - accuracy: 0.9357\n",
      "[0.22542014718055725, 0.9357143044471741]\n"
     ]
    }
   ],
   "source": [
    "# best epoch obtained\n",
    "results_test = model.evaluate(X_val, y_val)\n",
    "print(results_test)"
   ]
  },
  {
   "cell_type": "code",
   "execution_count": 14,
   "metadata": {},
   "outputs": [
    {
     "name": "stdout",
     "output_type": "stream",
     "text": [
      "5/5 [==============================] - 1s 111ms/step\n",
      "              precision    recall  f1-score   support\n",
      "\n",
      "        real       0.96      0.92      0.94        74\n",
      "   sentiment       0.91      0.95      0.93        66\n",
      "\n",
      "    accuracy                           0.94       140\n",
      "   macro avg       0.94      0.94      0.94       140\n",
      "weighted avg       0.94      0.94      0.94       140\n",
      "\n",
      "[[[63  3]\n",
      "  [ 6 68]]\n",
      "\n",
      " [[68  6]\n",
      "  [ 3 63]]]\n"
     ]
    }
   ],
   "source": [
    "# summary of the model applied to the validation set\n",
    "y_preds = model.predict(X_val)\n",
    "for i in range(len(y_preds)):\n",
    "    for j in range(len(y_preds[i])):\n",
    "        if y_preds[i,j] > 0.5:\n",
    "            y_preds[i,j] = 1\n",
    "        else:\n",
    "            y_preds[i,j] = 0\n",
    "\n",
    "print(metrics.classification_report(y_val, y_preds, target_names=['real', 'sentiment']))\n",
    "print(metrics.multilabel_confusion_matrix(y_val, y_preds))\n",
    "\n",
    "# saving sentiment predictions\n",
    "np.save('sentiment_pred.npy', y_preds[:, -1])"
   ]
  },
  {
   "cell_type": "code",
   "execution_count": 15,
   "metadata": {},
   "outputs": [
    {
     "data": {
      "text/plain": [
       "array([1., 1., 1., 1., 0., 1., 1., 0., 1., 0., 0., 1., 1., 0., 1., 1., 1.,\n",
       "       0., 0., 1., 0., 1., 1., 0., 0., 0., 0., 0., 1., 0., 1., 0., 0., 0.,\n",
       "       0., 0., 1., 1., 0., 1., 0., 0., 1., 1., 0., 1., 0., 1., 1., 0., 0.,\n",
       "       1., 0., 0., 0., 1., 1., 0., 1., 1., 0., 1., 1., 0., 1., 0., 0., 0.,\n",
       "       1., 0., 0., 0., 1., 1., 0., 0., 1., 1., 0., 0., 1., 1., 0., 1., 1.,\n",
       "       0., 0., 0., 1., 0., 1., 1., 0., 1., 0., 1., 1., 0., 1., 1., 0., 0.,\n",
       "       1., 0., 1., 1., 1., 0., 0., 1., 1., 0., 1., 1., 1., 1., 0., 0., 0.,\n",
       "       1., 1., 0., 0., 0., 1., 0., 0., 1., 1., 0., 0., 0., 0., 0., 0., 1.,\n",
       "       1., 0., 1., 1.], dtype=float32)"
      ]
     },
     "execution_count": 15,
     "metadata": {},
     "output_type": "execute_result"
    }
   ],
   "source": [
    "y_preds[:, -1]"
   ]
  },
  {
   "cell_type": "markdown",
   "metadata": {},
   "source": [
    "Checking data"
   ]
  },
  {
   "cell_type": "code",
   "execution_count": 16,
   "metadata": {},
   "outputs": [
    {
     "data": {
      "text/plain": [
       "<function matplotlib.pyplot.show(close=None, block=None)>"
      ]
     },
     "execution_count": 16,
     "metadata": {},
     "output_type": "execute_result"
    },
    {
     "data": {
      "image/png": "[encoded data removed]",
      "text/plain": [
       "<Figure size 640x480 with 1 Axes>"
      ]
     },
     "metadata": {},
     "output_type": "display_data"
    }
   ],
   "source": [
    "loss = bf.history['loss']\n",
    "val_loss = bf.history['val_loss']\n",
    "epochs = range(1, len(loss) + 1)\n",
    "\n",
    "plt.plot(epochs, loss, 'r', label = 'Training set')\n",
    "plt.plot(epochs, val_loss, 'b', label = 'Validation set')\n",
    "plt.xlabel('Epochs')\n",
    "plt.ylabel('Loss')\n",
    "plt.legend()\n",
    "plt.show"
   ]
  },
  {
   "cell_type": "code",
   "execution_count": 17,
   "metadata": {},
   "outputs": [
    {
     "data": {
      "text/plain": [
       "<function matplotlib.pyplot.show(close=None, block=None)>"
      ]
     },
     "execution_count": 17,
     "metadata": {},
     "output_type": "execute_result"
    },
    {
     "data": {
      "image/png": "[encoded data removed]",
      "text/plain": [
       "<Figure size 640x480 with 1 Axes>"
      ]
     },
     "metadata": {},
     "output_type": "display_data"
    }
   ],
   "source": [
    "loss = bf.history['accuracy']\n",
    "val_loss = bf.history['val_accuracy']\n",
    "epochs = range(1, len(loss) + 1)\n",
    "\n",
    "\n",
    "plt.plot(epochs, loss, 'r', label = 'Training set')\n",
    "plt.plot(epochs, val_loss, 'b', label = 'Validation set')\n",
    "plt.xlabel('Epochs')\n",
    "plt.ylabel('Accuracy')\n",
    "plt.legend()\n",
    "plt.show"
   ]
  },
  {
   "cell_type": "markdown",
   "metadata": {},
   "source": [
    "## SVM with TF-IDF"
   ]
  },
  {
   "cell_type": "code",
   "execution_count": 18,
   "metadata": {},
   "outputs": [
    {
     "name": "stdout",
     "output_type": "stream",
     "text": [
      "max_words-->380\n",
      "max_words-->380\n"
     ]
    }
   ],
   "source": [
    "X_pp_idf = pp_x(X, emb = False)\n",
    "Xt_pp_idf = pp_x(Xt, emb = False)"
   ]
  },
  {
   "cell_type": "code",
   "execution_count": 19,
   "metadata": {},
   "outputs": [],
   "source": [
    "tfidf = TfidfVectorizer(lowercase=False)"
   ]
  },
  {
   "cell_type": "code",
   "execution_count": 20,
   "metadata": {},
   "outputs": [],
   "source": [
    "separator = ' '\n",
    "\n",
    "X_pp_joined = np.empty(1400, dtype=object)\n",
    "for i in range(len(X_pp_idf)):\n",
    "  X_pp_joined[i] = separator.join(X_pp_idf[i])"
   ]
  },
  {
   "cell_type": "code",
   "execution_count": 21,
   "metadata": {},
   "outputs": [
    {
     "name": "stdout",
     "output_type": "stream",
     "text": [
      "['recently', 'stayed', 'james', 'chicago', 'returning', 'anytime', 'soon', 'staff', 'unfriendly', 'say', 'least', 'price', 'outrageous', 'also', 'fan', 'fact', 'allow', 'pet', 'guest', 'enough', 'space', 'gym', 'lack', 'variety', 'equipment', 'limit', 'option', 'severely', 'ultimately', 'unimpressed', 'service', 'whole', 'would', 'recommend', 'avoid', 'establishment', '', '', '', '', '', '', '', '', '', '', '', '', '', '', '', '', '', '', '', '', '', '', '', '', '', '', '', '', '', '', '', '', '', '', '', '', '', '', '', '', '', '', '', '', '', '', '', '', '', '', '', '', '', '', '', '', '', '', '', '', '', '', '', '', '', '', '', '', '', '', '', '', '', '', '', '', '', '', '', '', '', '', '', '', '', '', '', '', '', '', '', '', '', '', '', '', '', '', '', '', '', '', '', '', '', '', '', '', '', '', '', '', '', '', '', '', '', '', '', '', '', '', '', '', '', '', '', '', '', '', '', '', '', '', '', '', '', '', '', '', '', '', '', '', '', '', '', '', '', '', '', '', '', '', '', '', '', '', '', '', '', '', '', '', '', '', '', '', '', '', '', '', '', '', '', '', '', '', '', '', '', '', '', '', '', '', '', '', '', '', '', '', '', '', '', '', '', '', '', '', '', '', '', '', '', '', '', '', '', '', '', '', '', '', '', '', '', '', '', '', '', '', '', '', '', '', '', '', '', '', '', '', '', '', '', '', '', '', '', '', '', '', '', '', '', '', '', '', '', '', '', '', '', '', '', '', '', '', '', '', '', '', '', '', '', '', '', '', '', '', '', '', '', '', '', '', '', '', '', '', '', '', '', '', '', '', '', '', '', '', '', '', '', '', '', '', '', '', '', '', '', '', '', '', '', '', '', '', '', '', '', '', '', '', '', '', '', '', '', '', '', '', '', '', '', '', '', '', '', '', '', '', '', '', '', '', '', '', '', '', '', '', '', '']\n",
      "recently stayed james chicago returning anytime soon staff unfriendly say least price outrageous also fan fact allow pet guest enough space gym lack variety equipment limit option severely ultimately unimpressed service whole would recommend avoid establishment                                                                                                                                                                                                                                                                                                                                                        \n"
     ]
    }
   ],
   "source": [
    "j=50\n",
    "print(X_pp_idf[j])\n",
    "print(X_pp_joined[j])"
   ]
  },
  {
   "cell_type": "code",
   "execution_count": 22,
   "metadata": {},
   "outputs": [
    {
     "name": "stdout",
     "output_type": "stream",
     "text": [
      "(1400, 8032)\n"
     ]
    }
   ],
   "source": [
    "tfidf_result = tfidf.fit_transform(X_pp_joined)\n",
    "print(tfidf_result.shape)"
   ]
  },
  {
   "cell_type": "code",
   "execution_count": 23,
   "metadata": {},
   "outputs": [],
   "source": [
    "from sklearn.model_selection import cross_val_score\n",
    "\n",
    "#classifier = MultiOutputClassifier(SVC(kernel='linear'))\n",
    "classifier = SVC(kernel='rbf')\n",
    "# Create an SVM classifier\n",
    "#classifier = (SVC(kernel='linear'))\n",
    "\n",
    "from sklearn.model_selection import RepeatedStratifiedKFold\n",
    "\n",
    "#cross_val = RepeatedStratifiedKFold(n_splits=20, n_repeats=10)\n",
    "#scores = cross_val_score(classifier, tfidf_result, yr, cv=cross_val)"
   ]
  },
  {
   "cell_type": "code",
   "execution_count": 24,
   "metadata": {},
   "outputs": [],
   "source": [
    "#print(scores.shape)\n",
    "#print(np.average(scores), np.std(scores))"
   ]
  },
  {
   "cell_type": "markdown",
   "metadata": {},
   "source": [
    "RepeatedStratifiedKFold(n_splits=20, n_repeats=10) \\\\\n",
    "rbf 0.8762857142857143 0.03643389316870448 \\\\\n",
    "linear 0.8766428571428573 0.03452823452758389 \\\\\n",
    "sigmoid 0.8762857142857143 0.037646042153139\n"
   ]
  },
  {
   "cell_type": "code",
   "execution_count": 42,
   "metadata": {},
   "outputs": [
    {
     "name": "stdout",
     "output_type": "stream",
     "text": [
      "(1260, 8032)\n"
     ]
    }
   ],
   "source": [
    "from sklearn.model_selection import train_test_split\n",
    "X_train, X_val, y_train, y_val = train_test_split(tfidf_result, y, test_size=0.1, shuffle= True, random_state=42)\n",
    "print(X_train.shape)"
   ]
  },
  {
   "cell_type": "code",
   "execution_count": 43,
   "metadata": {},
   "outputs": [
    {
     "name": "stdout",
     "output_type": "stream",
     "text": [
      "[[55  4]\n",
      " [12 69]]\n",
      "              precision    recall  f1-score   support\n",
      "\n",
      "         0.0       0.82      0.93      0.87        59\n",
      "         1.0       0.95      0.85      0.90        81\n",
      "\n",
      "    accuracy                           0.89       140\n",
      "   macro avg       0.88      0.89      0.88       140\n",
      "weighted avg       0.89      0.89      0.89       140\n",
      "\n",
      "Accuracy score: 0.8857142857142857\n"
     ]
    }
   ],
   "source": [
    "# Train the classifier\n",
    "classifier.fit(X_train, y_train[:,0])\n",
    "\n",
    "# Predict on the test set\n",
    "y_pred = classifier.predict(X_val)\n",
    "\n",
    "# Evaluate the classifiers\n",
    "from sklearn.metrics import accuracy_score, confusion_matrix, multilabel_confusion_matrix, classification_report, average_precision_score\n",
    "\n",
    "accuracy_s = accuracy_score(y_val[:,0], y_pred)\n",
    "\n",
    "#print(multilabel_confusion_matrix(y_val, y_pred))\n",
    "print(confusion_matrix(y_val[:,0], y_pred))\n",
    "print(classification_report(y_val[:,0], y_pred))\n",
    "print(\"Accuracy score:\",  accuracy_s)"
   ]
  },
  {
   "cell_type": "code",
   "execution_count": 44,
   "metadata": {},
   "outputs": [
    {
     "data": {
      "text/plain": [
       "'\\nfor i in range(len(y_pred)):\\n    if y_pred[i] == \"TRUTHFUL\":\\n        y_pred[i] = 1\\n    else:\\n        y_pred[i] = 0\\n\\nfor i in range(len(y_val)):\\n    if y_val[i][1] == \"POSITIVE\":\\n        y_val[i][1] = 1\\n    else:\\n        y_val[i][1] = 0\\n\\n    if y_val[i][0] == \"TRUTHFUL\":\\n        y_val[i][0] = 1\\n    else:\\n        y_val[i][0] = 0\\n'"
      ]
     },
     "execution_count": 44,
     "metadata": {},
     "output_type": "execute_result"
    }
   ],
   "source": [
    "\n",
    "'''\n",
    "for i in range(len(y_pred)):\n",
    "    if y_pred[i] == \"TRUTHFUL\":\n",
    "        y_pred[i] = 1\n",
    "    else:\n",
    "        y_pred[i] = 0\n",
    "\n",
    "for i in range(len(y_val)):\n",
    "    if y_val[i][1] == \"POSITIVE\":\n",
    "        y_val[i][1] = 1\n",
    "    else:\n",
    "        y_val[i][1] = 0\n",
    "\n",
    "    if y_val[i][0] == \"TRUTHFUL\":\n",
    "        y_val[i][0] = 1\n",
    "    else:\n",
    "        y_val[i][0] = 0\n",
    "'''"
   ]
  },
  {
   "cell_type": "code",
   "execution_count": 45,
   "metadata": {},
   "outputs": [
    {
     "name": "stdout",
     "output_type": "stream",
     "text": [
      "(140,) (140,)\n",
      "[1. 1. 1. 1. 0. 1. 1. 0. 1. 0. 0. 1. 1. 0. 1. 1. 1. 0. 0. 1. 0. 1. 1. 0.\n",
      " 0. 0. 0. 0. 1. 0. 1. 0. 0. 0. 0. 0. 1. 1. 0. 1. 0. 0. 1. 1. 0. 1. 0. 1.\n",
      " 1. 0. 0. 1. 0. 0. 0. 1. 1. 0. 1. 1. 0. 1. 1. 0. 1. 0. 0. 0. 1. 0. 0. 0.\n",
      " 1. 1. 0. 0. 1. 1. 0. 0. 1. 1. 0. 1. 1. 0. 0. 0. 1. 0. 1. 1. 0. 1. 0. 1.\n",
      " 1. 0. 1. 1. 0. 0. 1. 0. 1. 1. 1. 0. 0. 1. 1. 0. 1. 1. 1. 1. 0. 0. 0. 1.\n",
      " 1. 0. 0. 0. 1. 0. 0. 1. 1. 0. 0. 0. 0. 0. 0. 1. 1. 0. 1. 1.]\n",
      "int64\n",
      "[[[55  4]\n",
      "  [12 69]]\n",
      "\n",
      " [[68  6]\n",
      "  [ 3 63]]]\n",
      "              precision    recall  f1-score   support\n",
      "\n",
      "           0       0.95      0.85      0.90        81\n",
      "           1       0.91      0.95      0.93        66\n",
      "\n",
      "   micro avg       0.93      0.90      0.91       147\n",
      "   macro avg       0.93      0.90      0.91       147\n",
      "weighted avg       0.93      0.90      0.91       147\n",
      " samples avg       0.71      0.71      0.70       147\n",
      "\n",
      "Accuracy 0.8285714285714286\n"
     ]
    },
    {
     "name": "stderr",
     "output_type": "stream",
     "text": [
      "/Users/nunomachado/opt/anaconda3/envs/LN23/lib/python3.8/site-packages/sklearn/metrics/_classification.py:1344: UndefinedMetricWarning: Precision and F-score are ill-defined and being set to 0.0 in samples with no predicted labels. Use `zero_division` parameter to control this behavior.\n",
      "  _warn_prf(average, modifier, msg_start, len(result))\n",
      "/Users/nunomachado/opt/anaconda3/envs/LN23/lib/python3.8/site-packages/sklearn/metrics/_classification.py:1344: UndefinedMetricWarning: Recall and F-score are ill-defined and being set to 0.0 in samples with no true labels. Use `zero_division` parameter to control this behavior.\n",
      "  _warn_prf(average, modifier, msg_start, len(result))\n"
     ]
    }
   ],
   "source": [
    "sentiment_pred = np.load('sentiment_pred.npy')\n",
    "print(y_pred.shape, sentiment_pred.shape)\n",
    "\n",
    "for i in range(len(sentiment_pred)):\n",
    "    if sentiment_pred[i] == 1.0:\n",
    "        sentiment_pred[i] = 1\n",
    "    else:\n",
    "        sentiment_pred[i] = 0\n",
    "print(sentiment_pred)\n",
    "y_all_predictions = np.concatenate((y_pred.reshape(140, 1), sentiment_pred.reshape(140, 1)), axis=1)\n",
    "y_all_predictions = y_all_predictions.astype('int')\n",
    "y_val = y_val.astype('int')\n",
    "\n",
    "print(y_all_predictions.dtype)\n",
    "\n",
    "\n",
    "# Evaluate the classifiers\n",
    "from sklearn.metrics import accuracy_score, confusion_matrix, multilabel_confusion_matrix, classification_report, average_precision_score\n",
    "\n",
    "#print(y_val, y_all_predictions)\n",
    "accuracy_s = accuracy_score(y_val, y_all_predictions)\n",
    "\n",
    "print(multilabel_confusion_matrix(y_val, y_all_predictions))\n",
    "#print(confusion_matrix(y_val, y_all_predictions))\n",
    "print(classification_report(y_val, y_all_predictions))\n",
    "print('Accuracy', accuracy_s)\n"
   ]
  },
  {
   "cell_type": "code",
   "execution_count": 46,
   "metadata": {},
   "outputs": [
    {
     "name": "stdout",
     "output_type": "stream",
     "text": [
      "y_all_predictions-->[[0 1]\n",
      " [1 1]\n",
      " [1 1]\n",
      " [0 1]\n",
      " [1 0]\n",
      " [1 1]\n",
      " [0 1]\n",
      " [0 0]\n",
      " [0 1]\n",
      " [1 0]\n",
      " [1 0]\n",
      " [0 1]\n",
      " [0 1]\n",
      " [1 0]\n",
      " [0 1]\n",
      " [0 1]\n",
      " [1 1]\n",
      " [1 0]\n",
      " [1 0]\n",
      " [0 1]\n",
      " [1 0]\n",
      " [0 1]\n",
      " [0 1]\n",
      " [1 0]\n",
      " [0 0]\n",
      " [1 0]\n",
      " [1 0]\n",
      " [0 0]\n",
      " [1 1]\n",
      " [1 0]\n",
      " [1 1]\n",
      " [0 0]\n",
      " [0 0]\n",
      " [1 0]\n",
      " [0 0]\n",
      " [0 0]\n",
      " [1 1]\n",
      " [0 1]\n",
      " [1 0]\n",
      " [0 1]\n",
      " [0 0]\n",
      " [0 0]\n",
      " [1 1]\n",
      " [0 1]\n",
      " [0 0]\n",
      " [1 1]\n",
      " [1 0]\n",
      " [0 1]\n",
      " [1 1]\n",
      " [0 0]\n",
      " [0 0]\n",
      " [1 1]\n",
      " [0 0]\n",
      " [1 0]\n",
      " [0 0]\n",
      " [1 1]\n",
      " [1 1]\n",
      " [1 0]\n",
      " [0 1]\n",
      " [1 1]\n",
      " [1 0]\n",
      " [1 1]\n",
      " [1 1]\n",
      " [0 0]\n",
      " [0 1]\n",
      " [1 0]\n",
      " [1 0]\n",
      " [0 0]\n",
      " [1 1]\n",
      " [0 0]\n",
      " [1 0]\n",
      " [1 0]\n",
      " [1 1]\n",
      " [0 1]\n",
      " [0 0]\n",
      " [1 0]\n",
      " [1 1]\n",
      " [0 1]\n",
      " [0 0]\n",
      " [0 0]\n",
      " [1 1]\n",
      " [1 1]\n",
      " [1 0]\n",
      " [0 1]\n",
      " [0 1]\n",
      " [1 0]\n",
      " [1 0]\n",
      " [1 0]\n",
      " [0 1]\n",
      " [0 0]\n",
      " [1 1]\n",
      " [1 1]\n",
      " [1 0]\n",
      " [1 1]\n",
      " [1 0]\n",
      " [1 1]\n",
      " [1 1]\n",
      " [1 0]\n",
      " [1 1]\n",
      " [1 1]\n",
      " [1 0]\n",
      " [1 0]\n",
      " [0 1]\n",
      " [0 0]\n",
      " [0 1]\n",
      " [1 1]\n",
      " [1 1]\n",
      " [0 0]\n",
      " [1 0]\n",
      " [0 1]\n",
      " [0 1]\n",
      " [1 0]\n",
      " [1 1]\n",
      " [1 1]\n",
      " [1 1]\n",
      " [0 1]\n",
      " [1 0]\n",
      " [0 0]\n",
      " [0 0]\n",
      " [0 1]\n",
      " [1 1]\n",
      " [1 0]\n",
      " [0 0]\n",
      " [0 0]\n",
      " [0 1]\n",
      " [0 0]\n",
      " [0 0]\n",
      " [1 1]\n",
      " [1 1]\n",
      " [0 0]\n",
      " [0 0]\n",
      " [1 0]\n",
      " [0 0]\n",
      " [1 0]\n",
      " [0 0]\n",
      " [0 1]\n",
      " [0 1]\n",
      " [0 0]\n",
      " [0 1]\n",
      " [0 1]]\n",
      "y_all_predictions.shape-->(140, 2)\n"
     ]
    }
   ],
   "source": [
    "print(f\"y_all_predictions-->{y_all_predictions}\")\n",
    "print(f\"y_all_predictions.shape-->{y_all_predictions.shape}\")"
   ]
  },
  {
   "cell_type": "code",
   "execution_count": 47,
   "metadata": {},
   "outputs": [
    {
     "name": "stdout",
     "output_type": "stream",
     "text": [
      "y_val-->[[0 1]\n",
      " [1 1]\n",
      " [1 0]\n",
      " [0 1]\n",
      " [1 0]\n",
      " [1 1]\n",
      " [0 1]\n",
      " [0 0]\n",
      " [0 1]\n",
      " [1 0]\n",
      " [1 0]\n",
      " [1 1]\n",
      " [1 1]\n",
      " [1 0]\n",
      " [0 1]\n",
      " [1 1]\n",
      " [1 1]\n",
      " [0 0]\n",
      " [1 0]\n",
      " [0 1]\n",
      " [1 0]\n",
      " [0 1]\n",
      " [0 1]\n",
      " [1 0]\n",
      " [1 1]\n",
      " [1 0]\n",
      " [1 0]\n",
      " [0 0]\n",
      " [1 1]\n",
      " [1 0]\n",
      " [1 1]\n",
      " [0 0]\n",
      " [0 0]\n",
      " [1 1]\n",
      " [0 0]\n",
      " [0 0]\n",
      " [1 1]\n",
      " [0 1]\n",
      " [1 0]\n",
      " [0 1]\n",
      " [0 0]\n",
      " [0 0]\n",
      " [1 1]\n",
      " [1 1]\n",
      " [0 0]\n",
      " [1 1]\n",
      " [0 0]\n",
      " [0 1]\n",
      " [1 1]\n",
      " [0 0]\n",
      " [0 0]\n",
      " [1 1]\n",
      " [0 0]\n",
      " [1 0]\n",
      " [0 0]\n",
      " [1 1]\n",
      " [0 1]\n",
      " [1 0]\n",
      " [0 1]\n",
      " [1 1]\n",
      " [1 0]\n",
      " [1 1]\n",
      " [1 0]\n",
      " [0 0]\n",
      " [0 1]\n",
      " [1 0]\n",
      " [1 0]\n",
      " [0 0]\n",
      " [1 1]\n",
      " [1 0]\n",
      " [1 0]\n",
      " [1 0]\n",
      " [1 1]\n",
      " [0 0]\n",
      " [0 0]\n",
      " [1 0]\n",
      " [1 1]\n",
      " [0 1]\n",
      " [0 0]\n",
      " [0 0]\n",
      " [1 1]\n",
      " [1 0]\n",
      " [1 0]\n",
      " [0 1]\n",
      " [1 1]\n",
      " [1 0]\n",
      " [1 0]\n",
      " [1 0]\n",
      " [0 1]\n",
      " [0 0]\n",
      " [1 1]\n",
      " [0 1]\n",
      " [1 0]\n",
      " [1 0]\n",
      " [1 0]\n",
      " [1 0]\n",
      " [1 1]\n",
      " [1 0]\n",
      " [1 1]\n",
      " [1 1]\n",
      " [1 0]\n",
      " [1 0]\n",
      " [1 1]\n",
      " [0 0]\n",
      " [0 1]\n",
      " [1 1]\n",
      " [1 1]\n",
      " [0 0]\n",
      " [1 0]\n",
      " [0 1]\n",
      " [0 1]\n",
      " [1 0]\n",
      " [1 1]\n",
      " [1 1]\n",
      " [1 1]\n",
      " [0 1]\n",
      " [1 0]\n",
      " [0 0]\n",
      " [0 0]\n",
      " [0 1]\n",
      " [1 1]\n",
      " [1 0]\n",
      " [0 0]\n",
      " [0 0]\n",
      " [0 1]\n",
      " [1 0]\n",
      " [0 0]\n",
      " [1 1]\n",
      " [1 1]\n",
      " [0 0]\n",
      " [0 0]\n",
      " [1 0]\n",
      " [1 0]\n",
      " [1 1]\n",
      " [1 0]\n",
      " [0 1]\n",
      " [0 1]\n",
      " [1 0]\n",
      " [0 1]\n",
      " [0 1]]\n",
      "y_val.shape-->[[0 1]\n",
      " [1 1]\n",
      " [1 0]\n",
      " [0 1]\n",
      " [1 0]\n",
      " [1 1]\n",
      " [0 1]\n",
      " [0 0]\n",
      " [0 1]\n",
      " [1 0]\n",
      " [1 0]\n",
      " [1 1]\n",
      " [1 1]\n",
      " [1 0]\n",
      " [0 1]\n",
      " [1 1]\n",
      " [1 1]\n",
      " [0 0]\n",
      " [1 0]\n",
      " [0 1]\n",
      " [1 0]\n",
      " [0 1]\n",
      " [0 1]\n",
      " [1 0]\n",
      " [1 1]\n",
      " [1 0]\n",
      " [1 0]\n",
      " [0 0]\n",
      " [1 1]\n",
      " [1 0]\n",
      " [1 1]\n",
      " [0 0]\n",
      " [0 0]\n",
      " [1 1]\n",
      " [0 0]\n",
      " [0 0]\n",
      " [1 1]\n",
      " [0 1]\n",
      " [1 0]\n",
      " [0 1]\n",
      " [0 0]\n",
      " [0 0]\n",
      " [1 1]\n",
      " [1 1]\n",
      " [0 0]\n",
      " [1 1]\n",
      " [0 0]\n",
      " [0 1]\n",
      " [1 1]\n",
      " [0 0]\n",
      " [0 0]\n",
      " [1 1]\n",
      " [0 0]\n",
      " [1 0]\n",
      " [0 0]\n",
      " [1 1]\n",
      " [0 1]\n",
      " [1 0]\n",
      " [0 1]\n",
      " [1 1]\n",
      " [1 0]\n",
      " [1 1]\n",
      " [1 0]\n",
      " [0 0]\n",
      " [0 1]\n",
      " [1 0]\n",
      " [1 0]\n",
      " [0 0]\n",
      " [1 1]\n",
      " [1 0]\n",
      " [1 0]\n",
      " [1 0]\n",
      " [1 1]\n",
      " [0 0]\n",
      " [0 0]\n",
      " [1 0]\n",
      " [1 1]\n",
      " [0 1]\n",
      " [0 0]\n",
      " [0 0]\n",
      " [1 1]\n",
      " [1 0]\n",
      " [1 0]\n",
      " [0 1]\n",
      " [1 1]\n",
      " [1 0]\n",
      " [1 0]\n",
      " [1 0]\n",
      " [0 1]\n",
      " [0 0]\n",
      " [1 1]\n",
      " [0 1]\n",
      " [1 0]\n",
      " [1 0]\n",
      " [1 0]\n",
      " [1 0]\n",
      " [1 1]\n",
      " [1 0]\n",
      " [1 1]\n",
      " [1 1]\n",
      " [1 0]\n",
      " [1 0]\n",
      " [1 1]\n",
      " [0 0]\n",
      " [0 1]\n",
      " [1 1]\n",
      " [1 1]\n",
      " [0 0]\n",
      " [1 0]\n",
      " [0 1]\n",
      " [0 1]\n",
      " [1 0]\n",
      " [1 1]\n",
      " [1 1]\n",
      " [1 1]\n",
      " [0 1]\n",
      " [1 0]\n",
      " [0 0]\n",
      " [0 0]\n",
      " [0 1]\n",
      " [1 1]\n",
      " [1 0]\n",
      " [0 0]\n",
      " [0 0]\n",
      " [0 1]\n",
      " [1 0]\n",
      " [0 0]\n",
      " [1 1]\n",
      " [1 1]\n",
      " [0 0]\n",
      " [0 0]\n",
      " [1 0]\n",
      " [1 0]\n",
      " [1 1]\n",
      " [1 0]\n",
      " [0 1]\n",
      " [0 1]\n",
      " [1 0]\n",
      " [0 1]\n",
      " [0 1]]\n"
     ]
    }
   ],
   "source": [
    "print(f\"y_val-->{y_val}\")\n",
    "print(f\"y_val.shape-->{y_val}\")"
   ]
  },
  {
   "cell_type": "code",
   "execution_count": 48,
   "metadata": {},
   "outputs": [],
   "source": [
    "for i in range(len(y_all_predictions)):\n",
    "    if y_all_predictions[i][1] == 1.0:\n",
    "        y_all_predictions[i][1] = 1\n",
    "    else:\n",
    "        y_all_predictions[i][1] = 0\n",
    "\n",
    "#print(y_all_predictions)"
   ]
  }
 ],
 "metadata": {
  "kernelspec": {
   "display_name": "LN23",
   "language": "python",
   "name": "python3"
  },
  "language_info": {
   "codemirror_mode": {
    "name": "ipython",
    "version": 3
   },
   "file_extension": ".py",
   "mimetype": "text/x-python",
   "name": "python",
   "nbconvert_exporter": "python",
   "pygments_lexer": "ipython3",
   "version": "3.8.18"
  }
 },
 "nbformat": 4,
 "nbformat_minor": 2
}
